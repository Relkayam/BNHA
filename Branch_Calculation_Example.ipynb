{
 "cells": [
  {
   "metadata": {},
   "cell_type": "markdown",
   "source": [
    "# Branch Network Optimization – Full Example\n",
    "\n",
    "This notebook provides a full example of using the `branch_calculation` package to analyze and optimize a branch network. It includes loading a network from a CSV file, analyzing the network, and performing both full section and classic optimization for optimal pipe diameters."
   ],
   "id": "a492b153039a564f"
  },
  {
   "metadata": {},
   "cell_type": "markdown",
   "source": [
    "1. go to (https://github.com/Relkayam/hydronet/tree/main/data_templates) and download the `network_tree_template.csv` and `pipe_prices.xlsx` files.\n",
    "2. Place the downloaded files in a directory named `data_templates` at the same level as this notebook.\n",
    "3. Follow the template in `network_tree_template.csv` to create your own network data. The template includes columns for branch names, diameters, lengths, elevations, and other necessary parameters.\n",
    "4. Edit the pipe prices in `pipe_prices.xlsx` to match your specific requirements. The file should contain the cost per meter for different pipe diameters.\n",
    "5. install the `branch_calculation` package by running the following command in your terminal:\n",
    "6. ```bash\n",
    "    pip install branch_calculation\n",
    "    ```\n"
   ],
   "id": "95d976e8bd1fbea8"
  },
  {
   "metadata": {},
   "cell_type": "code",
   "outputs": [],
   "execution_count": null,
   "source": [
    "import pandas as pd\n",
    "import os\n",
    "\n",
    "# Load example network CSV (user must provide this)\n",
    "project_path = os.getcwd()\n",
    "data_dir = os.path.join(project_path, \"data_templates\")\n",
    "csv_path = \"network_tree_template.csv\"\n",
    "pipe_prices = \"pipe_prices.xlsx\"\n",
    "df = pd.read_csv(os.path.join(data_dir, csv_path))\n",
    "pipe_prices = pd.read_excel(os.path.join(data_dir, pipe_prices))\n"
   ],
   "id": "fbad614d53fa8914"
  },
  {
   "metadata": {},
   "cell_type": "code",
   "outputs": [],
   "execution_count": null,
   "source": [
    "# load the network data\n",
    "from branch_calculation.network import BranchNetwork\n",
    "\n",
    "# Initialize network and system settings\n",
    "net = BranchNetwork()\n",
    "net.set_system_data(reservoir_elevation=300, reservoir_total_head=300)\n",
    "net.load_from_dataframe(df)"
   ],
   "id": "510743032be4b5bf"
  },
  {
   "metadata": {},
   "cell_type": "markdown",
   "source": "After loading the network, you can view the branches and their properties: Calculations can be performed using various diameters and lengths.",
   "id": "5fee3406e3ff7a02"
  },
  {
   "metadata": {},
   "cell_type": "code",
   "outputs": [],
   "execution_count": null,
   "source": [
    "from branch_calculation.analysis import analyze_network\n",
    "from branch_calculation.plots import plot_branches\n",
    "\n",
    "\n",
    "# Analyze network\n",
    "results = analyze_network(net)\n",
    "df_results = results['df_res']\n",
    "print(df_results)\n",
    "\n",
    "# Print summary\n",
    "for k, v in results['summary'].items():\n",
    "    print(f\"{k}: {v}\")\n",
    "\n",
    "(print('Here are the available keys in results through \"analyze_network\" function:'))\n",
    "print(results.keys())\n",
    "\n",
    "for key, value in results.items():\n",
    "    if isinstance(value, pd.DataFrame):\n",
    "        print(f\"{key}:\\n{value}\\n\")\n",
    "    else:\n",
    "        print(f\"{key}: {value}\")\n",
    "\n",
    "plots = plot_branches(results['results_branch'], minimum_pressure_constraint=2)\n"
   ],
   "id": "b782b428ba92a494"
  },
  {
   "metadata": {},
   "cell_type": "code",
   "outputs": [],
   "execution_count": null,
   "source": [
    "from branch_calculation.optimizer import full_section_optimal_diameter\n",
    "from branch_calculation.plots import plot_branches\n",
    "\n",
    "\n",
    "(print('=== Optimization for full section and classic methods  ==='))\n",
    "# Perform optimization for full section and classic methods\n",
    "results = full_section_optimal_diameter(net, pipe_prices, minimum_pressure_constraint=2)\n",
    "print('Here are the available keys in results through \"full_section_optimal_diameter\" function:')\n",
    "print(results.keys())\n",
    "\n",
    "\n",
    "for key, value in results.items():\n",
    "    if isinstance(value, pd.DataFrame):\n",
    "        print(f\"{key}:\\n{value}\\n\")\n",
    "    else:\n",
    "        print(f\"{key}: {value}\")\n",
    "\n",
    "plot_branches(results['results_branch'], minimum_pressure_constraint=2)\n",
    "\n"
   ],
   "id": "69e8b1cbfd7e7bbd"
  },
  {
   "metadata": {
    "ExecuteTime": {
     "end_time": "2025-06-22T15:35:46.736333Z",
     "start_time": "2025-06-22T15:35:45.189803Z"
    }
   },
   "cell_type": "code",
   "outputs": [
    {
     "name": "stdout",
     "output_type": "stream",
     "text": [
      "  var_name Pipe_ID  Diameter_m  Diameter_mm  Velocity_m_s       Reynolds  \\\n",
      "0   [None]      p2         0.5        500.0      0.212207  105680.573102   \n",
      "1   [None]      p1         0.5        500.0      0.226354  112725.944642   \n",
      "2   [None]      p4         0.5        500.0      0.070736   35226.857701   \n",
      "3   [None]      p6         0.5        500.0      0.141471   70453.715401   \n",
      "4   [None]      p5         0.5        500.0      0.014147    7045.371540   \n",
      "5   [None]      p3         0.5        500.0      0.070736   35226.857701   \n",
      "\n",
      "  cost_USD_per_meter Start_Junction End_Junction  length_m cost_USD  \\\n",
      "0             [None]              a            b       500   [None]   \n",
      "1             [None]         source            a      1000   [None]   \n",
      "2             [None]              c           v1       700   [None]   \n",
      "3             [None]              b           v3      2000   [None]   \n",
      "4             [None]              a           v2       300   [None]   \n",
      "5             [None]              b            c       200   [None]   \n",
      "\n",
      "   End_Junction_Elevation_m  static_head  Flow_cms  flow_cmh      dz  hwc  \\\n",
      "0                       270   299.850412  0.041667     150.0  [None]  140   \n",
      "1                       250   299.896383  0.044444     160.0  [None]  140   \n",
      "2                       230   299.839594  0.013889      50.0  [None]  140   \n",
      "3                       240   299.763630  0.027778     100.0  [None]  140   \n",
      "4                       230   299.896200  0.002778      10.0  [None]  140   \n",
      "5                       250   299.848008  0.013889      50.0  [None]  140   \n",
      "\n",
      "  end_junc_path hydraulic_gradient_per_m headloss_per_m lp_vars Results  \\\n",
      "0         p1,p2                   [None]         [None]  [None]  [None]   \n",
      "1            p1                   [None]         [None]  [None]  [None]   \n",
      "2   p1,p2,p3,p4                   [None]         [None]  [None]  [None]   \n",
      "3      p1,p2,p6                   [None]         [None]  [None]  [None]   \n",
      "4         p1,p5                   [None]         [None]  [None]  [None]   \n",
      "5      p1,p2,p3                   [None]         [None]  [None]  [None]   \n",
      "\n",
      "  pipe_updated headloss end_junc_path_updated  branch_end corrected_dz  \\\n",
      "0       [None]   [None]                [None]           0       [None]   \n",
      "1       [None]   [None]                [None]           0       [None]   \n",
      "2       [None]   [None]                [None]           1       [None]   \n",
      "3       [None]   [None]                [None]           1       [None]   \n",
      "4       [None]   [None]                [None]           1       [None]   \n",
      "5       [None]   [None]                [None]           0       [None]   \n",
      "\n",
      "   total_head_losses  Total_Head_m  Pressure_Head_m  Distance_from_Source_m  \n",
      "0          29.850412    299.850412        29.850412                  1500.0  \n",
      "1          49.896383    299.896383        49.896383                  1000.0  \n",
      "2          69.839594    299.839594        69.839594                  2400.0  \n",
      "3          59.763630    299.763630        59.763630                  3500.0  \n",
      "4          69.896200    299.896200        69.896200                  1300.0  \n",
      "5          49.848008    299.848008        49.848008                  1700.0  \n",
      "\n",
      "=== SYSTEM SUMMARY ===\n",
      "total_head_loss: 0.2363703824156005\n",
      "min_pressure_head: 29.85041159714325\n",
      "max_velocity: 0.22635369684180673\n",
      "pressure_adequate: True\n",
      "velocity_acceptable: True\n",
      "critical_node: b\n",
      "=== 1  ===\n",
      "dict_keys(['summary', 'branches_end', 'results_branch', 'df_res', 'pipes_summery'])\n",
      "summary: {'total_head_loss': np.float64(0.2363703824156005), 'min_pressure_head': np.float64(29.85041159714325), 'max_velocity': np.float64(0.22635369684180673), 'pressure_adequate': np.True_, 'velocity_acceptable': np.True_, 'critical_node': 'b'}\n",
      "branches_end: ['p1,p2,p3,p4', 'p1,p2,p6', 'p1,p5']\n",
      "results_branch: {'p1,p2,p3,p4':   var_name Pipe_ID  Diameter_m  Diameter_mm  Velocity_m_s       Reynolds  \\\n",
      "1   [None]      p1         0.5        500.0      0.226354  112725.944642   \n",
      "0   [None]      p2         0.5        500.0      0.212207  105680.573102   \n",
      "5   [None]      p3         0.5        500.0      0.070736   35226.857701   \n",
      "2   [None]      p4         0.5        500.0      0.070736   35226.857701   \n",
      "\n",
      "  cost_USD_per_meter Start_Junction End_Junction  length_m cost_USD  \\\n",
      "1             [None]         source            a      1000   [None]   \n",
      "0             [None]              a            b       500   [None]   \n",
      "5             [None]              b            c       200   [None]   \n",
      "2             [None]              c           v1       700   [None]   \n",
      "\n",
      "   End_Junction_Elevation_m  static_head  Flow_cms  flow_cmh      dz  hwc  \\\n",
      "1                       250   299.896383  0.044444     160.0  [None]  140   \n",
      "0                       270   299.850412  0.041667     150.0  [None]  140   \n",
      "5                       250   299.848008  0.013889      50.0  [None]  140   \n",
      "2                       230   299.839594  0.013889      50.0  [None]  140   \n",
      "\n",
      "  end_junc_path hydraulic_gradient_per_m headloss_per_m lp_vars Results  \\\n",
      "1            p1                   [None]         [None]  [None]  [None]   \n",
      "0         p1,p2                   [None]         [None]  [None]  [None]   \n",
      "5      p1,p2,p3                   [None]         [None]  [None]  [None]   \n",
      "2   p1,p2,p3,p4                   [None]         [None]  [None]  [None]   \n",
      "\n",
      "  pipe_updated headloss end_junc_path_updated  branch_end corrected_dz  \\\n",
      "1       [None]   [None]                [None]           0       [None]   \n",
      "0       [None]   [None]                [None]           0       [None]   \n",
      "5       [None]   [None]                [None]           0       [None]   \n",
      "2       [None]   [None]                [None]           1       [None]   \n",
      "\n",
      "   total_head_losses  Total_Head_m  Pressure_Head_m  Distance_from_Source_m  \\\n",
      "1          49.896383    299.896383        49.896383                    1000   \n",
      "0          29.850412    299.850412        29.850412                    1500   \n",
      "5          49.848008    299.848008        49.848008                    1700   \n",
      "2          69.839594    299.839594        69.839594                    2400   \n",
      "\n",
      "   sort_index  \n",
      "1         1.0  \n",
      "0         2.0  \n",
      "5         3.0  \n",
      "2         4.0  , 'p1,p2,p6':   var_name Pipe_ID  Diameter_m  Diameter_mm  Velocity_m_s       Reynolds  \\\n",
      "1   [None]      p1         0.5        500.0      0.226354  112725.944642   \n",
      "0   [None]      p2         0.5        500.0      0.212207  105680.573102   \n",
      "3   [None]      p6         0.5        500.0      0.141471   70453.715401   \n",
      "\n",
      "  cost_USD_per_meter Start_Junction End_Junction  length_m cost_USD  \\\n",
      "1             [None]         source            a      1000   [None]   \n",
      "0             [None]              a            b       500   [None]   \n",
      "3             [None]              b           v3      2000   [None]   \n",
      "\n",
      "   End_Junction_Elevation_m  static_head  Flow_cms  flow_cmh      dz  hwc  \\\n",
      "1                       250   299.896383  0.044444     160.0  [None]  140   \n",
      "0                       270   299.850412  0.041667     150.0  [None]  140   \n",
      "3                       240   299.763630  0.027778     100.0  [None]  140   \n",
      "\n",
      "  end_junc_path hydraulic_gradient_per_m headloss_per_m lp_vars Results  \\\n",
      "1            p1                   [None]         [None]  [None]  [None]   \n",
      "0         p1,p2                   [None]         [None]  [None]  [None]   \n",
      "3      p1,p2,p6                   [None]         [None]  [None]  [None]   \n",
      "\n",
      "  pipe_updated headloss end_junc_path_updated  branch_end corrected_dz  \\\n",
      "1       [None]   [None]                [None]           0       [None]   \n",
      "0       [None]   [None]                [None]           0       [None]   \n",
      "3       [None]   [None]                [None]           1       [None]   \n",
      "\n",
      "   total_head_losses  Total_Head_m  Pressure_Head_m  Distance_from_Source_m  \\\n",
      "1          49.896383    299.896383        49.896383                    1000   \n",
      "0          29.850412    299.850412        29.850412                    1500   \n",
      "3          59.763630    299.763630        59.763630                    3500   \n",
      "\n",
      "   sort_index  \n",
      "1         1.0  \n",
      "0         2.0  \n",
      "3         3.0  , 'p1,p5':   var_name Pipe_ID  Diameter_m  Diameter_mm  Velocity_m_s       Reynolds  \\\n",
      "1   [None]      p1         0.5        500.0      0.226354  112725.944642   \n",
      "4   [None]      p5         0.5        500.0      0.014147    7045.371540   \n",
      "\n",
      "  cost_USD_per_meter Start_Junction End_Junction  length_m cost_USD  \\\n",
      "1             [None]         source            a      1000   [None]   \n",
      "4             [None]              a           v2       300   [None]   \n",
      "\n",
      "   End_Junction_Elevation_m  static_head  Flow_cms  flow_cmh      dz  hwc  \\\n",
      "1                       250   299.896383  0.044444     160.0  [None]  140   \n",
      "4                       230   299.896200  0.002778      10.0  [None]  140   \n",
      "\n",
      "  end_junc_path hydraulic_gradient_per_m headloss_per_m lp_vars Results  \\\n",
      "1            p1                   [None]         [None]  [None]  [None]   \n",
      "4         p1,p5                   [None]         [None]  [None]  [None]   \n",
      "\n",
      "  pipe_updated headloss end_junc_path_updated  branch_end corrected_dz  \\\n",
      "1       [None]   [None]                [None]           0       [None]   \n",
      "4       [None]   [None]                [None]           1       [None]   \n",
      "\n",
      "   total_head_losses  Total_Head_m  Pressure_Head_m  Distance_from_Source_m  \\\n",
      "1          49.896383    299.896383        49.896383                    1000   \n",
      "4          69.896200    299.896200        69.896200                    1300   \n",
      "\n",
      "   sort_index  \n",
      "1         1.0  \n",
      "4         2.0  }\n",
      "df_res:\n",
      "  var_name Pipe_ID  Diameter_m  Diameter_mm  Velocity_m_s       Reynolds  \\\n",
      "0   [None]      p2         0.5        500.0      0.212207  105680.573102   \n",
      "1   [None]      p1         0.5        500.0      0.226354  112725.944642   \n",
      "2   [None]      p4         0.5        500.0      0.070736   35226.857701   \n",
      "3   [None]      p6         0.5        500.0      0.141471   70453.715401   \n",
      "4   [None]      p5         0.5        500.0      0.014147    7045.371540   \n",
      "5   [None]      p3         0.5        500.0      0.070736   35226.857701   \n",
      "\n",
      "  cost_USD_per_meter Start_Junction End_Junction  length_m cost_USD  \\\n",
      "0             [None]              a            b       500   [None]   \n",
      "1             [None]         source            a      1000   [None]   \n",
      "2             [None]              c           v1       700   [None]   \n",
      "3             [None]              b           v3      2000   [None]   \n",
      "4             [None]              a           v2       300   [None]   \n",
      "5             [None]              b            c       200   [None]   \n",
      "\n",
      "   End_Junction_Elevation_m  static_head  Flow_cms  flow_cmh      dz  hwc  \\\n",
      "0                       270   299.850412  0.041667     150.0  [None]  140   \n",
      "1                       250   299.896383  0.044444     160.0  [None]  140   \n",
      "2                       230   299.839594  0.013889      50.0  [None]  140   \n",
      "3                       240   299.763630  0.027778     100.0  [None]  140   \n",
      "4                       230   299.896200  0.002778      10.0  [None]  140   \n",
      "5                       250   299.848008  0.013889      50.0  [None]  140   \n",
      "\n",
      "  end_junc_path hydraulic_gradient_per_m headloss_per_m lp_vars Results  \\\n",
      "0         p1,p2                   [None]         [None]  [None]  [None]   \n",
      "1            p1                   [None]         [None]  [None]  [None]   \n",
      "2   p1,p2,p3,p4                   [None]         [None]  [None]  [None]   \n",
      "3      p1,p2,p6                   [None]         [None]  [None]  [None]   \n",
      "4         p1,p5                   [None]         [None]  [None]  [None]   \n",
      "5      p1,p2,p3                   [None]         [None]  [None]  [None]   \n",
      "\n",
      "  pipe_updated headloss end_junc_path_updated  branch_end corrected_dz  \\\n",
      "0       [None]   [None]                [None]           0       [None]   \n",
      "1       [None]   [None]                [None]           0       [None]   \n",
      "2       [None]   [None]                [None]           1       [None]   \n",
      "3       [None]   [None]                [None]           1       [None]   \n",
      "4       [None]   [None]                [None]           1       [None]   \n",
      "5       [None]   [None]                [None]           0       [None]   \n",
      "\n",
      "   total_head_losses  Total_Head_m  Pressure_Head_m  Distance_from_Source_m  \n",
      "0          29.850412    299.850412        29.850412                  1500.0  \n",
      "1          49.896383    299.896383        49.896383                  1000.0  \n",
      "2          69.839594    299.839594        69.839594                  2400.0  \n",
      "3          59.763630    299.763630        59.763630                  3500.0  \n",
      "4          69.896200    299.896200        69.896200                  1300.0  \n",
      "5          49.848008    299.848008        49.848008                  1700.0  \n",
      "\n",
      "pipes_summery:\n",
      "  Pipe_ID  Diameter_mm  Velocity_m_s  length_m  flow_cmh headloss\n",
      "0      p2        500.0      0.212207       500     150.0   [None]\n",
      "1      p1        500.0      0.226354      1000     160.0   [None]\n",
      "2      p4        500.0      0.070736       700      50.0   [None]\n",
      "3      p6        500.0      0.141471      2000     100.0   [None]\n",
      "4      p5        500.0      0.014147       300      10.0   [None]\n",
      "5      p3        500.0      0.070736       200      50.0   [None]\n",
      "\n",
      "========Plot Branch:  p1,p2,p3,p4 ========\n",
      "\n"
     ]
    },
    {
     "data": {
      "application/vnd.plotly.v1+json": {
       "data": [
        {
         "line": {
          "color": "brown",
          "width": 3
         },
         "marker": {
          "size": 8
         },
         "mode": "lines+markers",
         "name": "Ground Elevation",
         "x": {
          "dtype": "i2",
          "bdata": "AADoA9wFpAZgCQ=="
         },
         "y": {
          "dtype": "f8",
          "bdata": "3V8Dlle+ckAAAAAAAEBvQAAAAAAA4HBAAAAAAABAb0AAAAAAAMBsQA=="
         },
         "type": "scatter",
         "xaxis": "x",
         "yaxis": "y"
        },
        {
         "line": {
          "color": "red",
          "dash": "dash",
          "width": 2
         },
         "marker": {
          "size": 6
         },
         "mode": "lines+markers",
         "name": "Energy Grade Line (EGL)",
         "x": {
          "dtype": "i2",
          "bdata": "AADoA9wFpAZgCQ=="
         },
         "y": {
          "dtype": "f8",
          "bdata": "3V8Dlle+ckDdXwOWV75yQOndMEmbvXJAg4x8cJG9ckCgbwX6br1yQA=="
         },
         "type": "scatter",
         "xaxis": "x",
         "yaxis": "y"
        },
        {
         "fill": "tonexty",
         "fillcolor": "rgba(0,100,255,0.1)",
         "line": {
          "color": "blue",
          "width": 2
         },
         "marker": {
          "size": 6
         },
         "mode": "lines+markers",
         "name": "Hydraulic Grade Line (HGL)",
         "x": {
          "dtype": "i2",
          "bdata": "AADoA9wFpAZgCQ=="
         },
         "y": {
          "dtype": "f8",
          "bdata": "3V8Dlle+ckDdXwOWV75yQOndMEmbvXJAg4x8cJG9ckCgbwX6br1yQA=="
         },
         "type": "scatter",
         "xaxis": "x",
         "yaxis": "y"
        },
        {
         "line": {
          "color": "green",
          "width": 2
         },
         "marker": {
          "size": 6
         },
         "mode": "lines+markers",
         "name": "Pressure Head",
         "x": {
          "dtype": "i2",
          "bdata": "AADoA9wFpAZgCQ=="
         },
         "y": {
          "dtype": "f8",
          "bdata": "AAAAAAAAAADo/hqwvPJIQJDeDZO02T1AGGTkg4vsSECAvhXou3VRQA=="
         },
         "yaxis": "y2",
         "type": "scatter",
         "xaxis": "x"
        }
       ],
       "layout": {
        "template": {
         "data": {
          "histogram2dcontour": [
           {
            "type": "histogram2dcontour",
            "colorbar": {
             "outlinewidth": 0,
             "ticks": ""
            },
            "colorscale": [
             [
              0.0,
              "#0d0887"
             ],
             [
              0.1111111111111111,
              "#46039f"
             ],
             [
              0.2222222222222222,
              "#7201a8"
             ],
             [
              0.3333333333333333,
              "#9c179e"
             ],
             [
              0.4444444444444444,
              "#bd3786"
             ],
             [
              0.5555555555555556,
              "#d8576b"
             ],
             [
              0.6666666666666666,
              "#ed7953"
             ],
             [
              0.7777777777777778,
              "#fb9f3a"
             ],
             [
              0.8888888888888888,
              "#fdca26"
             ],
             [
              1.0,
              "#f0f921"
             ]
            ]
           }
          ],
          "choropleth": [
           {
            "type": "choropleth",
            "colorbar": {
             "outlinewidth": 0,
             "ticks": ""
            }
           }
          ],
          "histogram2d": [
           {
            "type": "histogram2d",
            "colorbar": {
             "outlinewidth": 0,
             "ticks": ""
            },
            "colorscale": [
             [
              0.0,
              "#0d0887"
             ],
             [
              0.1111111111111111,
              "#46039f"
             ],
             [
              0.2222222222222222,
              "#7201a8"
             ],
             [
              0.3333333333333333,
              "#9c179e"
             ],
             [
              0.4444444444444444,
              "#bd3786"
             ],
             [
              0.5555555555555556,
              "#d8576b"
             ],
             [
              0.6666666666666666,
              "#ed7953"
             ],
             [
              0.7777777777777778,
              "#fb9f3a"
             ],
             [
              0.8888888888888888,
              "#fdca26"
             ],
             [
              1.0,
              "#f0f921"
             ]
            ]
           }
          ],
          "heatmap": [
           {
            "type": "heatmap",
            "colorbar": {
             "outlinewidth": 0,
             "ticks": ""
            },
            "colorscale": [
             [
              0.0,
              "#0d0887"
             ],
             [
              0.1111111111111111,
              "#46039f"
             ],
             [
              0.2222222222222222,
              "#7201a8"
             ],
             [
              0.3333333333333333,
              "#9c179e"
             ],
             [
              0.4444444444444444,
              "#bd3786"
             ],
             [
              0.5555555555555556,
              "#d8576b"
             ],
             [
              0.6666666666666666,
              "#ed7953"
             ],
             [
              0.7777777777777778,
              "#fb9f3a"
             ],
             [
              0.8888888888888888,
              "#fdca26"
             ],
             [
              1.0,
              "#f0f921"
             ]
            ]
           }
          ],
          "contourcarpet": [
           {
            "type": "contourcarpet",
            "colorbar": {
             "outlinewidth": 0,
             "ticks": ""
            }
           }
          ],
          "contour": [
           {
            "type": "contour",
            "colorbar": {
             "outlinewidth": 0,
             "ticks": ""
            },
            "colorscale": [
             [
              0.0,
              "#0d0887"
             ],
             [
              0.1111111111111111,
              "#46039f"
             ],
             [
              0.2222222222222222,
              "#7201a8"
             ],
             [
              0.3333333333333333,
              "#9c179e"
             ],
             [
              0.4444444444444444,
              "#bd3786"
             ],
             [
              0.5555555555555556,
              "#d8576b"
             ],
             [
              0.6666666666666666,
              "#ed7953"
             ],
             [
              0.7777777777777778,
              "#fb9f3a"
             ],
             [
              0.8888888888888888,
              "#fdca26"
             ],
             [
              1.0,
              "#f0f921"
             ]
            ]
           }
          ],
          "surface": [
           {
            "type": "surface",
            "colorbar": {
             "outlinewidth": 0,
             "ticks": ""
            },
            "colorscale": [
             [
              0.0,
              "#0d0887"
             ],
             [
              0.1111111111111111,
              "#46039f"
             ],
             [
              0.2222222222222222,
              "#7201a8"
             ],
             [
              0.3333333333333333,
              "#9c179e"
             ],
             [
              0.4444444444444444,
              "#bd3786"
             ],
             [
              0.5555555555555556,
              "#d8576b"
             ],
             [
              0.6666666666666666,
              "#ed7953"
             ],
             [
              0.7777777777777778,
              "#fb9f3a"
             ],
             [
              0.8888888888888888,
              "#fdca26"
             ],
             [
              1.0,
              "#f0f921"
             ]
            ]
           }
          ],
          "mesh3d": [
           {
            "type": "mesh3d",
            "colorbar": {
             "outlinewidth": 0,
             "ticks": ""
            }
           }
          ],
          "scatter": [
           {
            "marker": {
             "line": {
              "color": "#283442"
             }
            },
            "type": "scatter"
           }
          ],
          "parcoords": [
           {
            "type": "parcoords",
            "line": {
             "colorbar": {
              "outlinewidth": 0,
              "ticks": ""
             }
            }
           }
          ],
          "scatterpolargl": [
           {
            "type": "scatterpolargl",
            "marker": {
             "colorbar": {
              "outlinewidth": 0,
              "ticks": ""
             }
            }
           }
          ],
          "bar": [
           {
            "error_x": {
             "color": "#f2f5fa"
            },
            "error_y": {
             "color": "#f2f5fa"
            },
            "marker": {
             "line": {
              "color": "rgb(17,17,17)",
              "width": 0.5
             },
             "pattern": {
              "fillmode": "overlay",
              "size": 10,
              "solidity": 0.2
             }
            },
            "type": "bar"
           }
          ],
          "scattergeo": [
           {
            "type": "scattergeo",
            "marker": {
             "colorbar": {
              "outlinewidth": 0,
              "ticks": ""
             }
            }
           }
          ],
          "scatterpolar": [
           {
            "type": "scatterpolar",
            "marker": {
             "colorbar": {
              "outlinewidth": 0,
              "ticks": ""
             }
            }
           }
          ],
          "histogram": [
           {
            "marker": {
             "pattern": {
              "fillmode": "overlay",
              "size": 10,
              "solidity": 0.2
             }
            },
            "type": "histogram"
           }
          ],
          "scattergl": [
           {
            "marker": {
             "line": {
              "color": "#283442"
             }
            },
            "type": "scattergl"
           }
          ],
          "scatter3d": [
           {
            "type": "scatter3d",
            "line": {
             "colorbar": {
              "outlinewidth": 0,
              "ticks": ""
             }
            },
            "marker": {
             "colorbar": {
              "outlinewidth": 0,
              "ticks": ""
             }
            }
           }
          ],
          "scattermap": [
           {
            "type": "scattermap",
            "marker": {
             "colorbar": {
              "outlinewidth": 0,
              "ticks": ""
             }
            }
           }
          ],
          "scattermapbox": [
           {
            "type": "scattermapbox",
            "marker": {
             "colorbar": {
              "outlinewidth": 0,
              "ticks": ""
             }
            }
           }
          ],
          "scatterternary": [
           {
            "type": "scatterternary",
            "marker": {
             "colorbar": {
              "outlinewidth": 0,
              "ticks": ""
             }
            }
           }
          ],
          "scattercarpet": [
           {
            "type": "scattercarpet",
            "marker": {
             "colorbar": {
              "outlinewidth": 0,
              "ticks": ""
             }
            }
           }
          ],
          "carpet": [
           {
            "aaxis": {
             "endlinecolor": "#A2B1C6",
             "gridcolor": "#506784",
             "linecolor": "#506784",
             "minorgridcolor": "#506784",
             "startlinecolor": "#A2B1C6"
            },
            "baxis": {
             "endlinecolor": "#A2B1C6",
             "gridcolor": "#506784",
             "linecolor": "#506784",
             "minorgridcolor": "#506784",
             "startlinecolor": "#A2B1C6"
            },
            "type": "carpet"
           }
          ],
          "table": [
           {
            "cells": {
             "fill": {
              "color": "#506784"
             },
             "line": {
              "color": "rgb(17,17,17)"
             }
            },
            "header": {
             "fill": {
              "color": "#2a3f5f"
             },
             "line": {
              "color": "rgb(17,17,17)"
             }
            },
            "type": "table"
           }
          ],
          "barpolar": [
           {
            "marker": {
             "line": {
              "color": "rgb(17,17,17)",
              "width": 0.5
             },
             "pattern": {
              "fillmode": "overlay",
              "size": 10,
              "solidity": 0.2
             }
            },
            "type": "barpolar"
           }
          ],
          "pie": [
           {
            "automargin": true,
            "type": "pie"
           }
          ]
         },
         "layout": {
          "autotypenumbers": "strict",
          "colorway": [
           "#636efa",
           "#EF553B",
           "#00cc96",
           "#ab63fa",
           "#FFA15A",
           "#19d3f3",
           "#FF6692",
           "#B6E880",
           "#FF97FF",
           "#FECB52"
          ],
          "font": {
           "color": "#f2f5fa"
          },
          "hovermode": "closest",
          "hoverlabel": {
           "align": "left"
          },
          "paper_bgcolor": "rgb(17,17,17)",
          "plot_bgcolor": "rgb(17,17,17)",
          "polar": {
           "bgcolor": "rgb(17,17,17)",
           "angularaxis": {
            "gridcolor": "#506784",
            "linecolor": "#506784",
            "ticks": ""
           },
           "radialaxis": {
            "gridcolor": "#506784",
            "linecolor": "#506784",
            "ticks": ""
           }
          },
          "ternary": {
           "bgcolor": "rgb(17,17,17)",
           "aaxis": {
            "gridcolor": "#506784",
            "linecolor": "#506784",
            "ticks": ""
           },
           "baxis": {
            "gridcolor": "#506784",
            "linecolor": "#506784",
            "ticks": ""
           },
           "caxis": {
            "gridcolor": "#506784",
            "linecolor": "#506784",
            "ticks": ""
           }
          },
          "coloraxis": {
           "colorbar": {
            "outlinewidth": 0,
            "ticks": ""
           }
          },
          "colorscale": {
           "sequential": [
            [
             0.0,
             "#0d0887"
            ],
            [
             0.1111111111111111,
             "#46039f"
            ],
            [
             0.2222222222222222,
             "#7201a8"
            ],
            [
             0.3333333333333333,
             "#9c179e"
            ],
            [
             0.4444444444444444,
             "#bd3786"
            ],
            [
             0.5555555555555556,
             "#d8576b"
            ],
            [
             0.6666666666666666,
             "#ed7953"
            ],
            [
             0.7777777777777778,
             "#fb9f3a"
            ],
            [
             0.8888888888888888,
             "#fdca26"
            ],
            [
             1.0,
             "#f0f921"
            ]
           ],
           "sequentialminus": [
            [
             0.0,
             "#0d0887"
            ],
            [
             0.1111111111111111,
             "#46039f"
            ],
            [
             0.2222222222222222,
             "#7201a8"
            ],
            [
             0.3333333333333333,
             "#9c179e"
            ],
            [
             0.4444444444444444,
             "#bd3786"
            ],
            [
             0.5555555555555556,
             "#d8576b"
            ],
            [
             0.6666666666666666,
             "#ed7953"
            ],
            [
             0.7777777777777778,
             "#fb9f3a"
            ],
            [
             0.8888888888888888,
             "#fdca26"
            ],
            [
             1.0,
             "#f0f921"
            ]
           ],
           "diverging": [
            [
             0,
             "#8e0152"
            ],
            [
             0.1,
             "#c51b7d"
            ],
            [
             0.2,
             "#de77ae"
            ],
            [
             0.3,
             "#f1b6da"
            ],
            [
             0.4,
             "#fde0ef"
            ],
            [
             0.5,
             "#f7f7f7"
            ],
            [
             0.6,
             "#e6f5d0"
            ],
            [
             0.7,
             "#b8e186"
            ],
            [
             0.8,
             "#7fbc41"
            ],
            [
             0.9,
             "#4d9221"
            ],
            [
             1,
             "#276419"
            ]
           ]
          },
          "xaxis": {
           "gridcolor": "#283442",
           "linecolor": "#506784",
           "ticks": "",
           "title": {
            "standoff": 15
           },
           "zerolinecolor": "#283442",
           "automargin": true,
           "zerolinewidth": 2
          },
          "yaxis": {
           "gridcolor": "#283442",
           "linecolor": "#506784",
           "ticks": "",
           "title": {
            "standoff": 15
           },
           "zerolinecolor": "#283442",
           "automargin": true,
           "zerolinewidth": 2
          },
          "scene": {
           "xaxis": {
            "backgroundcolor": "rgb(17,17,17)",
            "gridcolor": "#506784",
            "linecolor": "#506784",
            "showbackground": true,
            "ticks": "",
            "zerolinecolor": "#C8D4E3",
            "gridwidth": 2
           },
           "yaxis": {
            "backgroundcolor": "rgb(17,17,17)",
            "gridcolor": "#506784",
            "linecolor": "#506784",
            "showbackground": true,
            "ticks": "",
            "zerolinecolor": "#C8D4E3",
            "gridwidth": 2
           },
           "zaxis": {
            "backgroundcolor": "rgb(17,17,17)",
            "gridcolor": "#506784",
            "linecolor": "#506784",
            "showbackground": true,
            "ticks": "",
            "zerolinecolor": "#C8D4E3",
            "gridwidth": 2
           }
          },
          "shapedefaults": {
           "line": {
            "color": "#f2f5fa"
           }
          },
          "annotationdefaults": {
           "arrowcolor": "#f2f5fa",
           "arrowhead": 0,
           "arrowwidth": 1
          },
          "geo": {
           "bgcolor": "rgb(17,17,17)",
           "landcolor": "rgb(17,17,17)",
           "subunitcolor": "#506784",
           "showland": true,
           "showlakes": true,
           "lakecolor": "rgb(17,17,17)"
          },
          "title": {
           "x": 0.05
          },
          "updatemenudefaults": {
           "bgcolor": "#506784",
           "borderwidth": 0
          },
          "sliderdefaults": {
           "bgcolor": "#C8D4E3",
           "borderwidth": 1,
           "bordercolor": "rgb(17,17,17)",
           "tickwidth": 0
          },
          "mapbox": {
           "style": "dark"
          }
         }
        },
        "xaxis": {
         "anchor": "y",
         "domain": [
          0.0,
          0.94
         ],
         "title": {
          "text": "Distance from Reservoir (m)"
         }
        },
        "yaxis": {
         "anchor": "x",
         "domain": [
          0.0,
          1.0
         ],
         "title": {
          "text": "Elevation / Head (m)"
         }
        },
        "yaxis2": {
         "anchor": "x",
         "overlaying": "y",
         "side": "right",
         "title": {
          "text": "Pressure Head (m)"
         }
        },
        "annotations": [
         {
          "font": {
           "size": 16
          },
          "showarrow": false,
          "text": "Hydraulic Profile",
          "x": 0.47,
          "xanchor": "center",
          "xref": "paper",
          "y": 1.0,
          "yanchor": "bottom",
          "yref": "paper"
         },
         {
          "showarrow": false,
          "text": "Min Pressure (2m)",
          "x": 1,
          "xanchor": "right",
          "xref": "x domain",
          "y": 2,
          "yanchor": "bottom",
          "yref": "y"
         },
         {
          "showarrow": false,
          "text": "Static Head (299.8963832980933 m)",
          "x": 1,
          "xanchor": "right",
          "xref": "x domain",
          "y": 299.8963832980933,
          "yanchor": "bottom",
          "yref": "y"
         }
        ],
        "shapes": [
         {
          "line": {
           "color": "red",
           "dash": "dot"
          },
          "type": "line",
          "x0": 0,
          "x1": 1,
          "xref": "x domain",
          "y0": 2,
          "y1": 2,
          "yref": "y2"
         },
         {
          "line": {
           "color": "blue",
           "dash": "dot"
          },
          "type": "line",
          "x0": 0,
          "x1": 1,
          "xref": "x domain",
          "y0": 299.8963832980933,
          "y1": 299.8963832980933,
          "yref": "y"
         }
        ],
        "legend": {
         "x": 0.02,
         "y": 0.98
        },
        "title": {
         "text": "Hydraulic Profile - p1,p2,p3,p4"
        },
        "hovermode": "x unified"
       },
       "config": {
        "plotlyServerURL": "https://plot.ly"
       }
      }
     },
     "metadata": {},
     "output_type": "display_data"
    },
    {
     "name": "stdout",
     "output_type": "stream",
     "text": [
      "========Plot Branch:  p1,p2,p6 ========\n",
      "\n"
     ]
    },
    {
     "data": {
      "application/vnd.plotly.v1+json": {
       "data": [
        {
         "line": {
          "color": "brown",
          "width": 3
         },
         "marker": {
          "size": 8
         },
         "mode": "lines+markers",
         "name": "Ground Elevation",
         "x": {
          "dtype": "i2",
          "bdata": "AADoA9wFrA0="
         },
         "y": {
          "dtype": "f8",
          "bdata": "3V8Dlle+ckAAAAAAAEBvQAAAAAAA4HBAAAAAAAAAbkA="
         },
         "type": "scatter",
         "xaxis": "x",
         "yaxis": "y"
        },
        {
         "line": {
          "color": "red",
          "dash": "dash",
          "width": 2
         },
         "marker": {
          "size": 6
         },
         "mode": "lines+markers",
         "name": "Energy Grade Line (EGL)",
         "x": {
          "dtype": "i2",
          "bdata": "AADoA9wFrA0="
         },
         "y": {
          "dtype": "f8",
          "bdata": "3V8Dlle+ckDdXwOWV75yQOndMEmbvXJAg5yw0ze8ckA="
         },
         "type": "scatter",
         "xaxis": "x",
         "yaxis": "y"
        },
        {
         "fill": "tonexty",
         "fillcolor": "rgba(0,100,255,0.1)",
         "line": {
          "color": "blue",
          "width": 2
         },
         "marker": {
          "size": 6
         },
         "mode": "lines+markers",
         "name": "Hydraulic Grade Line (HGL)",
         "x": {
          "dtype": "i2",
          "bdata": "AADoA9wFrA0="
         },
         "y": {
          "dtype": "f8",
          "bdata": "3V8Dlle+ckDdXwOWV75yQOndMEmbvXJAg5yw0ze8ckA="
         },
         "type": "scatter",
         "xaxis": "x",
         "yaxis": "y"
        },
        {
         "line": {
          "color": "green",
          "width": 2
         },
         "marker": {
          "size": 6
         },
         "mode": "lines+markers",
         "name": "Pressure Head",
         "x": {
          "dtype": "i2",
          "bdata": "AADoA9wFrA0="
         },
         "y": {
          "dtype": "f8",
          "bdata": "AAAAAAAAAADo/hqwvPJIQJDeDZO02T1AGOSEnb7hTUA="
         },
         "yaxis": "y2",
         "type": "scatter",
         "xaxis": "x"
        }
       ],
       "layout": {
        "template": {
         "data": {
          "histogram2dcontour": [
           {
            "type": "histogram2dcontour",
            "colorbar": {
             "outlinewidth": 0,
             "ticks": ""
            },
            "colorscale": [
             [
              0.0,
              "#0d0887"
             ],
             [
              0.1111111111111111,
              "#46039f"
             ],
             [
              0.2222222222222222,
              "#7201a8"
             ],
             [
              0.3333333333333333,
              "#9c179e"
             ],
             [
              0.4444444444444444,
              "#bd3786"
             ],
             [
              0.5555555555555556,
              "#d8576b"
             ],
             [
              0.6666666666666666,
              "#ed7953"
             ],
             [
              0.7777777777777778,
              "#fb9f3a"
             ],
             [
              0.8888888888888888,
              "#fdca26"
             ],
             [
              1.0,
              "#f0f921"
             ]
            ]
           }
          ],
          "choropleth": [
           {
            "type": "choropleth",
            "colorbar": {
             "outlinewidth": 0,
             "ticks": ""
            }
           }
          ],
          "histogram2d": [
           {
            "type": "histogram2d",
            "colorbar": {
             "outlinewidth": 0,
             "ticks": ""
            },
            "colorscale": [
             [
              0.0,
              "#0d0887"
             ],
             [
              0.1111111111111111,
              "#46039f"
             ],
             [
              0.2222222222222222,
              "#7201a8"
             ],
             [
              0.3333333333333333,
              "#9c179e"
             ],
             [
              0.4444444444444444,
              "#bd3786"
             ],
             [
              0.5555555555555556,
              "#d8576b"
             ],
             [
              0.6666666666666666,
              "#ed7953"
             ],
             [
              0.7777777777777778,
              "#fb9f3a"
             ],
             [
              0.8888888888888888,
              "#fdca26"
             ],
             [
              1.0,
              "#f0f921"
             ]
            ]
           }
          ],
          "heatmap": [
           {
            "type": "heatmap",
            "colorbar": {
             "outlinewidth": 0,
             "ticks": ""
            },
            "colorscale": [
             [
              0.0,
              "#0d0887"
             ],
             [
              0.1111111111111111,
              "#46039f"
             ],
             [
              0.2222222222222222,
              "#7201a8"
             ],
             [
              0.3333333333333333,
              "#9c179e"
             ],
             [
              0.4444444444444444,
              "#bd3786"
             ],
             [
              0.5555555555555556,
              "#d8576b"
             ],
             [
              0.6666666666666666,
              "#ed7953"
             ],
             [
              0.7777777777777778,
              "#fb9f3a"
             ],
             [
              0.8888888888888888,
              "#fdca26"
             ],
             [
              1.0,
              "#f0f921"
             ]
            ]
           }
          ],
          "contourcarpet": [
           {
            "type": "contourcarpet",
            "colorbar": {
             "outlinewidth": 0,
             "ticks": ""
            }
           }
          ],
          "contour": [
           {
            "type": "contour",
            "colorbar": {
             "outlinewidth": 0,
             "ticks": ""
            },
            "colorscale": [
             [
              0.0,
              "#0d0887"
             ],
             [
              0.1111111111111111,
              "#46039f"
             ],
             [
              0.2222222222222222,
              "#7201a8"
             ],
             [
              0.3333333333333333,
              "#9c179e"
             ],
             [
              0.4444444444444444,
              "#bd3786"
             ],
             [
              0.5555555555555556,
              "#d8576b"
             ],
             [
              0.6666666666666666,
              "#ed7953"
             ],
             [
              0.7777777777777778,
              "#fb9f3a"
             ],
             [
              0.8888888888888888,
              "#fdca26"
             ],
             [
              1.0,
              "#f0f921"
             ]
            ]
           }
          ],
          "surface": [
           {
            "type": "surface",
            "colorbar": {
             "outlinewidth": 0,
             "ticks": ""
            },
            "colorscale": [
             [
              0.0,
              "#0d0887"
             ],
             [
              0.1111111111111111,
              "#46039f"
             ],
             [
              0.2222222222222222,
              "#7201a8"
             ],
             [
              0.3333333333333333,
              "#9c179e"
             ],
             [
              0.4444444444444444,
              "#bd3786"
             ],
             [
              0.5555555555555556,
              "#d8576b"
             ],
             [
              0.6666666666666666,
              "#ed7953"
             ],
             [
              0.7777777777777778,
              "#fb9f3a"
             ],
             [
              0.8888888888888888,
              "#fdca26"
             ],
             [
              1.0,
              "#f0f921"
             ]
            ]
           }
          ],
          "mesh3d": [
           {
            "type": "mesh3d",
            "colorbar": {
             "outlinewidth": 0,
             "ticks": ""
            }
           }
          ],
          "scatter": [
           {
            "marker": {
             "line": {
              "color": "#283442"
             }
            },
            "type": "scatter"
           }
          ],
          "parcoords": [
           {
            "type": "parcoords",
            "line": {
             "colorbar": {
              "outlinewidth": 0,
              "ticks": ""
             }
            }
           }
          ],
          "scatterpolargl": [
           {
            "type": "scatterpolargl",
            "marker": {
             "colorbar": {
              "outlinewidth": 0,
              "ticks": ""
             }
            }
           }
          ],
          "bar": [
           {
            "error_x": {
             "color": "#f2f5fa"
            },
            "error_y": {
             "color": "#f2f5fa"
            },
            "marker": {
             "line": {
              "color": "rgb(17,17,17)",
              "width": 0.5
             },
             "pattern": {
              "fillmode": "overlay",
              "size": 10,
              "solidity": 0.2
             }
            },
            "type": "bar"
           }
          ],
          "scattergeo": [
           {
            "type": "scattergeo",
            "marker": {
             "colorbar": {
              "outlinewidth": 0,
              "ticks": ""
             }
            }
           }
          ],
          "scatterpolar": [
           {
            "type": "scatterpolar",
            "marker": {
             "colorbar": {
              "outlinewidth": 0,
              "ticks": ""
             }
            }
           }
          ],
          "histogram": [
           {
            "marker": {
             "pattern": {
              "fillmode": "overlay",
              "size": 10,
              "solidity": 0.2
             }
            },
            "type": "histogram"
           }
          ],
          "scattergl": [
           {
            "marker": {
             "line": {
              "color": "#283442"
             }
            },
            "type": "scattergl"
           }
          ],
          "scatter3d": [
           {
            "type": "scatter3d",
            "line": {
             "colorbar": {
              "outlinewidth": 0,
              "ticks": ""
             }
            },
            "marker": {
             "colorbar": {
              "outlinewidth": 0,
              "ticks": ""
             }
            }
           }
          ],
          "scattermap": [
           {
            "type": "scattermap",
            "marker": {
             "colorbar": {
              "outlinewidth": 0,
              "ticks": ""
             }
            }
           }
          ],
          "scattermapbox": [
           {
            "type": "scattermapbox",
            "marker": {
             "colorbar": {
              "outlinewidth": 0,
              "ticks": ""
             }
            }
           }
          ],
          "scatterternary": [
           {
            "type": "scatterternary",
            "marker": {
             "colorbar": {
              "outlinewidth": 0,
              "ticks": ""
             }
            }
           }
          ],
          "scattercarpet": [
           {
            "type": "scattercarpet",
            "marker": {
             "colorbar": {
              "outlinewidth": 0,
              "ticks": ""
             }
            }
           }
          ],
          "carpet": [
           {
            "aaxis": {
             "endlinecolor": "#A2B1C6",
             "gridcolor": "#506784",
             "linecolor": "#506784",
             "minorgridcolor": "#506784",
             "startlinecolor": "#A2B1C6"
            },
            "baxis": {
             "endlinecolor": "#A2B1C6",
             "gridcolor": "#506784",
             "linecolor": "#506784",
             "minorgridcolor": "#506784",
             "startlinecolor": "#A2B1C6"
            },
            "type": "carpet"
           }
          ],
          "table": [
           {
            "cells": {
             "fill": {
              "color": "#506784"
             },
             "line": {
              "color": "rgb(17,17,17)"
             }
            },
            "header": {
             "fill": {
              "color": "#2a3f5f"
             },
             "line": {
              "color": "rgb(17,17,17)"
             }
            },
            "type": "table"
           }
          ],
          "barpolar": [
           {
            "marker": {
             "line": {
              "color": "rgb(17,17,17)",
              "width": 0.5
             },
             "pattern": {
              "fillmode": "overlay",
              "size": 10,
              "solidity": 0.2
             }
            },
            "type": "barpolar"
           }
          ],
          "pie": [
           {
            "automargin": true,
            "type": "pie"
           }
          ]
         },
         "layout": {
          "autotypenumbers": "strict",
          "colorway": [
           "#636efa",
           "#EF553B",
           "#00cc96",
           "#ab63fa",
           "#FFA15A",
           "#19d3f3",
           "#FF6692",
           "#B6E880",
           "#FF97FF",
           "#FECB52"
          ],
          "font": {
           "color": "#f2f5fa"
          },
          "hovermode": "closest",
          "hoverlabel": {
           "align": "left"
          },
          "paper_bgcolor": "rgb(17,17,17)",
          "plot_bgcolor": "rgb(17,17,17)",
          "polar": {
           "bgcolor": "rgb(17,17,17)",
           "angularaxis": {
            "gridcolor": "#506784",
            "linecolor": "#506784",
            "ticks": ""
           },
           "radialaxis": {
            "gridcolor": "#506784",
            "linecolor": "#506784",
            "ticks": ""
           }
          },
          "ternary": {
           "bgcolor": "rgb(17,17,17)",
           "aaxis": {
            "gridcolor": "#506784",
            "linecolor": "#506784",
            "ticks": ""
           },
           "baxis": {
            "gridcolor": "#506784",
            "linecolor": "#506784",
            "ticks": ""
           },
           "caxis": {
            "gridcolor": "#506784",
            "linecolor": "#506784",
            "ticks": ""
           }
          },
          "coloraxis": {
           "colorbar": {
            "outlinewidth": 0,
            "ticks": ""
           }
          },
          "colorscale": {
           "sequential": [
            [
             0.0,
             "#0d0887"
            ],
            [
             0.1111111111111111,
             "#46039f"
            ],
            [
             0.2222222222222222,
             "#7201a8"
            ],
            [
             0.3333333333333333,
             "#9c179e"
            ],
            [
             0.4444444444444444,
             "#bd3786"
            ],
            [
             0.5555555555555556,
             "#d8576b"
            ],
            [
             0.6666666666666666,
             "#ed7953"
            ],
            [
             0.7777777777777778,
             "#fb9f3a"
            ],
            [
             0.8888888888888888,
             "#fdca26"
            ],
            [
             1.0,
             "#f0f921"
            ]
           ],
           "sequentialminus": [
            [
             0.0,
             "#0d0887"
            ],
            [
             0.1111111111111111,
             "#46039f"
            ],
            [
             0.2222222222222222,
             "#7201a8"
            ],
            [
             0.3333333333333333,
             "#9c179e"
            ],
            [
             0.4444444444444444,
             "#bd3786"
            ],
            [
             0.5555555555555556,
             "#d8576b"
            ],
            [
             0.6666666666666666,
             "#ed7953"
            ],
            [
             0.7777777777777778,
             "#fb9f3a"
            ],
            [
             0.8888888888888888,
             "#fdca26"
            ],
            [
             1.0,
             "#f0f921"
            ]
           ],
           "diverging": [
            [
             0,
             "#8e0152"
            ],
            [
             0.1,
             "#c51b7d"
            ],
            [
             0.2,
             "#de77ae"
            ],
            [
             0.3,
             "#f1b6da"
            ],
            [
             0.4,
             "#fde0ef"
            ],
            [
             0.5,
             "#f7f7f7"
            ],
            [
             0.6,
             "#e6f5d0"
            ],
            [
             0.7,
             "#b8e186"
            ],
            [
             0.8,
             "#7fbc41"
            ],
            [
             0.9,
             "#4d9221"
            ],
            [
             1,
             "#276419"
            ]
           ]
          },
          "xaxis": {
           "gridcolor": "#283442",
           "linecolor": "#506784",
           "ticks": "",
           "title": {
            "standoff": 15
           },
           "zerolinecolor": "#283442",
           "automargin": true,
           "zerolinewidth": 2
          },
          "yaxis": {
           "gridcolor": "#283442",
           "linecolor": "#506784",
           "ticks": "",
           "title": {
            "standoff": 15
           },
           "zerolinecolor": "#283442",
           "automargin": true,
           "zerolinewidth": 2
          },
          "scene": {
           "xaxis": {
            "backgroundcolor": "rgb(17,17,17)",
            "gridcolor": "#506784",
            "linecolor": "#506784",
            "showbackground": true,
            "ticks": "",
            "zerolinecolor": "#C8D4E3",
            "gridwidth": 2
           },
           "yaxis": {
            "backgroundcolor": "rgb(17,17,17)",
            "gridcolor": "#506784",
            "linecolor": "#506784",
            "showbackground": true,
            "ticks": "",
            "zerolinecolor": "#C8D4E3",
            "gridwidth": 2
           },
           "zaxis": {
            "backgroundcolor": "rgb(17,17,17)",
            "gridcolor": "#506784",
            "linecolor": "#506784",
            "showbackground": true,
            "ticks": "",
            "zerolinecolor": "#C8D4E3",
            "gridwidth": 2
           }
          },
          "shapedefaults": {
           "line": {
            "color": "#f2f5fa"
           }
          },
          "annotationdefaults": {
           "arrowcolor": "#f2f5fa",
           "arrowhead": 0,
           "arrowwidth": 1
          },
          "geo": {
           "bgcolor": "rgb(17,17,17)",
           "landcolor": "rgb(17,17,17)",
           "subunitcolor": "#506784",
           "showland": true,
           "showlakes": true,
           "lakecolor": "rgb(17,17,17)"
          },
          "title": {
           "x": 0.05
          },
          "updatemenudefaults": {
           "bgcolor": "#506784",
           "borderwidth": 0
          },
          "sliderdefaults": {
           "bgcolor": "#C8D4E3",
           "borderwidth": 1,
           "bordercolor": "rgb(17,17,17)",
           "tickwidth": 0
          },
          "mapbox": {
           "style": "dark"
          }
         }
        },
        "xaxis": {
         "anchor": "y",
         "domain": [
          0.0,
          0.94
         ],
         "title": {
          "text": "Distance from Reservoir (m)"
         }
        },
        "yaxis": {
         "anchor": "x",
         "domain": [
          0.0,
          1.0
         ],
         "title": {
          "text": "Elevation / Head (m)"
         }
        },
        "yaxis2": {
         "anchor": "x",
         "overlaying": "y",
         "side": "right",
         "title": {
          "text": "Pressure Head (m)"
         }
        },
        "annotations": [
         {
          "font": {
           "size": 16
          },
          "showarrow": false,
          "text": "Hydraulic Profile",
          "x": 0.47,
          "xanchor": "center",
          "xref": "paper",
          "y": 1.0,
          "yanchor": "bottom",
          "yref": "paper"
         },
         {
          "showarrow": false,
          "text": "Min Pressure (2m)",
          "x": 1,
          "xanchor": "right",
          "xref": "x domain",
          "y": 2,
          "yanchor": "bottom",
          "yref": "y"
         },
         {
          "showarrow": false,
          "text": "Static Head (299.8963832980933 m)",
          "x": 1,
          "xanchor": "right",
          "xref": "x domain",
          "y": 299.8963832980933,
          "yanchor": "bottom",
          "yref": "y"
         }
        ],
        "shapes": [
         {
          "line": {
           "color": "red",
           "dash": "dot"
          },
          "type": "line",
          "x0": 0,
          "x1": 1,
          "xref": "x domain",
          "y0": 2,
          "y1": 2,
          "yref": "y2"
         },
         {
          "line": {
           "color": "blue",
           "dash": "dot"
          },
          "type": "line",
          "x0": 0,
          "x1": 1,
          "xref": "x domain",
          "y0": 299.8963832980933,
          "y1": 299.8963832980933,
          "yref": "y"
         }
        ],
        "legend": {
         "x": 0.02,
         "y": 0.98
        },
        "title": {
         "text": "Hydraulic Profile - p1,p2,p6"
        },
        "hovermode": "x unified"
       },
       "config": {
        "plotlyServerURL": "https://plot.ly"
       }
      }
     },
     "metadata": {},
     "output_type": "display_data"
    },
    {
     "name": "stdout",
     "output_type": "stream",
     "text": [
      "========Plot Branch:  p1,p5 ========\n",
      "\n"
     ]
    },
    {
     "data": {
      "application/vnd.plotly.v1+json": {
       "data": [
        {
         "line": {
          "color": "brown",
          "width": 3
         },
         "marker": {
          "size": 8
         },
         "mode": "lines+markers",
         "name": "Ground Elevation",
         "x": {
          "dtype": "i2",
          "bdata": "AADoAxQF"
         },
         "y": {
          "dtype": "f8",
          "bdata": "3V8Dlle+ckAAAAAAAEBvQAAAAAAAwGxA"
         },
         "type": "scatter",
         "xaxis": "x",
         "yaxis": "y"
        },
        {
         "line": {
          "color": "red",
          "dash": "dash",
          "width": 2
         },
         "marker": {
          "size": 6
         },
         "mode": "lines+markers",
         "name": "Energy Grade Line (EGL)",
         "x": {
          "dtype": "i2",
          "bdata": "AADoAxQF"
         },
         "y": {
          "dtype": "f8",
          "bdata": "3V8Dlle+ckDdXwOWV75yQI/MF9ZWvnJA"
         },
         "type": "scatter",
         "xaxis": "x",
         "yaxis": "y"
        },
        {
         "fill": "tonexty",
         "fillcolor": "rgba(0,100,255,0.1)",
         "line": {
          "color": "blue",
          "width": 2
         },
         "marker": {
          "size": 6
         },
         "mode": "lines+markers",
         "name": "Hydraulic Grade Line (HGL)",
         "x": {
          "dtype": "i2",
          "bdata": "AADoAxQF"
         },
         "y": {
          "dtype": "f8",
          "bdata": "3V8Dlle+ckDdXwOWV75yQI/MF9ZWvnJA"
         },
         "type": "scatter",
         "xaxis": "x",
         "yaxis": "y"
        },
        {
         "line": {
          "color": "green",
          "width": 2
         },
         "marker": {
          "size": 6
         },
         "mode": "lines+markers",
         "name": "Pressure Head",
         "x": {
          "dtype": "i2",
          "bdata": "AADoAxQF"
         },
         "y": {
          "dtype": "f8",
          "bdata": "AAAAAAAAAADo/hqwvPJIQDwyX1hbeVFA"
         },
         "yaxis": "y2",
         "type": "scatter",
         "xaxis": "x"
        }
       ],
       "layout": {
        "template": {
         "data": {
          "histogram2dcontour": [
           {
            "type": "histogram2dcontour",
            "colorbar": {
             "outlinewidth": 0,
             "ticks": ""
            },
            "colorscale": [
             [
              0.0,
              "#0d0887"
             ],
             [
              0.1111111111111111,
              "#46039f"
             ],
             [
              0.2222222222222222,
              "#7201a8"
             ],
             [
              0.3333333333333333,
              "#9c179e"
             ],
             [
              0.4444444444444444,
              "#bd3786"
             ],
             [
              0.5555555555555556,
              "#d8576b"
             ],
             [
              0.6666666666666666,
              "#ed7953"
             ],
             [
              0.7777777777777778,
              "#fb9f3a"
             ],
             [
              0.8888888888888888,
              "#fdca26"
             ],
             [
              1.0,
              "#f0f921"
             ]
            ]
           }
          ],
          "choropleth": [
           {
            "type": "choropleth",
            "colorbar": {
             "outlinewidth": 0,
             "ticks": ""
            }
           }
          ],
          "histogram2d": [
           {
            "type": "histogram2d",
            "colorbar": {
             "outlinewidth": 0,
             "ticks": ""
            },
            "colorscale": [
             [
              0.0,
              "#0d0887"
             ],
             [
              0.1111111111111111,
              "#46039f"
             ],
             [
              0.2222222222222222,
              "#7201a8"
             ],
             [
              0.3333333333333333,
              "#9c179e"
             ],
             [
              0.4444444444444444,
              "#bd3786"
             ],
             [
              0.5555555555555556,
              "#d8576b"
             ],
             [
              0.6666666666666666,
              "#ed7953"
             ],
             [
              0.7777777777777778,
              "#fb9f3a"
             ],
             [
              0.8888888888888888,
              "#fdca26"
             ],
             [
              1.0,
              "#f0f921"
             ]
            ]
           }
          ],
          "heatmap": [
           {
            "type": "heatmap",
            "colorbar": {
             "outlinewidth": 0,
             "ticks": ""
            },
            "colorscale": [
             [
              0.0,
              "#0d0887"
             ],
             [
              0.1111111111111111,
              "#46039f"
             ],
             [
              0.2222222222222222,
              "#7201a8"
             ],
             [
              0.3333333333333333,
              "#9c179e"
             ],
             [
              0.4444444444444444,
              "#bd3786"
             ],
             [
              0.5555555555555556,
              "#d8576b"
             ],
             [
              0.6666666666666666,
              "#ed7953"
             ],
             [
              0.7777777777777778,
              "#fb9f3a"
             ],
             [
              0.8888888888888888,
              "#fdca26"
             ],
             [
              1.0,
              "#f0f921"
             ]
            ]
           }
          ],
          "contourcarpet": [
           {
            "type": "contourcarpet",
            "colorbar": {
             "outlinewidth": 0,
             "ticks": ""
            }
           }
          ],
          "contour": [
           {
            "type": "contour",
            "colorbar": {
             "outlinewidth": 0,
             "ticks": ""
            },
            "colorscale": [
             [
              0.0,
              "#0d0887"
             ],
             [
              0.1111111111111111,
              "#46039f"
             ],
             [
              0.2222222222222222,
              "#7201a8"
             ],
             [
              0.3333333333333333,
              "#9c179e"
             ],
             [
              0.4444444444444444,
              "#bd3786"
             ],
             [
              0.5555555555555556,
              "#d8576b"
             ],
             [
              0.6666666666666666,
              "#ed7953"
             ],
             [
              0.7777777777777778,
              "#fb9f3a"
             ],
             [
              0.8888888888888888,
              "#fdca26"
             ],
             [
              1.0,
              "#f0f921"
             ]
            ]
           }
          ],
          "surface": [
           {
            "type": "surface",
            "colorbar": {
             "outlinewidth": 0,
             "ticks": ""
            },
            "colorscale": [
             [
              0.0,
              "#0d0887"
             ],
             [
              0.1111111111111111,
              "#46039f"
             ],
             [
              0.2222222222222222,
              "#7201a8"
             ],
             [
              0.3333333333333333,
              "#9c179e"
             ],
             [
              0.4444444444444444,
              "#bd3786"
             ],
             [
              0.5555555555555556,
              "#d8576b"
             ],
             [
              0.6666666666666666,
              "#ed7953"
             ],
             [
              0.7777777777777778,
              "#fb9f3a"
             ],
             [
              0.8888888888888888,
              "#fdca26"
             ],
             [
              1.0,
              "#f0f921"
             ]
            ]
           }
          ],
          "mesh3d": [
           {
            "type": "mesh3d",
            "colorbar": {
             "outlinewidth": 0,
             "ticks": ""
            }
           }
          ],
          "scatter": [
           {
            "marker": {
             "line": {
              "color": "#283442"
             }
            },
            "type": "scatter"
           }
          ],
          "parcoords": [
           {
            "type": "parcoords",
            "line": {
             "colorbar": {
              "outlinewidth": 0,
              "ticks": ""
             }
            }
           }
          ],
          "scatterpolargl": [
           {
            "type": "scatterpolargl",
            "marker": {
             "colorbar": {
              "outlinewidth": 0,
              "ticks": ""
             }
            }
           }
          ],
          "bar": [
           {
            "error_x": {
             "color": "#f2f5fa"
            },
            "error_y": {
             "color": "#f2f5fa"
            },
            "marker": {
             "line": {
              "color": "rgb(17,17,17)",
              "width": 0.5
             },
             "pattern": {
              "fillmode": "overlay",
              "size": 10,
              "solidity": 0.2
             }
            },
            "type": "bar"
           }
          ],
          "scattergeo": [
           {
            "type": "scattergeo",
            "marker": {
             "colorbar": {
              "outlinewidth": 0,
              "ticks": ""
             }
            }
           }
          ],
          "scatterpolar": [
           {
            "type": "scatterpolar",
            "marker": {
             "colorbar": {
              "outlinewidth": 0,
              "ticks": ""
             }
            }
           }
          ],
          "histogram": [
           {
            "marker": {
             "pattern": {
              "fillmode": "overlay",
              "size": 10,
              "solidity": 0.2
             }
            },
            "type": "histogram"
           }
          ],
          "scattergl": [
           {
            "marker": {
             "line": {
              "color": "#283442"
             }
            },
            "type": "scattergl"
           }
          ],
          "scatter3d": [
           {
            "type": "scatter3d",
            "line": {
             "colorbar": {
              "outlinewidth": 0,
              "ticks": ""
             }
            },
            "marker": {
             "colorbar": {
              "outlinewidth": 0,
              "ticks": ""
             }
            }
           }
          ],
          "scattermap": [
           {
            "type": "scattermap",
            "marker": {
             "colorbar": {
              "outlinewidth": 0,
              "ticks": ""
             }
            }
           }
          ],
          "scattermapbox": [
           {
            "type": "scattermapbox",
            "marker": {
             "colorbar": {
              "outlinewidth": 0,
              "ticks": ""
             }
            }
           }
          ],
          "scatterternary": [
           {
            "type": "scatterternary",
            "marker": {
             "colorbar": {
              "outlinewidth": 0,
              "ticks": ""
             }
            }
           }
          ],
          "scattercarpet": [
           {
            "type": "scattercarpet",
            "marker": {
             "colorbar": {
              "outlinewidth": 0,
              "ticks": ""
             }
            }
           }
          ],
          "carpet": [
           {
            "aaxis": {
             "endlinecolor": "#A2B1C6",
             "gridcolor": "#506784",
             "linecolor": "#506784",
             "minorgridcolor": "#506784",
             "startlinecolor": "#A2B1C6"
            },
            "baxis": {
             "endlinecolor": "#A2B1C6",
             "gridcolor": "#506784",
             "linecolor": "#506784",
             "minorgridcolor": "#506784",
             "startlinecolor": "#A2B1C6"
            },
            "type": "carpet"
           }
          ],
          "table": [
           {
            "cells": {
             "fill": {
              "color": "#506784"
             },
             "line": {
              "color": "rgb(17,17,17)"
             }
            },
            "header": {
             "fill": {
              "color": "#2a3f5f"
             },
             "line": {
              "color": "rgb(17,17,17)"
             }
            },
            "type": "table"
           }
          ],
          "barpolar": [
           {
            "marker": {
             "line": {
              "color": "rgb(17,17,17)",
              "width": 0.5
             },
             "pattern": {
              "fillmode": "overlay",
              "size": 10,
              "solidity": 0.2
             }
            },
            "type": "barpolar"
           }
          ],
          "pie": [
           {
            "automargin": true,
            "type": "pie"
           }
          ]
         },
         "layout": {
          "autotypenumbers": "strict",
          "colorway": [
           "#636efa",
           "#EF553B",
           "#00cc96",
           "#ab63fa",
           "#FFA15A",
           "#19d3f3",
           "#FF6692",
           "#B6E880",
           "#FF97FF",
           "#FECB52"
          ],
          "font": {
           "color": "#f2f5fa"
          },
          "hovermode": "closest",
          "hoverlabel": {
           "align": "left"
          },
          "paper_bgcolor": "rgb(17,17,17)",
          "plot_bgcolor": "rgb(17,17,17)",
          "polar": {
           "bgcolor": "rgb(17,17,17)",
           "angularaxis": {
            "gridcolor": "#506784",
            "linecolor": "#506784",
            "ticks": ""
           },
           "radialaxis": {
            "gridcolor": "#506784",
            "linecolor": "#506784",
            "ticks": ""
           }
          },
          "ternary": {
           "bgcolor": "rgb(17,17,17)",
           "aaxis": {
            "gridcolor": "#506784",
            "linecolor": "#506784",
            "ticks": ""
           },
           "baxis": {
            "gridcolor": "#506784",
            "linecolor": "#506784",
            "ticks": ""
           },
           "caxis": {
            "gridcolor": "#506784",
            "linecolor": "#506784",
            "ticks": ""
           }
          },
          "coloraxis": {
           "colorbar": {
            "outlinewidth": 0,
            "ticks": ""
           }
          },
          "colorscale": {
           "sequential": [
            [
             0.0,
             "#0d0887"
            ],
            [
             0.1111111111111111,
             "#46039f"
            ],
            [
             0.2222222222222222,
             "#7201a8"
            ],
            [
             0.3333333333333333,
             "#9c179e"
            ],
            [
             0.4444444444444444,
             "#bd3786"
            ],
            [
             0.5555555555555556,
             "#d8576b"
            ],
            [
             0.6666666666666666,
             "#ed7953"
            ],
            [
             0.7777777777777778,
             "#fb9f3a"
            ],
            [
             0.8888888888888888,
             "#fdca26"
            ],
            [
             1.0,
             "#f0f921"
            ]
           ],
           "sequentialminus": [
            [
             0.0,
             "#0d0887"
            ],
            [
             0.1111111111111111,
             "#46039f"
            ],
            [
             0.2222222222222222,
             "#7201a8"
            ],
            [
             0.3333333333333333,
             "#9c179e"
            ],
            [
             0.4444444444444444,
             "#bd3786"
            ],
            [
             0.5555555555555556,
             "#d8576b"
            ],
            [
             0.6666666666666666,
             "#ed7953"
            ],
            [
             0.7777777777777778,
             "#fb9f3a"
            ],
            [
             0.8888888888888888,
             "#fdca26"
            ],
            [
             1.0,
             "#f0f921"
            ]
           ],
           "diverging": [
            [
             0,
             "#8e0152"
            ],
            [
             0.1,
             "#c51b7d"
            ],
            [
             0.2,
             "#de77ae"
            ],
            [
             0.3,
             "#f1b6da"
            ],
            [
             0.4,
             "#fde0ef"
            ],
            [
             0.5,
             "#f7f7f7"
            ],
            [
             0.6,
             "#e6f5d0"
            ],
            [
             0.7,
             "#b8e186"
            ],
            [
             0.8,
             "#7fbc41"
            ],
            [
             0.9,
             "#4d9221"
            ],
            [
             1,
             "#276419"
            ]
           ]
          },
          "xaxis": {
           "gridcolor": "#283442",
           "linecolor": "#506784",
           "ticks": "",
           "title": {
            "standoff": 15
           },
           "zerolinecolor": "#283442",
           "automargin": true,
           "zerolinewidth": 2
          },
          "yaxis": {
           "gridcolor": "#283442",
           "linecolor": "#506784",
           "ticks": "",
           "title": {
            "standoff": 15
           },
           "zerolinecolor": "#283442",
           "automargin": true,
           "zerolinewidth": 2
          },
          "scene": {
           "xaxis": {
            "backgroundcolor": "rgb(17,17,17)",
            "gridcolor": "#506784",
            "linecolor": "#506784",
            "showbackground": true,
            "ticks": "",
            "zerolinecolor": "#C8D4E3",
            "gridwidth": 2
           },
           "yaxis": {
            "backgroundcolor": "rgb(17,17,17)",
            "gridcolor": "#506784",
            "linecolor": "#506784",
            "showbackground": true,
            "ticks": "",
            "zerolinecolor": "#C8D4E3",
            "gridwidth": 2
           },
           "zaxis": {
            "backgroundcolor": "rgb(17,17,17)",
            "gridcolor": "#506784",
            "linecolor": "#506784",
            "showbackground": true,
            "ticks": "",
            "zerolinecolor": "#C8D4E3",
            "gridwidth": 2
           }
          },
          "shapedefaults": {
           "line": {
            "color": "#f2f5fa"
           }
          },
          "annotationdefaults": {
           "arrowcolor": "#f2f5fa",
           "arrowhead": 0,
           "arrowwidth": 1
          },
          "geo": {
           "bgcolor": "rgb(17,17,17)",
           "landcolor": "rgb(17,17,17)",
           "subunitcolor": "#506784",
           "showland": true,
           "showlakes": true,
           "lakecolor": "rgb(17,17,17)"
          },
          "title": {
           "x": 0.05
          },
          "updatemenudefaults": {
           "bgcolor": "#506784",
           "borderwidth": 0
          },
          "sliderdefaults": {
           "bgcolor": "#C8D4E3",
           "borderwidth": 1,
           "bordercolor": "rgb(17,17,17)",
           "tickwidth": 0
          },
          "mapbox": {
           "style": "dark"
          }
         }
        },
        "xaxis": {
         "anchor": "y",
         "domain": [
          0.0,
          0.94
         ],
         "title": {
          "text": "Distance from Reservoir (m)"
         }
        },
        "yaxis": {
         "anchor": "x",
         "domain": [
          0.0,
          1.0
         ],
         "title": {
          "text": "Elevation / Head (m)"
         }
        },
        "yaxis2": {
         "anchor": "x",
         "overlaying": "y",
         "side": "right",
         "title": {
          "text": "Pressure Head (m)"
         }
        },
        "annotations": [
         {
          "font": {
           "size": 16
          },
          "showarrow": false,
          "text": "Hydraulic Profile",
          "x": 0.47,
          "xanchor": "center",
          "xref": "paper",
          "y": 1.0,
          "yanchor": "bottom",
          "yref": "paper"
         },
         {
          "showarrow": false,
          "text": "Min Pressure (2m)",
          "x": 1,
          "xanchor": "right",
          "xref": "x domain",
          "y": 2,
          "yanchor": "bottom",
          "yref": "y"
         },
         {
          "showarrow": false,
          "text": "Static Head (299.8963832980933 m)",
          "x": 1,
          "xanchor": "right",
          "xref": "x domain",
          "y": 299.8963832980933,
          "yanchor": "bottom",
          "yref": "y"
         }
        ],
        "shapes": [
         {
          "line": {
           "color": "red",
           "dash": "dot"
          },
          "type": "line",
          "x0": 0,
          "x1": 1,
          "xref": "x domain",
          "y0": 2,
          "y1": 2,
          "yref": "y2"
         },
         {
          "line": {
           "color": "blue",
           "dash": "dot"
          },
          "type": "line",
          "x0": 0,
          "x1": 1,
          "xref": "x domain",
          "y0": 299.8963832980933,
          "y1": 299.8963832980933,
          "yref": "y"
         }
        ],
        "legend": {
         "x": 0.02,
         "y": 0.98
        },
        "title": {
         "text": "Hydraulic Profile - p1,p5"
        },
        "hovermode": "x unified"
       },
       "config": {
        "plotlyServerURL": "https://plot.ly"
       }
      }
     },
     "metadata": {},
     "output_type": "display_data"
    },
    {
     "name": "stdout",
     "output_type": "stream",
     "text": [
      "=== 2  ===\n",
      "Writing debug information to debug_model.txt\n",
      "Debug information written to debug_model.txt\n",
      "=== OPTIMIZATION RESULTS ===\n",
      "Optimal\n",
      "\n",
      "The available keys in results are:\n",
      "dict_keys(['slack', 'debug', 'CONSTRAINT VIOLATION', 'model', 'status', 'df_model', 'total_cost_of_operation', 'branches_end', 'results_branch', 'df_res', 'pipes_summery'])\n",
      "slack: {}\n",
      "debug: debug_model.txt\n",
      "CONSTRAINT VIOLATION: {}\n",
      "model: economic_diameter:\n",
      "MINIMIZE\n",
      "2000.0*p1_0.0254 + 5000.0*p1_0.0508 + 8000.0*p1_0.0762 + 11000.0*p1_0.1016 + 16000.0*p1_0.1524 + 23000.0*p1_0.2032 + 32000.0*p1_0.254 + 50000.0*p1_0.3048 + 60000.0*p1_0.3556 + 90000.0*p1_0.4064 + 130000.0*p1_0.4572 + 170000.0*p1_0.508 + 300000.0*p1_0.5588 + 550000.0*p1_0.6096 + 1000.0*p2_0.0254 + 2500.0*p2_0.0508 + 4000.0*p2_0.0762 + 5500.0*p2_0.1016 + 8000.0*p2_0.1524 + 11500.0*p2_0.2032 + 16000.0*p2_0.254 + 25000.0*p2_0.3048 + 30000.0*p2_0.3556 + 45000.0*p2_0.4064 + 65000.0*p2_0.4572 + 85000.0*p2_0.508 + 150000.0*p2_0.5588 + 275000.0*p2_0.6096 + 400.0*p3_0.0254 + 1000.0*p3_0.0508 + 1600.0*p3_0.0762 + 2200.0*p3_0.1016 + 3200.0*p3_0.1524 + 4600.0*p3_0.2032 + 6400.0*p3_0.254 + 10000.0*p3_0.3048 + 12000.0*p3_0.3556 + 18000.0*p3_0.4064 + 26000.0*p3_0.4572 + 34000.0*p3_0.508 + 60000.0*p3_0.5588 + 110000.0*p3_0.6096 + 1400.0*p4_0.0254 + 3500.0*p4_0.0508 + 5600.0*p4_0.0762 + 7700.0*p4_0.1016 + 11200.0*p4_0.1524 + 16100.0*p4_0.2032 + 22400.0*p4_0.254 + 35000.0*p4_0.3048 + 42000.0*p4_0.3556 + 63000.0*p4_0.4064 + 91000.0*p4_0.4572 + 119000.0*p4_0.508 + 210000.0*p4_0.5588 + 385000.0*p4_0.6096 + 600.0*p5_0.0254 + 1500.0*p5_0.0508 + 2400.0*p5_0.0762 + 3300.0*p5_0.1016 + 4800.0*p5_0.1524 + 6900.0*p5_0.2032 + 9600.0*p5_0.254 + 15000.0*p5_0.3048 + 18000.0*p5_0.3556 + 27000.0*p5_0.4064 + 39000.0*p5_0.4572 + 51000.0*p5_0.508 + 90000.0*p5_0.5588 + 165000.0*p5_0.6096 + 4000.0*p6_0.0254 + 10000.0*p6_0.0508 + 16000.0*p6_0.0762 + 22000.0*p6_0.1016 + 32000.0*p6_0.1524 + 46000.0*p6_0.2032 + 64000.0*p6_0.254 + 100000.0*p6_0.3048 + 120000.0*p6_0.3556 + 180000.0*p6_0.4064 + 260000.0*p6_0.4572 + 340000.0*p6_0.508 + 600000.0*p6_0.5588 + 1100000.0*p6_0.6096 + 0.0\n",
      "SUBJECT TO\n",
      "_C1: p1_0.0254 + p1_0.0508 + p1_0.0762 + p1_0.1016 + p1_0.1524 + p1_0.2032\n",
      " + p1_0.254 + p1_0.3048 + p1_0.3556 + p1_0.4064 + p1_0.4572 + p1_0.508\n",
      " + p1_0.5588 + p1_0.6096 = 1\n",
      "\n",
      "_C2: p2_0.0254 + p2_0.0508 + p2_0.0762 + p2_0.1016 + p2_0.1524 + p2_0.2032\n",
      " + p2_0.254 + p2_0.3048 + p2_0.3556 + p2_0.4064 + p2_0.4572 + p2_0.508\n",
      " + p2_0.5588 + p2_0.6096 = 1\n",
      "\n",
      "_C3: p3_0.0254 + p3_0.0508 + p3_0.0762 + p3_0.1016 + p3_0.1524 + p3_0.2032\n",
      " + p3_0.254 + p3_0.3048 + p3_0.3556 + p3_0.4064 + p3_0.4572 + p3_0.508\n",
      " + p3_0.5588 + p3_0.6096 = 1\n",
      "\n",
      "_C4: p4_0.0254 + p4_0.0508 + p4_0.0762 + p4_0.1016 + p4_0.1524 + p4_0.2032\n",
      " + p4_0.254 + p4_0.3048 + p4_0.3556 + p4_0.4064 + p4_0.4572 + p4_0.508\n",
      " + p4_0.5588 + p4_0.6096 = 1\n",
      "\n",
      "_C5: p5_0.0254 + p5_0.0508 + p5_0.0762 + p5_0.1016 + p5_0.1524 + p5_0.2032\n",
      " + p5_0.254 + p5_0.3048 + p5_0.3556 + p5_0.4064 + p5_0.4572 + p5_0.508\n",
      " + p5_0.5588 + p5_0.6096 = 1\n",
      "\n",
      "_C6: p6_0.0254 + p6_0.0508 + p6_0.0762 + p6_0.1016 + p6_0.1524 + p6_0.2032\n",
      " + p6_0.254 + p6_0.3048 + p6_0.3556 + p6_0.4064 + p6_0.4572 + p6_0.508\n",
      " + p6_0.5588 + p6_0.6096 = 1\n",
      "\n",
      "_C7: 208157.057639 p1_0.0254 + 7116.30657503 p1_0.0508\n",
      " + 987.688009304 p1_0.0762 + 243.28658295 p1_0.1016 + 33.7662856808 p1_0.1524\n",
      " + 8.31728661764 p1_0.2032 + 2.80537640761 p1_0.254 + 1.15437469923 p1_0.3048\n",
      " + 0.544865306115 p1_0.3556 + 0.284344725636 p1_0.4064\n",
      " + 0.160218230715 p1_0.4572 + 0.0959079591218 p1_0.508\n",
      " + 0.060291448195 p1_0.5588 + 0.0394648365776 p1_0.6096 <= 48\n",
      "\n",
      "_C8: 208157.057639 p1_0.0254 + 7116.30657503 p1_0.0508\n",
      " + 987.688009304 p1_0.0762 + 243.28658295 p1_0.1016 + 33.7662856808 p1_0.1524\n",
      " + 8.31728661764 p1_0.2032 + 2.80537640761 p1_0.254 + 1.15437469923 p1_0.3048\n",
      " + 0.544865306115 p1_0.3556 + 0.284344725636 p1_0.4064\n",
      " + 0.160218230715 p1_0.4572 + 0.0959079591218 p1_0.508\n",
      " + 0.060291448195 p1_0.5588 + 0.0394648365776 p1_0.6096\n",
      " + 92353.2000954 p2_0.0254 + 3157.2971511 p2_0.0508 + 438.208290364 p2_0.0762\n",
      " + 107.939143311 p2_0.1016 + 14.981113652 p2_0.1524 + 3.69013688012 p2_0.2032\n",
      " + 1.24466348465 p2_0.254 + 0.512162300873 p2_0.3048\n",
      " + 0.241740804811 p2_0.3556 + 0.126155440707 p2_0.4064\n",
      " + 0.0710841442897 p2_0.4572 + 0.0425515571751 p2_0.508\n",
      " + 0.0267495526808 p2_0.5588 + 0.017509394063 p2_0.6096 <= 28\n",
      "\n",
      "_C9: 208157.057639 p1_0.0254 + 7116.30657503 p1_0.0508\n",
      " + 987.688009304 p1_0.0762 + 243.28658295 p1_0.1016 + 33.7662856808 p1_0.1524\n",
      " + 8.31728661764 p1_0.2032 + 2.80537640761 p1_0.254 + 1.15437469923 p1_0.3048\n",
      " + 0.544865306115 p1_0.3556 + 0.284344725636 p1_0.4064\n",
      " + 0.160218230715 p1_0.4572 + 0.0959079591218 p1_0.508\n",
      " + 0.060291448195 p1_0.5588 + 0.0394648365776 p1_0.6096\n",
      " + 92353.2000954 p2_0.0254 + 3157.2971511 p2_0.0508 + 438.208290364 p2_0.0762\n",
      " + 107.939143311 p2_0.1016 + 14.981113652 p2_0.1524 + 3.69013688012 p2_0.2032\n",
      " + 1.24466348465 p2_0.254 + 0.512162300873 p2_0.3048\n",
      " + 0.241740804811 p2_0.3556 + 0.126155440707 p2_0.4064\n",
      " + 0.0710841442897 p2_0.4572 + 0.0425515571751 p2_0.508\n",
      " + 0.0267495526808 p2_0.5588 + 0.017509394063 p2_0.6096\n",
      " + 4829.29100664 p3_0.0254 + 165.09992855 p3_0.0508 + 22.9145861054 p3_0.0762\n",
      " + 5.64430397127 p3_0.1016 + 0.783385495624 p3_0.1524\n",
      " + 0.192962938263 p3_0.2032 + 0.0650853697166 p3_0.254\n",
      " + 0.0267817551638 p3_0.3048 + 0.0126409988328 p3_0.3556\n",
      " + 0.0065968622053 p3_0.4064 + 0.0037170993358 p3_0.4572\n",
      " + 0.00222508643092 p3_0.508 + 0.00139877528943 p3_0.5588\n",
      " + 0.000915593170489 p3_0.6096 <= 48\n",
      "\n",
      "_C10: 208157.057639 p1_0.0254 + 7116.30657503 p1_0.0508\n",
      " + 987.688009304 p1_0.0762 + 243.28658295 p1_0.1016 + 33.7662856808 p1_0.1524\n",
      " + 8.31728661764 p1_0.2032 + 2.80537640761 p1_0.254 + 1.15437469923 p1_0.3048\n",
      " + 0.544865306115 p1_0.3556 + 0.284344725636 p1_0.4064\n",
      " + 0.160218230715 p1_0.4572 + 0.0959079591218 p1_0.508\n",
      " + 0.060291448195 p1_0.5588 + 0.0394648365776 p1_0.6096\n",
      " + 92353.2000954 p2_0.0254 + 3157.2971511 p2_0.0508 + 438.208290364 p2_0.0762\n",
      " + 107.939143311 p2_0.1016 + 14.981113652 p2_0.1524 + 3.69013688012 p2_0.2032\n",
      " + 1.24466348465 p2_0.254 + 0.512162300873 p2_0.3048\n",
      " + 0.241740804811 p2_0.3556 + 0.126155440707 p2_0.4064\n",
      " + 0.0710841442897 p2_0.4572 + 0.0425515571751 p2_0.508\n",
      " + 0.0267495526808 p2_0.5588 + 0.017509394063 p2_0.6096\n",
      " + 4829.29100664 p3_0.0254 + 165.09992855 p3_0.0508 + 22.9145861054 p3_0.0762\n",
      " + 5.64430397127 p3_0.1016 + 0.783385495624 p3_0.1524\n",
      " + 0.192962938263 p3_0.2032 + 0.0650853697166 p3_0.254\n",
      " + 0.0267817551638 p3_0.3048 + 0.0126409988328 p3_0.3556\n",
      " + 0.0065968622053 p3_0.4064 + 0.0037170993358 p3_0.4572\n",
      " + 0.00222508643092 p3_0.508 + 0.00139877528943 p3_0.5588\n",
      " + 0.000915593170489 p3_0.6096 + 16902.5185233 p4_0.0254\n",
      " + 577.849749925 p4_0.0508 + 80.2010513688 p4_0.0762 + 19.7550638994 p4_0.1016\n",
      " + 2.74184923468 p4_0.1524 + 0.675370283922 p4_0.2032\n",
      " + 0.227798794008 p4_0.254 + 0.0937361430732 p4_0.3048\n",
      " + 0.0442434959149 p4_0.3556 + 0.0230890177185 p4_0.4064\n",
      " + 0.0130098476753 p4_0.4572 + 0.00778780250823 p4_0.508\n",
      " + 0.00489571351301 p4_0.5588 + 0.00320457609671 p4_0.6096 <= 68\n",
      "\n",
      "_C11: 208157.057639 p1_0.0254 + 7116.30657503 p1_0.0508\n",
      " + 987.688009304 p1_0.0762 + 243.28658295 p1_0.1016 + 33.7662856808 p1_0.1524\n",
      " + 8.31728661764 p1_0.2032 + 2.80537640761 p1_0.254 + 1.15437469923 p1_0.3048\n",
      " + 0.544865306115 p1_0.3556 + 0.284344725636 p1_0.4064\n",
      " + 0.160218230715 p1_0.4572 + 0.0959079591218 p1_0.508\n",
      " + 0.060291448195 p1_0.5588 + 0.0394648365776 p1_0.6096\n",
      " + 367.690312089 p5_0.0254 + 12.5703015559 p5_0.0508 + 1.74466009708 p5_0.0762\n",
      " + 0.429743390048 p5_0.1016 + 0.0596450404368 p5_0.1524\n",
      " + 0.0146917224276 p5_0.2032 + 0.00495543960193 p5_0.254\n",
      " + 0.00203909681585 p5_0.3048 + 0.000962454488572 p5_0.3556\n",
      " + 0.000502268825743 p5_0.4064 + 0.000283010780043 p5_0.4572\n",
      " + 0.000169412595573 p5_0.508 + 0.00010649930228 p5_0.5588\n",
      " + 6.9711006883e-05 p5_0.6096 <= 68\n",
      "\n",
      "_C12: 208157.057639 p1_0.0254 + 7116.30657503 p1_0.0508\n",
      " + 987.688009304 p1_0.0762 + 243.28658295 p1_0.1016 + 33.7662856808 p1_0.1524\n",
      " + 8.31728661764 p1_0.2032 + 2.80537640761 p1_0.254 + 1.15437469923 p1_0.3048\n",
      " + 0.544865306115 p1_0.3556 + 0.284344725636 p1_0.4064\n",
      " + 0.160218230715 p1_0.4572 + 0.0959079591218 p1_0.508\n",
      " + 0.060291448195 p1_0.5588 + 0.0394648365776 p1_0.6096\n",
      " + 92353.2000954 p2_0.0254 + 3157.2971511 p2_0.0508 + 438.208290364 p2_0.0762\n",
      " + 107.939143311 p2_0.1016 + 14.981113652 p2_0.1524 + 3.69013688012 p2_0.2032\n",
      " + 1.24466348465 p2_0.254 + 0.512162300873 p2_0.3048\n",
      " + 0.241740804811 p2_0.3556 + 0.126155440707 p2_0.4064\n",
      " + 0.0710841442897 p2_0.4572 + 0.0425515571751 p2_0.508\n",
      " + 0.0267495526808 p2_0.5588 + 0.017509394063 p2_0.6096\n",
      " + 174337.545865 p6_0.0254 + 5960.11222482 p6_0.0508 + 827.217225184 p6_0.0762\n",
      " + 203.759537604 p6_0.1016 + 28.2802391874 p6_0.1524 + 6.96596768624 p6_0.2032\n",
      " + 2.34958374065 p6_0.254 + 0.966822140721 p6_0.3048\n",
      " + 0.456340425699 p6_0.3556 + 0.23814691757 p6_0.4064\n",
      " + 0.134187394184 p6_0.4572 + 0.080325684903 p6_0.508\n",
      " + 0.0504958286507 p6_0.5588 + 0.033052940097 p6_0.6096 <= 58\n",
      "\n",
      "VARIABLES\n",
      "0 <= p1_0.0254 <= 1 Integer\n",
      "0 <= p1_0.0508 <= 1 Integer\n",
      "0 <= p1_0.0762 <= 1 Integer\n",
      "0 <= p1_0.1016 <= 1 Integer\n",
      "0 <= p1_0.1524 <= 1 Integer\n",
      "0 <= p1_0.2032 <= 1 Integer\n",
      "0 <= p1_0.254 <= 1 Integer\n",
      "0 <= p1_0.3048 <= 1 Integer\n",
      "0 <= p1_0.3556 <= 1 Integer\n",
      "0 <= p1_0.4064 <= 1 Integer\n",
      "0 <= p1_0.4572 <= 1 Integer\n",
      "0 <= p1_0.508 <= 1 Integer\n",
      "0 <= p1_0.5588 <= 1 Integer\n",
      "0 <= p1_0.6096 <= 1 Integer\n",
      "0 <= p2_0.0254 <= 1 Integer\n",
      "0 <= p2_0.0508 <= 1 Integer\n",
      "0 <= p2_0.0762 <= 1 Integer\n",
      "0 <= p2_0.1016 <= 1 Integer\n",
      "0 <= p2_0.1524 <= 1 Integer\n",
      "0 <= p2_0.2032 <= 1 Integer\n",
      "0 <= p2_0.254 <= 1 Integer\n",
      "0 <= p2_0.3048 <= 1 Integer\n",
      "0 <= p2_0.3556 <= 1 Integer\n",
      "0 <= p2_0.4064 <= 1 Integer\n",
      "0 <= p2_0.4572 <= 1 Integer\n",
      "0 <= p2_0.508 <= 1 Integer\n",
      "0 <= p2_0.5588 <= 1 Integer\n",
      "0 <= p2_0.6096 <= 1 Integer\n",
      "0 <= p3_0.0254 <= 1 Integer\n",
      "0 <= p3_0.0508 <= 1 Integer\n",
      "0 <= p3_0.0762 <= 1 Integer\n",
      "0 <= p3_0.1016 <= 1 Integer\n",
      "0 <= p3_0.1524 <= 1 Integer\n",
      "0 <= p3_0.2032 <= 1 Integer\n",
      "0 <= p3_0.254 <= 1 Integer\n",
      "0 <= p3_0.3048 <= 1 Integer\n",
      "0 <= p3_0.3556 <= 1 Integer\n",
      "0 <= p3_0.4064 <= 1 Integer\n",
      "0 <= p3_0.4572 <= 1 Integer\n",
      "0 <= p3_0.508 <= 1 Integer\n",
      "0 <= p3_0.5588 <= 1 Integer\n",
      "0 <= p3_0.6096 <= 1 Integer\n",
      "0 <= p4_0.0254 <= 1 Integer\n",
      "0 <= p4_0.0508 <= 1 Integer\n",
      "0 <= p4_0.0762 <= 1 Integer\n",
      "0 <= p4_0.1016 <= 1 Integer\n",
      "0 <= p4_0.1524 <= 1 Integer\n",
      "0 <= p4_0.2032 <= 1 Integer\n",
      "0 <= p4_0.254 <= 1 Integer\n",
      "0 <= p4_0.3048 <= 1 Integer\n",
      "0 <= p4_0.3556 <= 1 Integer\n",
      "0 <= p4_0.4064 <= 1 Integer\n",
      "0 <= p4_0.4572 <= 1 Integer\n",
      "0 <= p4_0.508 <= 1 Integer\n",
      "0 <= p4_0.5588 <= 1 Integer\n",
      "0 <= p4_0.6096 <= 1 Integer\n",
      "0 <= p5_0.0254 <= 1 Integer\n",
      "0 <= p5_0.0508 <= 1 Integer\n",
      "0 <= p5_0.0762 <= 1 Integer\n",
      "0 <= p5_0.1016 <= 1 Integer\n",
      "0 <= p5_0.1524 <= 1 Integer\n",
      "0 <= p5_0.2032 <= 1 Integer\n",
      "0 <= p5_0.254 <= 1 Integer\n",
      "0 <= p5_0.3048 <= 1 Integer\n",
      "0 <= p5_0.3556 <= 1 Integer\n",
      "0 <= p5_0.4064 <= 1 Integer\n",
      "0 <= p5_0.4572 <= 1 Integer\n",
      "0 <= p5_0.508 <= 1 Integer\n",
      "0 <= p5_0.5588 <= 1 Integer\n",
      "0 <= p5_0.6096 <= 1 Integer\n",
      "0 <= p6_0.0254 <= 1 Integer\n",
      "0 <= p6_0.0508 <= 1 Integer\n",
      "0 <= p6_0.0762 <= 1 Integer\n",
      "0 <= p6_0.1016 <= 1 Integer\n",
      "0 <= p6_0.1524 <= 1 Integer\n",
      "0 <= p6_0.2032 <= 1 Integer\n",
      "0 <= p6_0.254 <= 1 Integer\n",
      "0 <= p6_0.3048 <= 1 Integer\n",
      "0 <= p6_0.3556 <= 1 Integer\n",
      "0 <= p6_0.4064 <= 1 Integer\n",
      "0 <= p6_0.4572 <= 1 Integer\n",
      "0 <= p6_0.508 <= 1 Integer\n",
      "0 <= p6_0.5588 <= 1 Integer\n",
      "0 <= p6_0.6096 <= 1 Integer\n",
      "\n",
      "status: Optimal\n",
      "df_model:\n",
      "     var_name Pipe_ID  Diameter_m  cost_USD_per_meter Start_Junction  \\\n",
      "0   p1_0.0254      p1      0.0254                 2.0         source   \n",
      "1   p1_0.0508      p1      0.0508                 5.0         source   \n",
      "2   p1_0.0762      p1      0.0762                 8.0         source   \n",
      "3   p1_0.1016      p1      0.1016                11.0         source   \n",
      "4   p1_0.1524      p1      0.1524                16.0         source   \n",
      "5   p1_0.2032      p1      0.2032                23.0         source   \n",
      "6    p1_0.254      p1      0.2540                32.0         source   \n",
      "7   p1_0.3048      p1      0.3048                50.0         source   \n",
      "8   p1_0.3556      p1      0.3556                60.0         source   \n",
      "9   p1_0.4064      p1      0.4064                90.0         source   \n",
      "10  p1_0.4572      p1      0.4572               130.0         source   \n",
      "11   p1_0.508      p1      0.5080               170.0         source   \n",
      "12  p1_0.5588      p1      0.5588               300.0         source   \n",
      "13  p1_0.6096      p1      0.6096               550.0         source   \n",
      "14  p2_0.0254      p2      0.0254                 2.0              a   \n",
      "15  p2_0.0508      p2      0.0508                 5.0              a   \n",
      "16  p2_0.0762      p2      0.0762                 8.0              a   \n",
      "17  p2_0.1016      p2      0.1016                11.0              a   \n",
      "18  p2_0.1524      p2      0.1524                16.0              a   \n",
      "19  p2_0.2032      p2      0.2032                23.0              a   \n",
      "20   p2_0.254      p2      0.2540                32.0              a   \n",
      "21  p2_0.3048      p2      0.3048                50.0              a   \n",
      "22  p2_0.3556      p2      0.3556                60.0              a   \n",
      "23  p2_0.4064      p2      0.4064                90.0              a   \n",
      "24  p2_0.4572      p2      0.4572               130.0              a   \n",
      "25   p2_0.508      p2      0.5080               170.0              a   \n",
      "26  p2_0.5588      p2      0.5588               300.0              a   \n",
      "27  p2_0.6096      p2      0.6096               550.0              a   \n",
      "28  p3_0.0254      p3      0.0254                 2.0              b   \n",
      "29  p3_0.0508      p3      0.0508                 5.0              b   \n",
      "30  p3_0.0762      p3      0.0762                 8.0              b   \n",
      "31  p3_0.1016      p3      0.1016                11.0              b   \n",
      "32  p3_0.1524      p3      0.1524                16.0              b   \n",
      "33  p3_0.2032      p3      0.2032                23.0              b   \n",
      "34   p3_0.254      p3      0.2540                32.0              b   \n",
      "35  p3_0.3048      p3      0.3048                50.0              b   \n",
      "36  p3_0.3556      p3      0.3556                60.0              b   \n",
      "37  p3_0.4064      p3      0.4064                90.0              b   \n",
      "38  p3_0.4572      p3      0.4572               130.0              b   \n",
      "39   p3_0.508      p3      0.5080               170.0              b   \n",
      "40  p3_0.5588      p3      0.5588               300.0              b   \n",
      "41  p3_0.6096      p3      0.6096               550.0              b   \n",
      "42  p4_0.0254      p4      0.0254                 2.0              c   \n",
      "43  p4_0.0508      p4      0.0508                 5.0              c   \n",
      "44  p4_0.0762      p4      0.0762                 8.0              c   \n",
      "45  p4_0.1016      p4      0.1016                11.0              c   \n",
      "46  p4_0.1524      p4      0.1524                16.0              c   \n",
      "47  p4_0.2032      p4      0.2032                23.0              c   \n",
      "48   p4_0.254      p4      0.2540                32.0              c   \n",
      "49  p4_0.3048      p4      0.3048                50.0              c   \n",
      "50  p4_0.3556      p4      0.3556                60.0              c   \n",
      "51  p4_0.4064      p4      0.4064                90.0              c   \n",
      "52  p4_0.4572      p4      0.4572               130.0              c   \n",
      "53   p4_0.508      p4      0.5080               170.0              c   \n",
      "54  p4_0.5588      p4      0.5588               300.0              c   \n",
      "55  p4_0.6096      p4      0.6096               550.0              c   \n",
      "56  p5_0.0254      p5      0.0254                 2.0              a   \n",
      "57  p5_0.0508      p5      0.0508                 5.0              a   \n",
      "58  p5_0.0762      p5      0.0762                 8.0              a   \n",
      "59  p5_0.1016      p5      0.1016                11.0              a   \n",
      "60  p5_0.1524      p5      0.1524                16.0              a   \n",
      "61  p5_0.2032      p5      0.2032                23.0              a   \n",
      "62   p5_0.254      p5      0.2540                32.0              a   \n",
      "63  p5_0.3048      p5      0.3048                50.0              a   \n",
      "64  p5_0.3556      p5      0.3556                60.0              a   \n",
      "65  p5_0.4064      p5      0.4064                90.0              a   \n",
      "66  p5_0.4572      p5      0.4572               130.0              a   \n",
      "67   p5_0.508      p5      0.5080               170.0              a   \n",
      "68  p5_0.5588      p5      0.5588               300.0              a   \n",
      "69  p5_0.6096      p5      0.6096               550.0              a   \n",
      "70  p6_0.0254      p6      0.0254                 2.0              b   \n",
      "71  p6_0.0508      p6      0.0508                 5.0              b   \n",
      "72  p6_0.0762      p6      0.0762                 8.0              b   \n",
      "73  p6_0.1016      p6      0.1016                11.0              b   \n",
      "74  p6_0.1524      p6      0.1524                16.0              b   \n",
      "75  p6_0.2032      p6      0.2032                23.0              b   \n",
      "76   p6_0.254      p6      0.2540                32.0              b   \n",
      "77  p6_0.3048      p6      0.3048                50.0              b   \n",
      "78  p6_0.3556      p6      0.3556                60.0              b   \n",
      "79  p6_0.4064      p6      0.4064                90.0              b   \n",
      "80  p6_0.4572      p6      0.4572               130.0              b   \n",
      "81   p6_0.508      p6      0.5080               170.0              b   \n",
      "82  p6_0.5588      p6      0.5588               300.0              b   \n",
      "83  p6_0.6096      p6      0.6096               550.0              b   \n",
      "\n",
      "   End_Junction  length_m   cost_USD  End_Junction_Elevation_m  static_head  \\\n",
      "0             a    1000.0     2000.0                     250.0        300.0   \n",
      "1             a    1000.0     5000.0                     250.0        300.0   \n",
      "2             a    1000.0     8000.0                     250.0        300.0   \n",
      "3             a    1000.0    11000.0                     250.0        300.0   \n",
      "4             a    1000.0    16000.0                     250.0        300.0   \n",
      "5             a    1000.0    23000.0                     250.0        300.0   \n",
      "6             a    1000.0    32000.0                     250.0        300.0   \n",
      "7             a    1000.0    50000.0                     250.0        300.0   \n",
      "8             a    1000.0    60000.0                     250.0        300.0   \n",
      "9             a    1000.0    90000.0                     250.0        300.0   \n",
      "10            a    1000.0   130000.0                     250.0        300.0   \n",
      "11            a    1000.0   170000.0                     250.0        300.0   \n",
      "12            a    1000.0   300000.0                     250.0        300.0   \n",
      "13            a    1000.0   550000.0                     250.0        300.0   \n",
      "14            b     500.0     1000.0                     270.0        300.0   \n",
      "15            b     500.0     2500.0                     270.0        300.0   \n",
      "16            b     500.0     4000.0                     270.0        300.0   \n",
      "17            b     500.0     5500.0                     270.0        300.0   \n",
      "18            b     500.0     8000.0                     270.0        300.0   \n",
      "19            b     500.0    11500.0                     270.0        300.0   \n",
      "20            b     500.0    16000.0                     270.0        300.0   \n",
      "21            b     500.0    25000.0                     270.0        300.0   \n",
      "22            b     500.0    30000.0                     270.0        300.0   \n",
      "23            b     500.0    45000.0                     270.0        300.0   \n",
      "24            b     500.0    65000.0                     270.0        300.0   \n",
      "25            b     500.0    85000.0                     270.0        300.0   \n",
      "26            b     500.0   150000.0                     270.0        300.0   \n",
      "27            b     500.0   275000.0                     270.0        300.0   \n",
      "28            c     200.0      400.0                     250.0        300.0   \n",
      "29            c     200.0     1000.0                     250.0        300.0   \n",
      "30            c     200.0     1600.0                     250.0        300.0   \n",
      "31            c     200.0     2200.0                     250.0        300.0   \n",
      "32            c     200.0     3200.0                     250.0        300.0   \n",
      "33            c     200.0     4600.0                     250.0        300.0   \n",
      "34            c     200.0     6400.0                     250.0        300.0   \n",
      "35            c     200.0    10000.0                     250.0        300.0   \n",
      "36            c     200.0    12000.0                     250.0        300.0   \n",
      "37            c     200.0    18000.0                     250.0        300.0   \n",
      "38            c     200.0    26000.0                     250.0        300.0   \n",
      "39            c     200.0    34000.0                     250.0        300.0   \n",
      "40            c     200.0    60000.0                     250.0        300.0   \n",
      "41            c     200.0   110000.0                     250.0        300.0   \n",
      "42           v1     700.0     1400.0                     230.0        300.0   \n",
      "43           v1     700.0     3500.0                     230.0        300.0   \n",
      "44           v1     700.0     5600.0                     230.0        300.0   \n",
      "45           v1     700.0     7700.0                     230.0        300.0   \n",
      "46           v1     700.0    11200.0                     230.0        300.0   \n",
      "47           v1     700.0    16100.0                     230.0        300.0   \n",
      "48           v1     700.0    22400.0                     230.0        300.0   \n",
      "49           v1     700.0    35000.0                     230.0        300.0   \n",
      "50           v1     700.0    42000.0                     230.0        300.0   \n",
      "51           v1     700.0    63000.0                     230.0        300.0   \n",
      "52           v1     700.0    91000.0                     230.0        300.0   \n",
      "53           v1     700.0   119000.0                     230.0        300.0   \n",
      "54           v1     700.0   210000.0                     230.0        300.0   \n",
      "55           v1     700.0   385000.0                     230.0        300.0   \n",
      "56           v2     300.0      600.0                     230.0        300.0   \n",
      "57           v2     300.0     1500.0                     230.0        300.0   \n",
      "58           v2     300.0     2400.0                     230.0        300.0   \n",
      "59           v2     300.0     3300.0                     230.0        300.0   \n",
      "60           v2     300.0     4800.0                     230.0        300.0   \n",
      "61           v2     300.0     6900.0                     230.0        300.0   \n",
      "62           v2     300.0     9600.0                     230.0        300.0   \n",
      "63           v2     300.0    15000.0                     230.0        300.0   \n",
      "64           v2     300.0    18000.0                     230.0        300.0   \n",
      "65           v2     300.0    27000.0                     230.0        300.0   \n",
      "66           v2     300.0    39000.0                     230.0        300.0   \n",
      "67           v2     300.0    51000.0                     230.0        300.0   \n",
      "68           v2     300.0    90000.0                     230.0        300.0   \n",
      "69           v2     300.0   165000.0                     230.0        300.0   \n",
      "70           v3    2000.0     4000.0                     240.0        300.0   \n",
      "71           v3    2000.0    10000.0                     240.0        300.0   \n",
      "72           v3    2000.0    16000.0                     240.0        300.0   \n",
      "73           v3    2000.0    22000.0                     240.0        300.0   \n",
      "74           v3    2000.0    32000.0                     240.0        300.0   \n",
      "75           v3    2000.0    46000.0                     240.0        300.0   \n",
      "76           v3    2000.0    64000.0                     240.0        300.0   \n",
      "77           v3    2000.0   100000.0                     240.0        300.0   \n",
      "78           v3    2000.0   120000.0                     240.0        300.0   \n",
      "79           v3    2000.0   180000.0                     240.0        300.0   \n",
      "80           v3    2000.0   260000.0                     240.0        300.0   \n",
      "81           v3    2000.0   340000.0                     240.0        300.0   \n",
      "82           v3    2000.0   600000.0                     240.0        300.0   \n",
      "83           v3    2000.0  1100000.0                     240.0        300.0   \n",
      "\n",
      "    Flow_cms  flow_cmh    dz    hwc end_junc_path  hydraulic_gradient_per_m  \\\n",
      "0   0.044444     160.0  50.0  140.0            p1                  0.050000   \n",
      "1   0.044444     160.0  50.0  140.0            p1                  0.050000   \n",
      "2   0.044444     160.0  50.0  140.0            p1                  0.050000   \n",
      "3   0.044444     160.0  50.0  140.0            p1                  0.050000   \n",
      "4   0.044444     160.0  50.0  140.0            p1                  0.050000   \n",
      "5   0.044444     160.0  50.0  140.0            p1                  0.050000   \n",
      "6   0.044444     160.0  50.0  140.0            p1                  0.050000   \n",
      "7   0.044444     160.0  50.0  140.0            p1                  0.050000   \n",
      "8   0.044444     160.0  50.0  140.0            p1                  0.050000   \n",
      "9   0.044444     160.0  50.0  140.0            p1                  0.050000   \n",
      "10  0.044444     160.0  50.0  140.0            p1                  0.050000   \n",
      "11  0.044444     160.0  50.0  140.0            p1                  0.050000   \n",
      "12  0.044444     160.0  50.0  140.0            p1                  0.050000   \n",
      "13  0.044444     160.0  50.0  140.0            p1                  0.050000   \n",
      "14  0.041667     150.0  30.0  140.0         p1,p2                  0.060000   \n",
      "15  0.041667     150.0  30.0  140.0         p1,p2                  0.060000   \n",
      "16  0.041667     150.0  30.0  140.0         p1,p2                  0.060000   \n",
      "17  0.041667     150.0  30.0  140.0         p1,p2                  0.060000   \n",
      "18  0.041667     150.0  30.0  140.0         p1,p2                  0.060000   \n",
      "19  0.041667     150.0  30.0  140.0         p1,p2                  0.060000   \n",
      "20  0.041667     150.0  30.0  140.0         p1,p2                  0.060000   \n",
      "21  0.041667     150.0  30.0  140.0         p1,p2                  0.060000   \n",
      "22  0.041667     150.0  30.0  140.0         p1,p2                  0.060000   \n",
      "23  0.041667     150.0  30.0  140.0         p1,p2                  0.060000   \n",
      "24  0.041667     150.0  30.0  140.0         p1,p2                  0.060000   \n",
      "25  0.041667     150.0  30.0  140.0         p1,p2                  0.060000   \n",
      "26  0.041667     150.0  30.0  140.0         p1,p2                  0.060000   \n",
      "27  0.041667     150.0  30.0  140.0         p1,p2                  0.060000   \n",
      "28  0.013889      50.0  50.0  140.0      p1,p2,p3                  0.250000   \n",
      "29  0.013889      50.0  50.0  140.0      p1,p2,p3                  0.250000   \n",
      "30  0.013889      50.0  50.0  140.0      p1,p2,p3                  0.250000   \n",
      "31  0.013889      50.0  50.0  140.0      p1,p2,p3                  0.250000   \n",
      "32  0.013889      50.0  50.0  140.0      p1,p2,p3                  0.250000   \n",
      "33  0.013889      50.0  50.0  140.0      p1,p2,p3                  0.250000   \n",
      "34  0.013889      50.0  50.0  140.0      p1,p2,p3                  0.250000   \n",
      "35  0.013889      50.0  50.0  140.0      p1,p2,p3                  0.250000   \n",
      "36  0.013889      50.0  50.0  140.0      p1,p2,p3                  0.250000   \n",
      "37  0.013889      50.0  50.0  140.0      p1,p2,p3                  0.250000   \n",
      "38  0.013889      50.0  50.0  140.0      p1,p2,p3                  0.250000   \n",
      "39  0.013889      50.0  50.0  140.0      p1,p2,p3                  0.250000   \n",
      "40  0.013889      50.0  50.0  140.0      p1,p2,p3                  0.250000   \n",
      "41  0.013889      50.0  50.0  140.0      p1,p2,p3                  0.250000   \n",
      "42  0.013889      50.0  70.0  140.0   p1,p2,p3,p4                  0.100000   \n",
      "43  0.013889      50.0  70.0  140.0   p1,p2,p3,p4                  0.100000   \n",
      "44  0.013889      50.0  70.0  140.0   p1,p2,p3,p4                  0.100000   \n",
      "45  0.013889      50.0  70.0  140.0   p1,p2,p3,p4                  0.100000   \n",
      "46  0.013889      50.0  70.0  140.0   p1,p2,p3,p4                  0.100000   \n",
      "47  0.013889      50.0  70.0  140.0   p1,p2,p3,p4                  0.100000   \n",
      "48  0.013889      50.0  70.0  140.0   p1,p2,p3,p4                  0.100000   \n",
      "49  0.013889      50.0  70.0  140.0   p1,p2,p3,p4                  0.100000   \n",
      "50  0.013889      50.0  70.0  140.0   p1,p2,p3,p4                  0.100000   \n",
      "51  0.013889      50.0  70.0  140.0   p1,p2,p3,p4                  0.100000   \n",
      "52  0.013889      50.0  70.0  140.0   p1,p2,p3,p4                  0.100000   \n",
      "53  0.013889      50.0  70.0  140.0   p1,p2,p3,p4                  0.100000   \n",
      "54  0.013889      50.0  70.0  140.0   p1,p2,p3,p4                  0.100000   \n",
      "55  0.013889      50.0  70.0  140.0   p1,p2,p3,p4                  0.100000   \n",
      "56  0.002778      10.0  70.0  140.0         p1,p5                  0.233333   \n",
      "57  0.002778      10.0  70.0  140.0         p1,p5                  0.233333   \n",
      "58  0.002778      10.0  70.0  140.0         p1,p5                  0.233333   \n",
      "59  0.002778      10.0  70.0  140.0         p1,p5                  0.233333   \n",
      "60  0.002778      10.0  70.0  140.0         p1,p5                  0.233333   \n",
      "61  0.002778      10.0  70.0  140.0         p1,p5                  0.233333   \n",
      "62  0.002778      10.0  70.0  140.0         p1,p5                  0.233333   \n",
      "63  0.002778      10.0  70.0  140.0         p1,p5                  0.233333   \n",
      "64  0.002778      10.0  70.0  140.0         p1,p5                  0.233333   \n",
      "65  0.002778      10.0  70.0  140.0         p1,p5                  0.233333   \n",
      "66  0.002778      10.0  70.0  140.0         p1,p5                  0.233333   \n",
      "67  0.002778      10.0  70.0  140.0         p1,p5                  0.233333   \n",
      "68  0.002778      10.0  70.0  140.0         p1,p5                  0.233333   \n",
      "69  0.002778      10.0  70.0  140.0         p1,p5                  0.233333   \n",
      "70  0.027778     100.0  60.0  140.0      p1,p2,p6                  0.030000   \n",
      "71  0.027778     100.0  60.0  140.0      p1,p2,p6                  0.030000   \n",
      "72  0.027778     100.0  60.0  140.0      p1,p2,p6                  0.030000   \n",
      "73  0.027778     100.0  60.0  140.0      p1,p2,p6                  0.030000   \n",
      "74  0.027778     100.0  60.0  140.0      p1,p2,p6                  0.030000   \n",
      "75  0.027778     100.0  60.0  140.0      p1,p2,p6                  0.030000   \n",
      "76  0.027778     100.0  60.0  140.0      p1,p2,p6                  0.030000   \n",
      "77  0.027778     100.0  60.0  140.0      p1,p2,p6                  0.030000   \n",
      "78  0.027778     100.0  60.0  140.0      p1,p2,p6                  0.030000   \n",
      "79  0.027778     100.0  60.0  140.0      p1,p2,p6                  0.030000   \n",
      "80  0.027778     100.0  60.0  140.0      p1,p2,p6                  0.030000   \n",
      "81  0.027778     100.0  60.0  140.0      p1,p2,p6                  0.030000   \n",
      "82  0.027778     100.0  60.0  140.0      p1,p2,p6                  0.030000   \n",
      "83  0.027778     100.0  60.0  140.0      p1,p2,p6                  0.030000   \n",
      "\n",
      "         headloss  headloss_per_m    lp_vars  Distance_from_Source_m  Results  \n",
      "0   208157.057639    2.081571e+02  p1_0.0254                  1000.0      0.0  \n",
      "1     7116.306575    7.116307e+00  p1_0.0508                  2000.0      0.0  \n",
      "2      987.688009    9.876880e-01  p1_0.0762                  3000.0      0.0  \n",
      "3      243.286583    2.432866e-01  p1_0.1016                  4000.0      0.0  \n",
      "4       33.766286    3.376629e-02  p1_0.1524                  5000.0      0.0  \n",
      "5        8.317287    8.317287e-03  p1_0.2032                  6000.0      1.0  \n",
      "6        2.805376    2.805376e-03   p1_0.254                  7000.0      0.0  \n",
      "7        1.154375    1.154375e-03  p1_0.3048                  8000.0      0.0  \n",
      "8        0.544865    5.448653e-04  p1_0.3556                  9000.0      0.0  \n",
      "9        0.284345    2.843447e-04  p1_0.4064                 10000.0      0.0  \n",
      "10       0.160218    1.602182e-04  p1_0.4572                 11000.0      0.0  \n",
      "11       0.095908    9.590796e-05   p1_0.508                 12000.0      0.0  \n",
      "12       0.060291    6.029145e-05  p1_0.5588                 13000.0      0.0  \n",
      "13       0.039465    3.946484e-05  p1_0.6096                 14000.0      0.0  \n",
      "14   92353.200095    1.847064e+02  p2_0.0254                 14500.0      0.0  \n",
      "15    3157.297151    6.314594e+00  p2_0.0508                 15000.0      0.0  \n",
      "16     438.208290    8.764166e-01  p2_0.0762                 15500.0      0.0  \n",
      "17     107.939143    2.158783e-01  p2_0.1016                 16000.0      0.0  \n",
      "18      14.981114    2.996223e-02  p2_0.1524                 16500.0      1.0  \n",
      "19       3.690137    7.380274e-03  p2_0.2032                 17000.0      0.0  \n",
      "20       1.244663    2.489327e-03   p2_0.254                 17500.0      0.0  \n",
      "21       0.512162    1.024325e-03  p2_0.3048                 18000.0      0.0  \n",
      "22       0.241741    4.834816e-04  p2_0.3556                 18500.0      0.0  \n",
      "23       0.126155    2.523109e-04  p2_0.4064                 19000.0      0.0  \n",
      "24       0.071084    1.421683e-04  p2_0.4572                 19500.0      0.0  \n",
      "25       0.042552    8.510311e-05   p2_0.508                 20000.0      0.0  \n",
      "26       0.026750    5.349911e-05  p2_0.5588                 20500.0      0.0  \n",
      "27       0.017509    3.501879e-05  p2_0.6096                 21000.0      0.0  \n",
      "28    4829.291007    2.414646e+01  p3_0.0254                 21200.0      0.0  \n",
      "29     165.099929    8.254996e-01  p3_0.0508                 21400.0      0.0  \n",
      "30      22.914586    1.145729e-01  p3_0.0762                 21600.0      1.0  \n",
      "31       5.644304    2.822152e-02  p3_0.1016                 21800.0      0.0  \n",
      "32       0.783385    3.916927e-03  p3_0.1524                 22000.0      0.0  \n",
      "33       0.192963    9.648147e-04  p3_0.2032                 22200.0      0.0  \n",
      "34       0.065085    3.254268e-04   p3_0.254                 22400.0      0.0  \n",
      "35       0.026782    1.339088e-04  p3_0.3048                 22600.0      0.0  \n",
      "36       0.012641    6.320499e-05  p3_0.3556                 22800.0      0.0  \n",
      "37       0.006597    3.298431e-05  p3_0.4064                 23000.0      0.0  \n",
      "38       0.003717    1.858550e-05  p3_0.4572                 23200.0      0.0  \n",
      "39       0.002225    1.112543e-05   p3_0.508                 23400.0      0.0  \n",
      "40       0.001399    6.993876e-06  p3_0.5588                 23600.0      0.0  \n",
      "41       0.000916    4.577966e-06  p3_0.6096                 23800.0      0.0  \n",
      "42   16902.518523    2.414646e+01  p4_0.0254                 24500.0      0.0  \n",
      "43     577.849750    8.254996e-01  p4_0.0508                 25200.0      0.0  \n",
      "44      80.201051    1.145729e-01  p4_0.0762                 25900.0      0.0  \n",
      "45      19.755064    2.822152e-02  p4_0.1016                 26600.0      1.0  \n",
      "46       2.741849    3.916927e-03  p4_0.1524                 27300.0      0.0  \n",
      "47       0.675370    9.648147e-04  p4_0.2032                 28000.0      0.0  \n",
      "48       0.227799    3.254268e-04   p4_0.254                 28700.0      0.0  \n",
      "49       0.093736    1.339088e-04  p4_0.3048                 29400.0      0.0  \n",
      "50       0.044243    6.320499e-05  p4_0.3556                 30100.0      0.0  \n",
      "51       0.023089    3.298431e-05  p4_0.4064                 30800.0      0.0  \n",
      "52       0.013010    1.858550e-05  p4_0.4572                 31500.0      0.0  \n",
      "53       0.007788    1.112543e-05   p4_0.508                 32200.0      0.0  \n",
      "54       0.004896    6.993876e-06  p4_0.5588                 32900.0      0.0  \n",
      "55       0.003205    4.577966e-06  p4_0.6096                 33600.0      0.0  \n",
      "56     367.690312    1.225634e+00  p5_0.0254                 14300.0      0.0  \n",
      "57      12.570302    4.190101e-02  p5_0.0508                 14600.0      1.0  \n",
      "58       1.744660    5.815534e-03  p5_0.0762                 14900.0      0.0  \n",
      "59       0.429743    1.432478e-03  p5_0.1016                 15200.0      0.0  \n",
      "60       0.059645    1.988168e-04  p5_0.1524                 15500.0      0.0  \n",
      "61       0.014692    4.897241e-05  p5_0.2032                 15800.0      0.0  \n",
      "62       0.004955    1.651813e-05   p5_0.254                 16100.0      0.0  \n",
      "63       0.002039    6.796989e-06  p5_0.3048                 16400.0      0.0  \n",
      "64       0.000962    3.208182e-06  p5_0.3556                 16700.0      0.0  \n",
      "65       0.000502    1.674229e-06  p5_0.4064                 17000.0      0.0  \n",
      "66       0.000283    9.433693e-07  p5_0.4572                 17300.0      0.0  \n",
      "67       0.000169    5.647087e-07   p5_0.508                 17600.0      0.0  \n",
      "68       0.000106    3.549977e-07  p5_0.5588                 17900.0      0.0  \n",
      "69       0.000070    2.323700e-07  p5_0.6096                 18200.0      0.0  \n",
      "70  174337.545865    8.716877e+01  p6_0.0254                 23000.0      0.0  \n",
      "71    5960.112225    2.980056e+00  p6_0.0508                 25000.0      0.0  \n",
      "72     827.217225    4.136086e-01  p6_0.0762                 27000.0      0.0  \n",
      "73     203.759538    1.018798e-01  p6_0.1016                 29000.0      0.0  \n",
      "74      28.280239    1.414012e-02  p6_0.1524                 31000.0      1.0  \n",
      "75       6.965968    3.482984e-03  p6_0.2032                 33000.0      0.0  \n",
      "76       2.349584    1.174792e-03   p6_0.254                 35000.0      0.0  \n",
      "77       0.966822    4.834111e-04  p6_0.3048                 37000.0      0.0  \n",
      "78       0.456340    2.281702e-04  p6_0.3556                 39000.0      0.0  \n",
      "79       0.238147    1.190735e-04  p6_0.4064                 41000.0      0.0  \n",
      "80       0.134187    6.709370e-05  p6_0.4572                 43000.0      0.0  \n",
      "81       0.080326    4.016284e-05   p6_0.508                 45000.0      0.0  \n",
      "82       0.050496    2.524791e-05  p6_0.5588                 47000.0      0.0  \n",
      "83       0.033053    1.652647e-05  p6_0.6096                 49000.0      0.0  \n",
      "\n",
      "total_cost_of_operation: 73800.0\n",
      "branches_end: ['p1,p2,p3,p4', 'p1,p5', 'p1,p2,p6']\n",
      "results_branch: {'p1,p2,p3,p4':     var_name Pipe_ID  Diameter_m  cost_USD_per_meter Start_Junction  \\\n",
      "0  p1_0.2032      p1      0.2032                23.0         source   \n",
      "1  p2_0.1524      p2      0.1524                16.0              a   \n",
      "2  p3_0.0762      p3      0.0762                 8.0              b   \n",
      "3  p4_0.1016      p4      0.1016                11.0              c   \n",
      "\n",
      "  End_Junction  length_m  cost_USD  End_Junction_Elevation_m  static_head  \\\n",
      "0            a    1000.0   23000.0                     250.0        300.0   \n",
      "1            b     500.0    8000.0                     270.0        300.0   \n",
      "2            c     200.0    1600.0                     250.0        300.0   \n",
      "3           v1     700.0    7700.0                     230.0        300.0   \n",
      "\n",
      "   Flow_cms  flow_cmh    dz    hwc end_junc_path  hydraulic_gradient_per_m  \\\n",
      "0  0.044444     160.0  50.0  140.0            p1                      0.05   \n",
      "1  0.041667     150.0  30.0  140.0         p1,p2                      0.06   \n",
      "2  0.013889      50.0  50.0  140.0      p1,p2,p3                      0.25   \n",
      "3  0.013889      50.0  70.0  140.0   p1,p2,p3,p4                      0.10   \n",
      "\n",
      "    headloss  headloss_per_m    lp_vars  Distance_from_Source_m  Results  \\\n",
      "0   8.317287        0.008317  p1_0.2032                     1.0      1.0   \n",
      "1  14.981114        0.029962  p2_0.1524                     2.0      1.0   \n",
      "2  22.914586        0.114573  p3_0.0762                     3.0      1.0   \n",
      "3  19.755064        0.028222  p4_0.1016                     4.0      1.0   \n",
      "\n",
      "   Total_Head_m  Pressure_Head_m  branch_end pipe_updated  flow_cms  \\\n",
      "0    291.682713        41.682713           0           p1  0.044444   \n",
      "1    276.701600         6.701600           0           p2  0.041667   \n",
      "2    253.787014         3.787014           0           p3  0.013889   \n",
      "3    234.031950         4.031950           0           p4  0.013889   \n",
      "\n",
      "   Velocity_m_s  Diameter_mm  sort_index  \n",
      "0      1.370504     0.000203         1.0  \n",
      "1      2.284173     0.000152         2.0  \n",
      "2      3.045564     0.000076         3.0  \n",
      "3      1.713130     0.000102         4.0  , 'p1,p5':     var_name Pipe_ID  Diameter_m  cost_USD_per_meter Start_Junction  \\\n",
      "0  p1_0.2032      p1      0.2032                23.0         source   \n",
      "4  p5_0.0508      p5      0.0508                 5.0              a   \n",
      "\n",
      "  End_Junction  length_m  cost_USD  End_Junction_Elevation_m  static_head  \\\n",
      "0            a    1000.0   23000.0                     250.0        300.0   \n",
      "4           v2     300.0    1500.0                     230.0        300.0   \n",
      "\n",
      "   Flow_cms  flow_cmh    dz    hwc end_junc_path  hydraulic_gradient_per_m  \\\n",
      "0  0.044444     160.0  50.0  140.0            p1                  0.050000   \n",
      "4  0.002778      10.0  70.0  140.0         p1,p5                  0.233333   \n",
      "\n",
      "    headloss  headloss_per_m    lp_vars  Distance_from_Source_m  Results  \\\n",
      "0   8.317287        0.008317  p1_0.2032                     1.0      1.0   \n",
      "4  12.570302        0.041901  p5_0.0508                     2.0      1.0   \n",
      "\n",
      "   Total_Head_m  Pressure_Head_m  branch_end pipe_updated  flow_cms  \\\n",
      "0    291.682713        41.682713           0           p1  0.044444   \n",
      "4    279.112412        49.112412           0           p5  0.002778   \n",
      "\n",
      "   Velocity_m_s  Diameter_mm  sort_index  \n",
      "0      1.370504     0.000203         1.0  \n",
      "4      1.370504     0.000051         2.0  , 'p1,p2,p6':     var_name Pipe_ID  Diameter_m  cost_USD_per_meter Start_Junction  \\\n",
      "0  p1_0.2032      p1      0.2032                23.0         source   \n",
      "1  p2_0.1524      p2      0.1524                16.0              a   \n",
      "5  p6_0.1524      p6      0.1524                16.0              b   \n",
      "\n",
      "  End_Junction  length_m  cost_USD  End_Junction_Elevation_m  static_head  \\\n",
      "0            a    1000.0   23000.0                     250.0        300.0   \n",
      "1            b     500.0    8000.0                     270.0        300.0   \n",
      "5           v3    2000.0   32000.0                     240.0        300.0   \n",
      "\n",
      "   Flow_cms  flow_cmh    dz    hwc end_junc_path  hydraulic_gradient_per_m  \\\n",
      "0  0.044444     160.0  50.0  140.0            p1                      0.05   \n",
      "1  0.041667     150.0  30.0  140.0         p1,p2                      0.06   \n",
      "5  0.027778     100.0  60.0  140.0      p1,p2,p6                      0.03   \n",
      "\n",
      "    headloss  headloss_per_m    lp_vars  Distance_from_Source_m  Results  \\\n",
      "0   8.317287        0.008317  p1_0.2032                     1.0      1.0   \n",
      "1  14.981114        0.029962  p2_0.1524                     2.0      1.0   \n",
      "5  28.280239        0.014140  p6_0.1524                     3.0      1.0   \n",
      "\n",
      "   Total_Head_m  Pressure_Head_m  branch_end pipe_updated  flow_cms  \\\n",
      "0    291.682713        41.682713           0           p1  0.044444   \n",
      "1    276.701600         6.701600           0           p2  0.041667   \n",
      "5    248.421361         8.421361           0           p6  0.027778   \n",
      "\n",
      "   Velocity_m_s  Diameter_mm  sort_index  \n",
      "0      1.370504     0.000203         1.0  \n",
      "1      2.284173     0.000152         2.0  \n",
      "5      1.522782     0.000152         3.0  }\n",
      "df_res:\n",
      "    var_name Pipe_ID  Diameter_m  cost_USD_per_meter Start_Junction  \\\n",
      "0  p1_0.2032      p1      0.2032                23.0         source   \n",
      "1  p2_0.1524      p2      0.1524                16.0              a   \n",
      "2  p3_0.0762      p3      0.0762                 8.0              b   \n",
      "3  p4_0.1016      p4      0.1016                11.0              c   \n",
      "4  p5_0.0508      p5      0.0508                 5.0              a   \n",
      "5  p6_0.1524      p6      0.1524                16.0              b   \n",
      "\n",
      "  End_Junction  length_m  cost_USD  End_Junction_Elevation_m  static_head  \\\n",
      "0            a    1000.0   23000.0                     250.0        300.0   \n",
      "1            b     500.0    8000.0                     270.0        300.0   \n",
      "2            c     200.0    1600.0                     250.0        300.0   \n",
      "3           v1     700.0    7700.0                     230.0        300.0   \n",
      "4           v2     300.0    1500.0                     230.0        300.0   \n",
      "5           v3    2000.0   32000.0                     240.0        300.0   \n",
      "\n",
      "   Flow_cms  flow_cmh    dz    hwc end_junc_path  hydraulic_gradient_per_m  \\\n",
      "0  0.044444     160.0  50.0  140.0            p1                  0.050000   \n",
      "1  0.041667     150.0  30.0  140.0         p1,p2                  0.060000   \n",
      "2  0.013889      50.0  50.0  140.0      p1,p2,p3                  0.250000   \n",
      "3  0.013889      50.0  70.0  140.0   p1,p2,p3,p4                  0.100000   \n",
      "4  0.002778      10.0  70.0  140.0         p1,p5                  0.233333   \n",
      "5  0.027778     100.0  60.0  140.0      p1,p2,p6                  0.030000   \n",
      "\n",
      "    headloss  headloss_per_m    lp_vars  Distance_from_Source_m  Results  \\\n",
      "0   8.317287        0.008317  p1_0.2032                     1.0      1.0   \n",
      "1  14.981114        0.029962  p2_0.1524                     2.0      1.0   \n",
      "2  22.914586        0.114573  p3_0.0762                     3.0      1.0   \n",
      "3  19.755064        0.028222  p4_0.1016                     4.0      1.0   \n",
      "4  12.570302        0.041901  p5_0.0508                     2.0      1.0   \n",
      "5  28.280239        0.014140  p6_0.1524                     3.0      1.0   \n",
      "\n",
      "   Total_Head_m  Pressure_Head_m  branch_end pipe_updated  flow_cms  \\\n",
      "0    291.682713        41.682713           0           p1  0.044444   \n",
      "1    276.701600         6.701600           0           p2  0.041667   \n",
      "2    253.787014         3.787014           0           p3  0.013889   \n",
      "3    234.031950         4.031950           0           p4  0.013889   \n",
      "4    279.112412        49.112412           0           p5  0.002778   \n",
      "5    248.421361         8.421361           0           p6  0.027778   \n",
      "\n",
      "   Velocity_m_s  Diameter_mm  \n",
      "0      1.370504     0.000203  \n",
      "1      2.284173     0.000152  \n",
      "2      3.045564     0.000076  \n",
      "3      1.713130     0.000102  \n",
      "4      1.370504     0.000051  \n",
      "5      1.522782     0.000152  \n",
      "\n",
      "pipes_summery:\n",
      "  Pipe_ID  Diameter_mm  Velocity_m_s  length_m  flow_cmh   headloss\n",
      "0      p1     0.000203      1.370504    1000.0     160.0   8.317287\n",
      "1      p2     0.000152      2.284173     500.0     150.0  14.981114\n",
      "2      p3     0.000076      3.045564     200.0      50.0  22.914586\n",
      "3      p4     0.000102      1.713130     700.0      50.0  19.755064\n",
      "4      p5     0.000051      1.370504     300.0      10.0  12.570302\n",
      "5      p6     0.000152      1.522782    2000.0     100.0  28.280239\n",
      "\n",
      "=== 3  ===\n",
      "========Plot Branch:  p1,p2,p3,p4 ========\n",
      "\n"
     ]
    },
    {
     "data": {
      "application/vnd.plotly.v1+json": {
       "data": [
        {
         "line": {
          "color": "brown",
          "width": 3
         },
         "marker": {
          "size": 8
         },
         "mode": "lines+markers",
         "name": "Ground Elevation",
         "x": {
          "dtype": "f8",
          "bdata": "AAAAAAAAAAAAAAAAAADwPwAAAAAAAABAAAAAAAAACEAAAAAAAAAQQA=="
         },
         "y": {
          "dtype": "f8",
          "bdata": "AAAAAADAckAAAAAAAEBvQAAAAAAA4HBAAAAAAABAb0AAAAAAAMBsQA=="
         },
         "type": "scatter",
         "xaxis": "x",
         "yaxis": "y"
        },
        {
         "line": {
          "color": "red",
          "dash": "dash",
          "width": 2
         },
         "marker": {
          "size": 6
         },
         "mode": "lines+markers",
         "name": "Energy Grade Line (EGL)",
         "x": {
          "dtype": "f8",
          "bdata": "AAAAAAAAAAAAAAAAAADwPwAAAAAAAABAAAAAAAAACEAAAAAAAAAQQA=="
         },
         "y": {
          "dtype": "f8",
          "bdata": "AAAAAADAckCvHN5k7DpyQC2Mo8A5S3FAQpkyNy+5b0CySG67BUFtQA=="
         },
         "type": "scatter",
         "xaxis": "x",
         "yaxis": "y"
        },
        {
         "fill": "tonexty",
         "fillcolor": "rgba(0,100,255,0.1)",
         "line": {
          "color": "blue",
          "width": 2
         },
         "marker": {
          "size": 6
         },
         "mode": "lines+markers",
         "name": "Hydraulic Grade Line (HGL)",
         "x": {
          "dtype": "f8",
          "bdata": "AAAAAAAAAAAAAAAAAADwPwAAAAAAAABAAAAAAAAACEAAAAAAAAAQQA=="
         },
         "y": {
          "dtype": "f8",
          "bdata": "AAAAAADAckCvHN5k7DpyQC2Mo8A5S3FAQpkyNy+5b0CySG67BUFtQA=="
         },
         "type": "scatter",
         "xaxis": "x",
         "yaxis": "y"
        },
        {
         "line": {
          "color": "green",
          "width": 2
         },
         "marker": {
          "size": 6
         },
         "mode": "lines+markers",
         "name": "Pressure Head",
         "x": {
          "dtype": "f8",
          "bdata": "AAAAAAAAAAAAAAAAAADwPwAAAAAAAABAAAAAAAAACEAAAAAAAAAQQA=="
         },
         "y": {
          "dtype": "f8",
          "bdata": "AAAAAAAAAAB25fAmY9dEQDQL4yhwzhpAgFCmzM1LDkBAFslttyAQQA=="
         },
         "yaxis": "y2",
         "type": "scatter",
         "xaxis": "x"
        }
       ],
       "layout": {
        "template": {
         "data": {
          "histogram2dcontour": [
           {
            "type": "histogram2dcontour",
            "colorbar": {
             "outlinewidth": 0,
             "ticks": ""
            },
            "colorscale": [
             [
              0.0,
              "#0d0887"
             ],
             [
              0.1111111111111111,
              "#46039f"
             ],
             [
              0.2222222222222222,
              "#7201a8"
             ],
             [
              0.3333333333333333,
              "#9c179e"
             ],
             [
              0.4444444444444444,
              "#bd3786"
             ],
             [
              0.5555555555555556,
              "#d8576b"
             ],
             [
              0.6666666666666666,
              "#ed7953"
             ],
             [
              0.7777777777777778,
              "#fb9f3a"
             ],
             [
              0.8888888888888888,
              "#fdca26"
             ],
             [
              1.0,
              "#f0f921"
             ]
            ]
           }
          ],
          "choropleth": [
           {
            "type": "choropleth",
            "colorbar": {
             "outlinewidth": 0,
             "ticks": ""
            }
           }
          ],
          "histogram2d": [
           {
            "type": "histogram2d",
            "colorbar": {
             "outlinewidth": 0,
             "ticks": ""
            },
            "colorscale": [
             [
              0.0,
              "#0d0887"
             ],
             [
              0.1111111111111111,
              "#46039f"
             ],
             [
              0.2222222222222222,
              "#7201a8"
             ],
             [
              0.3333333333333333,
              "#9c179e"
             ],
             [
              0.4444444444444444,
              "#bd3786"
             ],
             [
              0.5555555555555556,
              "#d8576b"
             ],
             [
              0.6666666666666666,
              "#ed7953"
             ],
             [
              0.7777777777777778,
              "#fb9f3a"
             ],
             [
              0.8888888888888888,
              "#fdca26"
             ],
             [
              1.0,
              "#f0f921"
             ]
            ]
           }
          ],
          "heatmap": [
           {
            "type": "heatmap",
            "colorbar": {
             "outlinewidth": 0,
             "ticks": ""
            },
            "colorscale": [
             [
              0.0,
              "#0d0887"
             ],
             [
              0.1111111111111111,
              "#46039f"
             ],
             [
              0.2222222222222222,
              "#7201a8"
             ],
             [
              0.3333333333333333,
              "#9c179e"
             ],
             [
              0.4444444444444444,
              "#bd3786"
             ],
             [
              0.5555555555555556,
              "#d8576b"
             ],
             [
              0.6666666666666666,
              "#ed7953"
             ],
             [
              0.7777777777777778,
              "#fb9f3a"
             ],
             [
              0.8888888888888888,
              "#fdca26"
             ],
             [
              1.0,
              "#f0f921"
             ]
            ]
           }
          ],
          "contourcarpet": [
           {
            "type": "contourcarpet",
            "colorbar": {
             "outlinewidth": 0,
             "ticks": ""
            }
           }
          ],
          "contour": [
           {
            "type": "contour",
            "colorbar": {
             "outlinewidth": 0,
             "ticks": ""
            },
            "colorscale": [
             [
              0.0,
              "#0d0887"
             ],
             [
              0.1111111111111111,
              "#46039f"
             ],
             [
              0.2222222222222222,
              "#7201a8"
             ],
             [
              0.3333333333333333,
              "#9c179e"
             ],
             [
              0.4444444444444444,
              "#bd3786"
             ],
             [
              0.5555555555555556,
              "#d8576b"
             ],
             [
              0.6666666666666666,
              "#ed7953"
             ],
             [
              0.7777777777777778,
              "#fb9f3a"
             ],
             [
              0.8888888888888888,
              "#fdca26"
             ],
             [
              1.0,
              "#f0f921"
             ]
            ]
           }
          ],
          "surface": [
           {
            "type": "surface",
            "colorbar": {
             "outlinewidth": 0,
             "ticks": ""
            },
            "colorscale": [
             [
              0.0,
              "#0d0887"
             ],
             [
              0.1111111111111111,
              "#46039f"
             ],
             [
              0.2222222222222222,
              "#7201a8"
             ],
             [
              0.3333333333333333,
              "#9c179e"
             ],
             [
              0.4444444444444444,
              "#bd3786"
             ],
             [
              0.5555555555555556,
              "#d8576b"
             ],
             [
              0.6666666666666666,
              "#ed7953"
             ],
             [
              0.7777777777777778,
              "#fb9f3a"
             ],
             [
              0.8888888888888888,
              "#fdca26"
             ],
             [
              1.0,
              "#f0f921"
             ]
            ]
           }
          ],
          "mesh3d": [
           {
            "type": "mesh3d",
            "colorbar": {
             "outlinewidth": 0,
             "ticks": ""
            }
           }
          ],
          "scatter": [
           {
            "marker": {
             "line": {
              "color": "#283442"
             }
            },
            "type": "scatter"
           }
          ],
          "parcoords": [
           {
            "type": "parcoords",
            "line": {
             "colorbar": {
              "outlinewidth": 0,
              "ticks": ""
             }
            }
           }
          ],
          "scatterpolargl": [
           {
            "type": "scatterpolargl",
            "marker": {
             "colorbar": {
              "outlinewidth": 0,
              "ticks": ""
             }
            }
           }
          ],
          "bar": [
           {
            "error_x": {
             "color": "#f2f5fa"
            },
            "error_y": {
             "color": "#f2f5fa"
            },
            "marker": {
             "line": {
              "color": "rgb(17,17,17)",
              "width": 0.5
             },
             "pattern": {
              "fillmode": "overlay",
              "size": 10,
              "solidity": 0.2
             }
            },
            "type": "bar"
           }
          ],
          "scattergeo": [
           {
            "type": "scattergeo",
            "marker": {
             "colorbar": {
              "outlinewidth": 0,
              "ticks": ""
             }
            }
           }
          ],
          "scatterpolar": [
           {
            "type": "scatterpolar",
            "marker": {
             "colorbar": {
              "outlinewidth": 0,
              "ticks": ""
             }
            }
           }
          ],
          "histogram": [
           {
            "marker": {
             "pattern": {
              "fillmode": "overlay",
              "size": 10,
              "solidity": 0.2
             }
            },
            "type": "histogram"
           }
          ],
          "scattergl": [
           {
            "marker": {
             "line": {
              "color": "#283442"
             }
            },
            "type": "scattergl"
           }
          ],
          "scatter3d": [
           {
            "type": "scatter3d",
            "line": {
             "colorbar": {
              "outlinewidth": 0,
              "ticks": ""
             }
            },
            "marker": {
             "colorbar": {
              "outlinewidth": 0,
              "ticks": ""
             }
            }
           }
          ],
          "scattermap": [
           {
            "type": "scattermap",
            "marker": {
             "colorbar": {
              "outlinewidth": 0,
              "ticks": ""
             }
            }
           }
          ],
          "scattermapbox": [
           {
            "type": "scattermapbox",
            "marker": {
             "colorbar": {
              "outlinewidth": 0,
              "ticks": ""
             }
            }
           }
          ],
          "scatterternary": [
           {
            "type": "scatterternary",
            "marker": {
             "colorbar": {
              "outlinewidth": 0,
              "ticks": ""
             }
            }
           }
          ],
          "scattercarpet": [
           {
            "type": "scattercarpet",
            "marker": {
             "colorbar": {
              "outlinewidth": 0,
              "ticks": ""
             }
            }
           }
          ],
          "carpet": [
           {
            "aaxis": {
             "endlinecolor": "#A2B1C6",
             "gridcolor": "#506784",
             "linecolor": "#506784",
             "minorgridcolor": "#506784",
             "startlinecolor": "#A2B1C6"
            },
            "baxis": {
             "endlinecolor": "#A2B1C6",
             "gridcolor": "#506784",
             "linecolor": "#506784",
             "minorgridcolor": "#506784",
             "startlinecolor": "#A2B1C6"
            },
            "type": "carpet"
           }
          ],
          "table": [
           {
            "cells": {
             "fill": {
              "color": "#506784"
             },
             "line": {
              "color": "rgb(17,17,17)"
             }
            },
            "header": {
             "fill": {
              "color": "#2a3f5f"
             },
             "line": {
              "color": "rgb(17,17,17)"
             }
            },
            "type": "table"
           }
          ],
          "barpolar": [
           {
            "marker": {
             "line": {
              "color": "rgb(17,17,17)",
              "width": 0.5
             },
             "pattern": {
              "fillmode": "overlay",
              "size": 10,
              "solidity": 0.2
             }
            },
            "type": "barpolar"
           }
          ],
          "pie": [
           {
            "automargin": true,
            "type": "pie"
           }
          ]
         },
         "layout": {
          "autotypenumbers": "strict",
          "colorway": [
           "#636efa",
           "#EF553B",
           "#00cc96",
           "#ab63fa",
           "#FFA15A",
           "#19d3f3",
           "#FF6692",
           "#B6E880",
           "#FF97FF",
           "#FECB52"
          ],
          "font": {
           "color": "#f2f5fa"
          },
          "hovermode": "closest",
          "hoverlabel": {
           "align": "left"
          },
          "paper_bgcolor": "rgb(17,17,17)",
          "plot_bgcolor": "rgb(17,17,17)",
          "polar": {
           "bgcolor": "rgb(17,17,17)",
           "angularaxis": {
            "gridcolor": "#506784",
            "linecolor": "#506784",
            "ticks": ""
           },
           "radialaxis": {
            "gridcolor": "#506784",
            "linecolor": "#506784",
            "ticks": ""
           }
          },
          "ternary": {
           "bgcolor": "rgb(17,17,17)",
           "aaxis": {
            "gridcolor": "#506784",
            "linecolor": "#506784",
            "ticks": ""
           },
           "baxis": {
            "gridcolor": "#506784",
            "linecolor": "#506784",
            "ticks": ""
           },
           "caxis": {
            "gridcolor": "#506784",
            "linecolor": "#506784",
            "ticks": ""
           }
          },
          "coloraxis": {
           "colorbar": {
            "outlinewidth": 0,
            "ticks": ""
           }
          },
          "colorscale": {
           "sequential": [
            [
             0.0,
             "#0d0887"
            ],
            [
             0.1111111111111111,
             "#46039f"
            ],
            [
             0.2222222222222222,
             "#7201a8"
            ],
            [
             0.3333333333333333,
             "#9c179e"
            ],
            [
             0.4444444444444444,
             "#bd3786"
            ],
            [
             0.5555555555555556,
             "#d8576b"
            ],
            [
             0.6666666666666666,
             "#ed7953"
            ],
            [
             0.7777777777777778,
             "#fb9f3a"
            ],
            [
             0.8888888888888888,
             "#fdca26"
            ],
            [
             1.0,
             "#f0f921"
            ]
           ],
           "sequentialminus": [
            [
             0.0,
             "#0d0887"
            ],
            [
             0.1111111111111111,
             "#46039f"
            ],
            [
             0.2222222222222222,
             "#7201a8"
            ],
            [
             0.3333333333333333,
             "#9c179e"
            ],
            [
             0.4444444444444444,
             "#bd3786"
            ],
            [
             0.5555555555555556,
             "#d8576b"
            ],
            [
             0.6666666666666666,
             "#ed7953"
            ],
            [
             0.7777777777777778,
             "#fb9f3a"
            ],
            [
             0.8888888888888888,
             "#fdca26"
            ],
            [
             1.0,
             "#f0f921"
            ]
           ],
           "diverging": [
            [
             0,
             "#8e0152"
            ],
            [
             0.1,
             "#c51b7d"
            ],
            [
             0.2,
             "#de77ae"
            ],
            [
             0.3,
             "#f1b6da"
            ],
            [
             0.4,
             "#fde0ef"
            ],
            [
             0.5,
             "#f7f7f7"
            ],
            [
             0.6,
             "#e6f5d0"
            ],
            [
             0.7,
             "#b8e186"
            ],
            [
             0.8,
             "#7fbc41"
            ],
            [
             0.9,
             "#4d9221"
            ],
            [
             1,
             "#276419"
            ]
           ]
          },
          "xaxis": {
           "gridcolor": "#283442",
           "linecolor": "#506784",
           "ticks": "",
           "title": {
            "standoff": 15
           },
           "zerolinecolor": "#283442",
           "automargin": true,
           "zerolinewidth": 2
          },
          "yaxis": {
           "gridcolor": "#283442",
           "linecolor": "#506784",
           "ticks": "",
           "title": {
            "standoff": 15
           },
           "zerolinecolor": "#283442",
           "automargin": true,
           "zerolinewidth": 2
          },
          "scene": {
           "xaxis": {
            "backgroundcolor": "rgb(17,17,17)",
            "gridcolor": "#506784",
            "linecolor": "#506784",
            "showbackground": true,
            "ticks": "",
            "zerolinecolor": "#C8D4E3",
            "gridwidth": 2
           },
           "yaxis": {
            "backgroundcolor": "rgb(17,17,17)",
            "gridcolor": "#506784",
            "linecolor": "#506784",
            "showbackground": true,
            "ticks": "",
            "zerolinecolor": "#C8D4E3",
            "gridwidth": 2
           },
           "zaxis": {
            "backgroundcolor": "rgb(17,17,17)",
            "gridcolor": "#506784",
            "linecolor": "#506784",
            "showbackground": true,
            "ticks": "",
            "zerolinecolor": "#C8D4E3",
            "gridwidth": 2
           }
          },
          "shapedefaults": {
           "line": {
            "color": "#f2f5fa"
           }
          },
          "annotationdefaults": {
           "arrowcolor": "#f2f5fa",
           "arrowhead": 0,
           "arrowwidth": 1
          },
          "geo": {
           "bgcolor": "rgb(17,17,17)",
           "landcolor": "rgb(17,17,17)",
           "subunitcolor": "#506784",
           "showland": true,
           "showlakes": true,
           "lakecolor": "rgb(17,17,17)"
          },
          "title": {
           "x": 0.05
          },
          "updatemenudefaults": {
           "bgcolor": "#506784",
           "borderwidth": 0
          },
          "sliderdefaults": {
           "bgcolor": "#C8D4E3",
           "borderwidth": 1,
           "bordercolor": "rgb(17,17,17)",
           "tickwidth": 0
          },
          "mapbox": {
           "style": "dark"
          }
         }
        },
        "xaxis": {
         "anchor": "y",
         "domain": [
          0.0,
          0.94
         ],
         "title": {
          "text": "Distance from Reservoir (m)"
         }
        },
        "yaxis": {
         "anchor": "x",
         "domain": [
          0.0,
          1.0
         ],
         "title": {
          "text": "Elevation / Head (m)"
         }
        },
        "yaxis2": {
         "anchor": "x",
         "overlaying": "y",
         "side": "right",
         "title": {
          "text": "Pressure Head (m)"
         }
        },
        "annotations": [
         {
          "font": {
           "size": 16
          },
          "showarrow": false,
          "text": "Hydraulic Profile",
          "x": 0.47,
          "xanchor": "center",
          "xref": "paper",
          "y": 1.0,
          "yanchor": "bottom",
          "yref": "paper"
         },
         {
          "showarrow": false,
          "text": "Min Pressure (2m)",
          "x": 1,
          "xanchor": "right",
          "xref": "x domain",
          "y": 2,
          "yanchor": "bottom",
          "yref": "y"
         },
         {
          "showarrow": false,
          "text": "Static Head (300.0 m)",
          "x": 1,
          "xanchor": "right",
          "xref": "x domain",
          "y": 300.0,
          "yanchor": "bottom",
          "yref": "y"
         }
        ],
        "shapes": [
         {
          "line": {
           "color": "red",
           "dash": "dot"
          },
          "type": "line",
          "x0": 0,
          "x1": 1,
          "xref": "x domain",
          "y0": 2,
          "y1": 2,
          "yref": "y2"
         },
         {
          "line": {
           "color": "blue",
           "dash": "dot"
          },
          "type": "line",
          "x0": 0,
          "x1": 1,
          "xref": "x domain",
          "y0": 300.0,
          "y1": 300.0,
          "yref": "y"
         }
        ],
        "legend": {
         "x": 0.02,
         "y": 0.98
        },
        "title": {
         "text": "Hydraulic Profile - p1,p2,p3,p4"
        },
        "hovermode": "x unified"
       },
       "config": {
        "plotlyServerURL": "https://plot.ly"
       }
      }
     },
     "metadata": {},
     "output_type": "display_data"
    },
    {
     "name": "stdout",
     "output_type": "stream",
     "text": [
      "========Plot Branch:  p1,p5 ========\n",
      "\n"
     ]
    },
    {
     "data": {
      "application/vnd.plotly.v1+json": {
       "data": [
        {
         "line": {
          "color": "brown",
          "width": 3
         },
         "marker": {
          "size": 8
         },
         "mode": "lines+markers",
         "name": "Ground Elevation",
         "x": {
          "dtype": "f8",
          "bdata": "AAAAAAAAAAAAAAAAAADwPwAAAAAAAABA"
         },
         "y": {
          "dtype": "f8",
          "bdata": "AAAAAADAckAAAAAAAEBvQAAAAAAAwGxA"
         },
         "type": "scatter",
         "xaxis": "x",
         "yaxis": "y"
        },
        {
         "line": {
          "color": "red",
          "dash": "dash",
          "width": 2
         },
         "marker": {
          "size": 6
         },
         "mode": "lines+markers",
         "name": "Energy Grade Line (EGL)",
         "x": {
          "dtype": "f8",
          "bdata": "AAAAAAAAAAAAAAAAAADwPwAAAAAAAABA"
         },
         "y": {
          "dtype": "f8",
          "bdata": "AAAAAADAckCvHN5k7DpyQG7oV3DMcXFA"
         },
         "type": "scatter",
         "xaxis": "x",
         "yaxis": "y"
        },
        {
         "fill": "tonexty",
         "fillcolor": "rgba(0,100,255,0.1)",
         "line": {
          "color": "blue",
          "width": 2
         },
         "marker": {
          "size": 6
         },
         "mode": "lines+markers",
         "name": "Hydraulic Grade Line (HGL)",
         "x": {
          "dtype": "f8",
          "bdata": "AAAAAAAAAAAAAAAAAADwPwAAAAAAAABA"
         },
         "y": {
          "dtype": "f8",
          "bdata": "AAAAAADAckCvHN5k7DpyQG7oV3DMcXFA"
         },
         "type": "scatter",
         "xaxis": "x",
         "yaxis": "y"
        },
        {
         "line": {
          "color": "green",
          "width": 2
         },
         "marker": {
          "size": 6
         },
         "mode": "lines+markers",
         "name": "Pressure Head",
         "x": {
          "dtype": "f8",
          "bdata": "AAAAAAAAAAAAAAAAAADwPwAAAAAAAABA"
         },
         "y": {
          "dtype": "f8",
          "bdata": "AAAAAAAAAAB25fAmY9dEQGxDv4JjjkhA"
         },
         "yaxis": "y2",
         "type": "scatter",
         "xaxis": "x"
        }
       ],
       "layout": {
        "template": {
         "data": {
          "histogram2dcontour": [
           {
            "type": "histogram2dcontour",
            "colorbar": {
             "outlinewidth": 0,
             "ticks": ""
            },
            "colorscale": [
             [
              0.0,
              "#0d0887"
             ],
             [
              0.1111111111111111,
              "#46039f"
             ],
             [
              0.2222222222222222,
              "#7201a8"
             ],
             [
              0.3333333333333333,
              "#9c179e"
             ],
             [
              0.4444444444444444,
              "#bd3786"
             ],
             [
              0.5555555555555556,
              "#d8576b"
             ],
             [
              0.6666666666666666,
              "#ed7953"
             ],
             [
              0.7777777777777778,
              "#fb9f3a"
             ],
             [
              0.8888888888888888,
              "#fdca26"
             ],
             [
              1.0,
              "#f0f921"
             ]
            ]
           }
          ],
          "choropleth": [
           {
            "type": "choropleth",
            "colorbar": {
             "outlinewidth": 0,
             "ticks": ""
            }
           }
          ],
          "histogram2d": [
           {
            "type": "histogram2d",
            "colorbar": {
             "outlinewidth": 0,
             "ticks": ""
            },
            "colorscale": [
             [
              0.0,
              "#0d0887"
             ],
             [
              0.1111111111111111,
              "#46039f"
             ],
             [
              0.2222222222222222,
              "#7201a8"
             ],
             [
              0.3333333333333333,
              "#9c179e"
             ],
             [
              0.4444444444444444,
              "#bd3786"
             ],
             [
              0.5555555555555556,
              "#d8576b"
             ],
             [
              0.6666666666666666,
              "#ed7953"
             ],
             [
              0.7777777777777778,
              "#fb9f3a"
             ],
             [
              0.8888888888888888,
              "#fdca26"
             ],
             [
              1.0,
              "#f0f921"
             ]
            ]
           }
          ],
          "heatmap": [
           {
            "type": "heatmap",
            "colorbar": {
             "outlinewidth": 0,
             "ticks": ""
            },
            "colorscale": [
             [
              0.0,
              "#0d0887"
             ],
             [
              0.1111111111111111,
              "#46039f"
             ],
             [
              0.2222222222222222,
              "#7201a8"
             ],
             [
              0.3333333333333333,
              "#9c179e"
             ],
             [
              0.4444444444444444,
              "#bd3786"
             ],
             [
              0.5555555555555556,
              "#d8576b"
             ],
             [
              0.6666666666666666,
              "#ed7953"
             ],
             [
              0.7777777777777778,
              "#fb9f3a"
             ],
             [
              0.8888888888888888,
              "#fdca26"
             ],
             [
              1.0,
              "#f0f921"
             ]
            ]
           }
          ],
          "contourcarpet": [
           {
            "type": "contourcarpet",
            "colorbar": {
             "outlinewidth": 0,
             "ticks": ""
            }
           }
          ],
          "contour": [
           {
            "type": "contour",
            "colorbar": {
             "outlinewidth": 0,
             "ticks": ""
            },
            "colorscale": [
             [
              0.0,
              "#0d0887"
             ],
             [
              0.1111111111111111,
              "#46039f"
             ],
             [
              0.2222222222222222,
              "#7201a8"
             ],
             [
              0.3333333333333333,
              "#9c179e"
             ],
             [
              0.4444444444444444,
              "#bd3786"
             ],
             [
              0.5555555555555556,
              "#d8576b"
             ],
             [
              0.6666666666666666,
              "#ed7953"
             ],
             [
              0.7777777777777778,
              "#fb9f3a"
             ],
             [
              0.8888888888888888,
              "#fdca26"
             ],
             [
              1.0,
              "#f0f921"
             ]
            ]
           }
          ],
          "surface": [
           {
            "type": "surface",
            "colorbar": {
             "outlinewidth": 0,
             "ticks": ""
            },
            "colorscale": [
             [
              0.0,
              "#0d0887"
             ],
             [
              0.1111111111111111,
              "#46039f"
             ],
             [
              0.2222222222222222,
              "#7201a8"
             ],
             [
              0.3333333333333333,
              "#9c179e"
             ],
             [
              0.4444444444444444,
              "#bd3786"
             ],
             [
              0.5555555555555556,
              "#d8576b"
             ],
             [
              0.6666666666666666,
              "#ed7953"
             ],
             [
              0.7777777777777778,
              "#fb9f3a"
             ],
             [
              0.8888888888888888,
              "#fdca26"
             ],
             [
              1.0,
              "#f0f921"
             ]
            ]
           }
          ],
          "mesh3d": [
           {
            "type": "mesh3d",
            "colorbar": {
             "outlinewidth": 0,
             "ticks": ""
            }
           }
          ],
          "scatter": [
           {
            "marker": {
             "line": {
              "color": "#283442"
             }
            },
            "type": "scatter"
           }
          ],
          "parcoords": [
           {
            "type": "parcoords",
            "line": {
             "colorbar": {
              "outlinewidth": 0,
              "ticks": ""
             }
            }
           }
          ],
          "scatterpolargl": [
           {
            "type": "scatterpolargl",
            "marker": {
             "colorbar": {
              "outlinewidth": 0,
              "ticks": ""
             }
            }
           }
          ],
          "bar": [
           {
            "error_x": {
             "color": "#f2f5fa"
            },
            "error_y": {
             "color": "#f2f5fa"
            },
            "marker": {
             "line": {
              "color": "rgb(17,17,17)",
              "width": 0.5
             },
             "pattern": {
              "fillmode": "overlay",
              "size": 10,
              "solidity": 0.2
             }
            },
            "type": "bar"
           }
          ],
          "scattergeo": [
           {
            "type": "scattergeo",
            "marker": {
             "colorbar": {
              "outlinewidth": 0,
              "ticks": ""
             }
            }
           }
          ],
          "scatterpolar": [
           {
            "type": "scatterpolar",
            "marker": {
             "colorbar": {
              "outlinewidth": 0,
              "ticks": ""
             }
            }
           }
          ],
          "histogram": [
           {
            "marker": {
             "pattern": {
              "fillmode": "overlay",
              "size": 10,
              "solidity": 0.2
             }
            },
            "type": "histogram"
           }
          ],
          "scattergl": [
           {
            "marker": {
             "line": {
              "color": "#283442"
             }
            },
            "type": "scattergl"
           }
          ],
          "scatter3d": [
           {
            "type": "scatter3d",
            "line": {
             "colorbar": {
              "outlinewidth": 0,
              "ticks": ""
             }
            },
            "marker": {
             "colorbar": {
              "outlinewidth": 0,
              "ticks": ""
             }
            }
           }
          ],
          "scattermap": [
           {
            "type": "scattermap",
            "marker": {
             "colorbar": {
              "outlinewidth": 0,
              "ticks": ""
             }
            }
           }
          ],
          "scattermapbox": [
           {
            "type": "scattermapbox",
            "marker": {
             "colorbar": {
              "outlinewidth": 0,
              "ticks": ""
             }
            }
           }
          ],
          "scatterternary": [
           {
            "type": "scatterternary",
            "marker": {
             "colorbar": {
              "outlinewidth": 0,
              "ticks": ""
             }
            }
           }
          ],
          "scattercarpet": [
           {
            "type": "scattercarpet",
            "marker": {
             "colorbar": {
              "outlinewidth": 0,
              "ticks": ""
             }
            }
           }
          ],
          "carpet": [
           {
            "aaxis": {
             "endlinecolor": "#A2B1C6",
             "gridcolor": "#506784",
             "linecolor": "#506784",
             "minorgridcolor": "#506784",
             "startlinecolor": "#A2B1C6"
            },
            "baxis": {
             "endlinecolor": "#A2B1C6",
             "gridcolor": "#506784",
             "linecolor": "#506784",
             "minorgridcolor": "#506784",
             "startlinecolor": "#A2B1C6"
            },
            "type": "carpet"
           }
          ],
          "table": [
           {
            "cells": {
             "fill": {
              "color": "#506784"
             },
             "line": {
              "color": "rgb(17,17,17)"
             }
            },
            "header": {
             "fill": {
              "color": "#2a3f5f"
             },
             "line": {
              "color": "rgb(17,17,17)"
             }
            },
            "type": "table"
           }
          ],
          "barpolar": [
           {
            "marker": {
             "line": {
              "color": "rgb(17,17,17)",
              "width": 0.5
             },
             "pattern": {
              "fillmode": "overlay",
              "size": 10,
              "solidity": 0.2
             }
            },
            "type": "barpolar"
           }
          ],
          "pie": [
           {
            "automargin": true,
            "type": "pie"
           }
          ]
         },
         "layout": {
          "autotypenumbers": "strict",
          "colorway": [
           "#636efa",
           "#EF553B",
           "#00cc96",
           "#ab63fa",
           "#FFA15A",
           "#19d3f3",
           "#FF6692",
           "#B6E880",
           "#FF97FF",
           "#FECB52"
          ],
          "font": {
           "color": "#f2f5fa"
          },
          "hovermode": "closest",
          "hoverlabel": {
           "align": "left"
          },
          "paper_bgcolor": "rgb(17,17,17)",
          "plot_bgcolor": "rgb(17,17,17)",
          "polar": {
           "bgcolor": "rgb(17,17,17)",
           "angularaxis": {
            "gridcolor": "#506784",
            "linecolor": "#506784",
            "ticks": ""
           },
           "radialaxis": {
            "gridcolor": "#506784",
            "linecolor": "#506784",
            "ticks": ""
           }
          },
          "ternary": {
           "bgcolor": "rgb(17,17,17)",
           "aaxis": {
            "gridcolor": "#506784",
            "linecolor": "#506784",
            "ticks": ""
           },
           "baxis": {
            "gridcolor": "#506784",
            "linecolor": "#506784",
            "ticks": ""
           },
           "caxis": {
            "gridcolor": "#506784",
            "linecolor": "#506784",
            "ticks": ""
           }
          },
          "coloraxis": {
           "colorbar": {
            "outlinewidth": 0,
            "ticks": ""
           }
          },
          "colorscale": {
           "sequential": [
            [
             0.0,
             "#0d0887"
            ],
            [
             0.1111111111111111,
             "#46039f"
            ],
            [
             0.2222222222222222,
             "#7201a8"
            ],
            [
             0.3333333333333333,
             "#9c179e"
            ],
            [
             0.4444444444444444,
             "#bd3786"
            ],
            [
             0.5555555555555556,
             "#d8576b"
            ],
            [
             0.6666666666666666,
             "#ed7953"
            ],
            [
             0.7777777777777778,
             "#fb9f3a"
            ],
            [
             0.8888888888888888,
             "#fdca26"
            ],
            [
             1.0,
             "#f0f921"
            ]
           ],
           "sequentialminus": [
            [
             0.0,
             "#0d0887"
            ],
            [
             0.1111111111111111,
             "#46039f"
            ],
            [
             0.2222222222222222,
             "#7201a8"
            ],
            [
             0.3333333333333333,
             "#9c179e"
            ],
            [
             0.4444444444444444,
             "#bd3786"
            ],
            [
             0.5555555555555556,
             "#d8576b"
            ],
            [
             0.6666666666666666,
             "#ed7953"
            ],
            [
             0.7777777777777778,
             "#fb9f3a"
            ],
            [
             0.8888888888888888,
             "#fdca26"
            ],
            [
             1.0,
             "#f0f921"
            ]
           ],
           "diverging": [
            [
             0,
             "#8e0152"
            ],
            [
             0.1,
             "#c51b7d"
            ],
            [
             0.2,
             "#de77ae"
            ],
            [
             0.3,
             "#f1b6da"
            ],
            [
             0.4,
             "#fde0ef"
            ],
            [
             0.5,
             "#f7f7f7"
            ],
            [
             0.6,
             "#e6f5d0"
            ],
            [
             0.7,
             "#b8e186"
            ],
            [
             0.8,
             "#7fbc41"
            ],
            [
             0.9,
             "#4d9221"
            ],
            [
             1,
             "#276419"
            ]
           ]
          },
          "xaxis": {
           "gridcolor": "#283442",
           "linecolor": "#506784",
           "ticks": "",
           "title": {
            "standoff": 15
           },
           "zerolinecolor": "#283442",
           "automargin": true,
           "zerolinewidth": 2
          },
          "yaxis": {
           "gridcolor": "#283442",
           "linecolor": "#506784",
           "ticks": "",
           "title": {
            "standoff": 15
           },
           "zerolinecolor": "#283442",
           "automargin": true,
           "zerolinewidth": 2
          },
          "scene": {
           "xaxis": {
            "backgroundcolor": "rgb(17,17,17)",
            "gridcolor": "#506784",
            "linecolor": "#506784",
            "showbackground": true,
            "ticks": "",
            "zerolinecolor": "#C8D4E3",
            "gridwidth": 2
           },
           "yaxis": {
            "backgroundcolor": "rgb(17,17,17)",
            "gridcolor": "#506784",
            "linecolor": "#506784",
            "showbackground": true,
            "ticks": "",
            "zerolinecolor": "#C8D4E3",
            "gridwidth": 2
           },
           "zaxis": {
            "backgroundcolor": "rgb(17,17,17)",
            "gridcolor": "#506784",
            "linecolor": "#506784",
            "showbackground": true,
            "ticks": "",
            "zerolinecolor": "#C8D4E3",
            "gridwidth": 2
           }
          },
          "shapedefaults": {
           "line": {
            "color": "#f2f5fa"
           }
          },
          "annotationdefaults": {
           "arrowcolor": "#f2f5fa",
           "arrowhead": 0,
           "arrowwidth": 1
          },
          "geo": {
           "bgcolor": "rgb(17,17,17)",
           "landcolor": "rgb(17,17,17)",
           "subunitcolor": "#506784",
           "showland": true,
           "showlakes": true,
           "lakecolor": "rgb(17,17,17)"
          },
          "title": {
           "x": 0.05
          },
          "updatemenudefaults": {
           "bgcolor": "#506784",
           "borderwidth": 0
          },
          "sliderdefaults": {
           "bgcolor": "#C8D4E3",
           "borderwidth": 1,
           "bordercolor": "rgb(17,17,17)",
           "tickwidth": 0
          },
          "mapbox": {
           "style": "dark"
          }
         }
        },
        "xaxis": {
         "anchor": "y",
         "domain": [
          0.0,
          0.94
         ],
         "title": {
          "text": "Distance from Reservoir (m)"
         }
        },
        "yaxis": {
         "anchor": "x",
         "domain": [
          0.0,
          1.0
         ],
         "title": {
          "text": "Elevation / Head (m)"
         }
        },
        "yaxis2": {
         "anchor": "x",
         "overlaying": "y",
         "side": "right",
         "title": {
          "text": "Pressure Head (m)"
         }
        },
        "annotations": [
         {
          "font": {
           "size": 16
          },
          "showarrow": false,
          "text": "Hydraulic Profile",
          "x": 0.47,
          "xanchor": "center",
          "xref": "paper",
          "y": 1.0,
          "yanchor": "bottom",
          "yref": "paper"
         },
         {
          "showarrow": false,
          "text": "Min Pressure (2m)",
          "x": 1,
          "xanchor": "right",
          "xref": "x domain",
          "y": 2,
          "yanchor": "bottom",
          "yref": "y"
         },
         {
          "showarrow": false,
          "text": "Static Head (300.0 m)",
          "x": 1,
          "xanchor": "right",
          "xref": "x domain",
          "y": 300.0,
          "yanchor": "bottom",
          "yref": "y"
         }
        ],
        "shapes": [
         {
          "line": {
           "color": "red",
           "dash": "dot"
          },
          "type": "line",
          "x0": 0,
          "x1": 1,
          "xref": "x domain",
          "y0": 2,
          "y1": 2,
          "yref": "y2"
         },
         {
          "line": {
           "color": "blue",
           "dash": "dot"
          },
          "type": "line",
          "x0": 0,
          "x1": 1,
          "xref": "x domain",
          "y0": 300.0,
          "y1": 300.0,
          "yref": "y"
         }
        ],
        "legend": {
         "x": 0.02,
         "y": 0.98
        },
        "title": {
         "text": "Hydraulic Profile - p1,p5"
        },
        "hovermode": "x unified"
       },
       "config": {
        "plotlyServerURL": "https://plot.ly"
       }
      }
     },
     "metadata": {},
     "output_type": "display_data"
    },
    {
     "name": "stdout",
     "output_type": "stream",
     "text": [
      "========Plot Branch:  p1,p2,p6 ========\n",
      "\n"
     ]
    },
    {
     "data": {
      "application/vnd.plotly.v1+json": {
       "data": [
        {
         "line": {
          "color": "brown",
          "width": 3
         },
         "marker": {
          "size": 8
         },
         "mode": "lines+markers",
         "name": "Ground Elevation",
         "x": {
          "dtype": "f8",
          "bdata": "AAAAAAAAAAAAAAAAAADwPwAAAAAAAABAAAAAAAAACEA="
         },
         "y": {
          "dtype": "f8",
          "bdata": "AAAAAADAckAAAAAAAEBvQAAAAAAA4HBAAAAAAAAAbkA="
         },
         "type": "scatter",
         "xaxis": "x",
         "yaxis": "y"
        },
        {
         "line": {
          "color": "red",
          "dash": "dash",
          "width": 2
         },
         "marker": {
          "size": 6
         },
         "mode": "lines+markers",
         "name": "Energy Grade Line (EGL)",
         "x": {
          "dtype": "f8",
          "bdata": "AAAAAAAAAAAAAAAAAADwPwAAAAAAAABAAAAAAAAACEA="
         },
         "y": {
          "dtype": "f8",
          "bdata": "AAAAAADAckCvHN5k7DpyQC2Mo8A5S3FA7/8ayXsNb0A="
         },
         "type": "scatter",
         "xaxis": "x",
         "yaxis": "y"
        },
        {
         "fill": "tonexty",
         "fillcolor": "rgba(0,100,255,0.1)",
         "line": {
          "color": "blue",
          "width": 2
         },
         "marker": {
          "size": 6
         },
         "mode": "lines+markers",
         "name": "Hydraulic Grade Line (HGL)",
         "x": {
          "dtype": "f8",
          "bdata": "AAAAAAAAAAAAAAAAAADwPwAAAAAAAABAAAAAAAAACEA="
         },
         "y": {
          "dtype": "f8",
          "bdata": "AAAAAADAckCvHN5k7DpyQC2Mo8A5S3FA7/8ayXsNb0A="
         },
         "type": "scatter",
         "xaxis": "x",
         "yaxis": "y"
        },
        {
         "line": {
          "color": "green",
          "width": 2
         },
         "marker": {
          "size": 6
         },
         "mode": "lines+markers",
         "name": "Pressure Head",
         "x": {
          "dtype": "f8",
          "bdata": "AAAAAAAAAAAAAAAAAADwPwAAAAAAAABAAAAAAAAACEA="
         },
         "y": {
          "dtype": "f8",
          "bdata": "AAAAAAAAAAB25fAmY9dEQDQL4yhwzhpA8P6vkbzXIEA="
         },
         "yaxis": "y2",
         "type": "scatter",
         "xaxis": "x"
        }
       ],
       "layout": {
        "template": {
         "data": {
          "histogram2dcontour": [
           {
            "type": "histogram2dcontour",
            "colorbar": {
             "outlinewidth": 0,
             "ticks": ""
            },
            "colorscale": [
             [
              0.0,
              "#0d0887"
             ],
             [
              0.1111111111111111,
              "#46039f"
             ],
             [
              0.2222222222222222,
              "#7201a8"
             ],
             [
              0.3333333333333333,
              "#9c179e"
             ],
             [
              0.4444444444444444,
              "#bd3786"
             ],
             [
              0.5555555555555556,
              "#d8576b"
             ],
             [
              0.6666666666666666,
              "#ed7953"
             ],
             [
              0.7777777777777778,
              "#fb9f3a"
             ],
             [
              0.8888888888888888,
              "#fdca26"
             ],
             [
              1.0,
              "#f0f921"
             ]
            ]
           }
          ],
          "choropleth": [
           {
            "type": "choropleth",
            "colorbar": {
             "outlinewidth": 0,
             "ticks": ""
            }
           }
          ],
          "histogram2d": [
           {
            "type": "histogram2d",
            "colorbar": {
             "outlinewidth": 0,
             "ticks": ""
            },
            "colorscale": [
             [
              0.0,
              "#0d0887"
             ],
             [
              0.1111111111111111,
              "#46039f"
             ],
             [
              0.2222222222222222,
              "#7201a8"
             ],
             [
              0.3333333333333333,
              "#9c179e"
             ],
             [
              0.4444444444444444,
              "#bd3786"
             ],
             [
              0.5555555555555556,
              "#d8576b"
             ],
             [
              0.6666666666666666,
              "#ed7953"
             ],
             [
              0.7777777777777778,
              "#fb9f3a"
             ],
             [
              0.8888888888888888,
              "#fdca26"
             ],
             [
              1.0,
              "#f0f921"
             ]
            ]
           }
          ],
          "heatmap": [
           {
            "type": "heatmap",
            "colorbar": {
             "outlinewidth": 0,
             "ticks": ""
            },
            "colorscale": [
             [
              0.0,
              "#0d0887"
             ],
             [
              0.1111111111111111,
              "#46039f"
             ],
             [
              0.2222222222222222,
              "#7201a8"
             ],
             [
              0.3333333333333333,
              "#9c179e"
             ],
             [
              0.4444444444444444,
              "#bd3786"
             ],
             [
              0.5555555555555556,
              "#d8576b"
             ],
             [
              0.6666666666666666,
              "#ed7953"
             ],
             [
              0.7777777777777778,
              "#fb9f3a"
             ],
             [
              0.8888888888888888,
              "#fdca26"
             ],
             [
              1.0,
              "#f0f921"
             ]
            ]
           }
          ],
          "contourcarpet": [
           {
            "type": "contourcarpet",
            "colorbar": {
             "outlinewidth": 0,
             "ticks": ""
            }
           }
          ],
          "contour": [
           {
            "type": "contour",
            "colorbar": {
             "outlinewidth": 0,
             "ticks": ""
            },
            "colorscale": [
             [
              0.0,
              "#0d0887"
             ],
             [
              0.1111111111111111,
              "#46039f"
             ],
             [
              0.2222222222222222,
              "#7201a8"
             ],
             [
              0.3333333333333333,
              "#9c179e"
             ],
             [
              0.4444444444444444,
              "#bd3786"
             ],
             [
              0.5555555555555556,
              "#d8576b"
             ],
             [
              0.6666666666666666,
              "#ed7953"
             ],
             [
              0.7777777777777778,
              "#fb9f3a"
             ],
             [
              0.8888888888888888,
              "#fdca26"
             ],
             [
              1.0,
              "#f0f921"
             ]
            ]
           }
          ],
          "surface": [
           {
            "type": "surface",
            "colorbar": {
             "outlinewidth": 0,
             "ticks": ""
            },
            "colorscale": [
             [
              0.0,
              "#0d0887"
             ],
             [
              0.1111111111111111,
              "#46039f"
             ],
             [
              0.2222222222222222,
              "#7201a8"
             ],
             [
              0.3333333333333333,
              "#9c179e"
             ],
             [
              0.4444444444444444,
              "#bd3786"
             ],
             [
              0.5555555555555556,
              "#d8576b"
             ],
             [
              0.6666666666666666,
              "#ed7953"
             ],
             [
              0.7777777777777778,
              "#fb9f3a"
             ],
             [
              0.8888888888888888,
              "#fdca26"
             ],
             [
              1.0,
              "#f0f921"
             ]
            ]
           }
          ],
          "mesh3d": [
           {
            "type": "mesh3d",
            "colorbar": {
             "outlinewidth": 0,
             "ticks": ""
            }
           }
          ],
          "scatter": [
           {
            "marker": {
             "line": {
              "color": "#283442"
             }
            },
            "type": "scatter"
           }
          ],
          "parcoords": [
           {
            "type": "parcoords",
            "line": {
             "colorbar": {
              "outlinewidth": 0,
              "ticks": ""
             }
            }
           }
          ],
          "scatterpolargl": [
           {
            "type": "scatterpolargl",
            "marker": {
             "colorbar": {
              "outlinewidth": 0,
              "ticks": ""
             }
            }
           }
          ],
          "bar": [
           {
            "error_x": {
             "color": "#f2f5fa"
            },
            "error_y": {
             "color": "#f2f5fa"
            },
            "marker": {
             "line": {
              "color": "rgb(17,17,17)",
              "width": 0.5
             },
             "pattern": {
              "fillmode": "overlay",
              "size": 10,
              "solidity": 0.2
             }
            },
            "type": "bar"
           }
          ],
          "scattergeo": [
           {
            "type": "scattergeo",
            "marker": {
             "colorbar": {
              "outlinewidth": 0,
              "ticks": ""
             }
            }
           }
          ],
          "scatterpolar": [
           {
            "type": "scatterpolar",
            "marker": {
             "colorbar": {
              "outlinewidth": 0,
              "ticks": ""
             }
            }
           }
          ],
          "histogram": [
           {
            "marker": {
             "pattern": {
              "fillmode": "overlay",
              "size": 10,
              "solidity": 0.2
             }
            },
            "type": "histogram"
           }
          ],
          "scattergl": [
           {
            "marker": {
             "line": {
              "color": "#283442"
             }
            },
            "type": "scattergl"
           }
          ],
          "scatter3d": [
           {
            "type": "scatter3d",
            "line": {
             "colorbar": {
              "outlinewidth": 0,
              "ticks": ""
             }
            },
            "marker": {
             "colorbar": {
              "outlinewidth": 0,
              "ticks": ""
             }
            }
           }
          ],
          "scattermap": [
           {
            "type": "scattermap",
            "marker": {
             "colorbar": {
              "outlinewidth": 0,
              "ticks": ""
             }
            }
           }
          ],
          "scattermapbox": [
           {
            "type": "scattermapbox",
            "marker": {
             "colorbar": {
              "outlinewidth": 0,
              "ticks": ""
             }
            }
           }
          ],
          "scatterternary": [
           {
            "type": "scatterternary",
            "marker": {
             "colorbar": {
              "outlinewidth": 0,
              "ticks": ""
             }
            }
           }
          ],
          "scattercarpet": [
           {
            "type": "scattercarpet",
            "marker": {
             "colorbar": {
              "outlinewidth": 0,
              "ticks": ""
             }
            }
           }
          ],
          "carpet": [
           {
            "aaxis": {
             "endlinecolor": "#A2B1C6",
             "gridcolor": "#506784",
             "linecolor": "#506784",
             "minorgridcolor": "#506784",
             "startlinecolor": "#A2B1C6"
            },
            "baxis": {
             "endlinecolor": "#A2B1C6",
             "gridcolor": "#506784",
             "linecolor": "#506784",
             "minorgridcolor": "#506784",
             "startlinecolor": "#A2B1C6"
            },
            "type": "carpet"
           }
          ],
          "table": [
           {
            "cells": {
             "fill": {
              "color": "#506784"
             },
             "line": {
              "color": "rgb(17,17,17)"
             }
            },
            "header": {
             "fill": {
              "color": "#2a3f5f"
             },
             "line": {
              "color": "rgb(17,17,17)"
             }
            },
            "type": "table"
           }
          ],
          "barpolar": [
           {
            "marker": {
             "line": {
              "color": "rgb(17,17,17)",
              "width": 0.5
             },
             "pattern": {
              "fillmode": "overlay",
              "size": 10,
              "solidity": 0.2
             }
            },
            "type": "barpolar"
           }
          ],
          "pie": [
           {
            "automargin": true,
            "type": "pie"
           }
          ]
         },
         "layout": {
          "autotypenumbers": "strict",
          "colorway": [
           "#636efa",
           "#EF553B",
           "#00cc96",
           "#ab63fa",
           "#FFA15A",
           "#19d3f3",
           "#FF6692",
           "#B6E880",
           "#FF97FF",
           "#FECB52"
          ],
          "font": {
           "color": "#f2f5fa"
          },
          "hovermode": "closest",
          "hoverlabel": {
           "align": "left"
          },
          "paper_bgcolor": "rgb(17,17,17)",
          "plot_bgcolor": "rgb(17,17,17)",
          "polar": {
           "bgcolor": "rgb(17,17,17)",
           "angularaxis": {
            "gridcolor": "#506784",
            "linecolor": "#506784",
            "ticks": ""
           },
           "radialaxis": {
            "gridcolor": "#506784",
            "linecolor": "#506784",
            "ticks": ""
           }
          },
          "ternary": {
           "bgcolor": "rgb(17,17,17)",
           "aaxis": {
            "gridcolor": "#506784",
            "linecolor": "#506784",
            "ticks": ""
           },
           "baxis": {
            "gridcolor": "#506784",
            "linecolor": "#506784",
            "ticks": ""
           },
           "caxis": {
            "gridcolor": "#506784",
            "linecolor": "#506784",
            "ticks": ""
           }
          },
          "coloraxis": {
           "colorbar": {
            "outlinewidth": 0,
            "ticks": ""
           }
          },
          "colorscale": {
           "sequential": [
            [
             0.0,
             "#0d0887"
            ],
            [
             0.1111111111111111,
             "#46039f"
            ],
            [
             0.2222222222222222,
             "#7201a8"
            ],
            [
             0.3333333333333333,
             "#9c179e"
            ],
            [
             0.4444444444444444,
             "#bd3786"
            ],
            [
             0.5555555555555556,
             "#d8576b"
            ],
            [
             0.6666666666666666,
             "#ed7953"
            ],
            [
             0.7777777777777778,
             "#fb9f3a"
            ],
            [
             0.8888888888888888,
             "#fdca26"
            ],
            [
             1.0,
             "#f0f921"
            ]
           ],
           "sequentialminus": [
            [
             0.0,
             "#0d0887"
            ],
            [
             0.1111111111111111,
             "#46039f"
            ],
            [
             0.2222222222222222,
             "#7201a8"
            ],
            [
             0.3333333333333333,
             "#9c179e"
            ],
            [
             0.4444444444444444,
             "#bd3786"
            ],
            [
             0.5555555555555556,
             "#d8576b"
            ],
            [
             0.6666666666666666,
             "#ed7953"
            ],
            [
             0.7777777777777778,
             "#fb9f3a"
            ],
            [
             0.8888888888888888,
             "#fdca26"
            ],
            [
             1.0,
             "#f0f921"
            ]
           ],
           "diverging": [
            [
             0,
             "#8e0152"
            ],
            [
             0.1,
             "#c51b7d"
            ],
            [
             0.2,
             "#de77ae"
            ],
            [
             0.3,
             "#f1b6da"
            ],
            [
             0.4,
             "#fde0ef"
            ],
            [
             0.5,
             "#f7f7f7"
            ],
            [
             0.6,
             "#e6f5d0"
            ],
            [
             0.7,
             "#b8e186"
            ],
            [
             0.8,
             "#7fbc41"
            ],
            [
             0.9,
             "#4d9221"
            ],
            [
             1,
             "#276419"
            ]
           ]
          },
          "xaxis": {
           "gridcolor": "#283442",
           "linecolor": "#506784",
           "ticks": "",
           "title": {
            "standoff": 15
           },
           "zerolinecolor": "#283442",
           "automargin": true,
           "zerolinewidth": 2
          },
          "yaxis": {
           "gridcolor": "#283442",
           "linecolor": "#506784",
           "ticks": "",
           "title": {
            "standoff": 15
           },
           "zerolinecolor": "#283442",
           "automargin": true,
           "zerolinewidth": 2
          },
          "scene": {
           "xaxis": {
            "backgroundcolor": "rgb(17,17,17)",
            "gridcolor": "#506784",
            "linecolor": "#506784",
            "showbackground": true,
            "ticks": "",
            "zerolinecolor": "#C8D4E3",
            "gridwidth": 2
           },
           "yaxis": {
            "backgroundcolor": "rgb(17,17,17)",
            "gridcolor": "#506784",
            "linecolor": "#506784",
            "showbackground": true,
            "ticks": "",
            "zerolinecolor": "#C8D4E3",
            "gridwidth": 2
           },
           "zaxis": {
            "backgroundcolor": "rgb(17,17,17)",
            "gridcolor": "#506784",
            "linecolor": "#506784",
            "showbackground": true,
            "ticks": "",
            "zerolinecolor": "#C8D4E3",
            "gridwidth": 2
           }
          },
          "shapedefaults": {
           "line": {
            "color": "#f2f5fa"
           }
          },
          "annotationdefaults": {
           "arrowcolor": "#f2f5fa",
           "arrowhead": 0,
           "arrowwidth": 1
          },
          "geo": {
           "bgcolor": "rgb(17,17,17)",
           "landcolor": "rgb(17,17,17)",
           "subunitcolor": "#506784",
           "showland": true,
           "showlakes": true,
           "lakecolor": "rgb(17,17,17)"
          },
          "title": {
           "x": 0.05
          },
          "updatemenudefaults": {
           "bgcolor": "#506784",
           "borderwidth": 0
          },
          "sliderdefaults": {
           "bgcolor": "#C8D4E3",
           "borderwidth": 1,
           "bordercolor": "rgb(17,17,17)",
           "tickwidth": 0
          },
          "mapbox": {
           "style": "dark"
          }
         }
        },
        "xaxis": {
         "anchor": "y",
         "domain": [
          0.0,
          0.94
         ],
         "title": {
          "text": "Distance from Reservoir (m)"
         }
        },
        "yaxis": {
         "anchor": "x",
         "domain": [
          0.0,
          1.0
         ],
         "title": {
          "text": "Elevation / Head (m)"
         }
        },
        "yaxis2": {
         "anchor": "x",
         "overlaying": "y",
         "side": "right",
         "title": {
          "text": "Pressure Head (m)"
         }
        },
        "annotations": [
         {
          "font": {
           "size": 16
          },
          "showarrow": false,
          "text": "Hydraulic Profile",
          "x": 0.47,
          "xanchor": "center",
          "xref": "paper",
          "y": 1.0,
          "yanchor": "bottom",
          "yref": "paper"
         },
         {
          "showarrow": false,
          "text": "Min Pressure (2m)",
          "x": 1,
          "xanchor": "right",
          "xref": "x domain",
          "y": 2,
          "yanchor": "bottom",
          "yref": "y"
         },
         {
          "showarrow": false,
          "text": "Static Head (300.0 m)",
          "x": 1,
          "xanchor": "right",
          "xref": "x domain",
          "y": 300.0,
          "yanchor": "bottom",
          "yref": "y"
         }
        ],
        "shapes": [
         {
          "line": {
           "color": "red",
           "dash": "dot"
          },
          "type": "line",
          "x0": 0,
          "x1": 1,
          "xref": "x domain",
          "y0": 2,
          "y1": 2,
          "yref": "y2"
         },
         {
          "line": {
           "color": "blue",
           "dash": "dot"
          },
          "type": "line",
          "x0": 0,
          "x1": 1,
          "xref": "x domain",
          "y0": 300.0,
          "y1": 300.0,
          "yref": "y"
         }
        ],
        "legend": {
         "x": 0.02,
         "y": 0.98
        },
        "title": {
         "text": "Hydraulic Profile - p1,p2,p6"
        },
        "hovermode": "x unified"
       },
       "config": {
        "plotlyServerURL": "https://plot.ly"
       }
      }
     },
     "metadata": {},
     "output_type": "display_data"
    },
    {
     "name": "stdout",
     "output_type": "stream",
     "text": [
      "=== 4  ===\n",
      "Writing debug information to debug_model.txt\n",
      "Debug information written to debug_model.txt\n",
      "=== OPTIMIZATION RESULTS ===\n",
      "Optimal\n",
      "\n",
      "The available keys in results are:\n",
      "dict_keys(['slack', 'debug', 'CONSTRAINT VIOLATION', 'model', 'status', 'df_model', 'total_cost_of_operation', 'branches_end', 'results_branch', 'df_res', 'pipes_summery'])\n",
      "========Plot Branch:  p1_0,p1_1,p2_0,p3_0,p4_0,p4_1 ========\n",
      "\n"
     ]
    },
    {
     "data": {
      "application/vnd.plotly.v1+json": {
       "data": [
        {
         "line": {
          "color": "brown",
          "width": 3
         },
         "marker": {
          "size": 8
         },
         "mode": "lines+markers",
         "name": "Ground Elevation",
         "x": {
          "dtype": "f8",
          "bdata": "AAAAAAAAAAA8iJ0pdC5iQAAAAAAAQI9AAAAAAABwl0AAAAAAAJCaQNiZQudVNJ1AAAAAAADAokA="
         },
         "y": {
          "dtype": "f8",
          "bdata": "AAAAAADAckAAAAAAAEBvQAAAAAAAQG9AAAAAAADgcEAAAAAAAEBvQAAAAAAAwGxAAAAAAADAbEA="
         },
         "type": "scatter",
         "xaxis": "x",
         "yaxis": "y"
        },
        {
         "line": {
          "color": "red",
          "dash": "dash",
          "width": 2
         },
         "marker": {
          "size": 6
         },
         "mode": "lines+markers",
         "name": "Energy Grade Line (EGL)",
         "x": {
          "dtype": "f8",
          "bdata": "AAAAAAAAAAA8iJ0pdC5iQAAAAAAAQI9AAAAAAABwl0AAAAAAAJCaQNiZQudVNJ1AAAAAAADAokA="
         },
         "y": {
          "dtype": "f8",
          "bdata": "AAAAAADAckCU+6YOa3FyQDpKS6Sy/3FAuLkQAAAQcUARZWLusLVwQAzgOdx2/25A8qyD//8fbUA="
         },
         "type": "scatter",
         "xaxis": "x",
         "yaxis": "y"
        },
        {
         "fill": "tonexty",
         "fillcolor": "rgba(0,100,255,0.1)",
         "line": {
          "color": "blue",
          "width": 2
         },
         "marker": {
          "size": 6
         },
         "mode": "lines+markers",
         "name": "Hydraulic Grade Line (HGL)",
         "x": {
          "dtype": "f8",
          "bdata": "AAAAAAAAAAA8iJ0pdC5iQAAAAAAAQI9AAAAAAABwl0AAAAAAAJCaQNiZQudVNJ1AAAAAAADAokA="
         },
         "y": {
          "dtype": "f8",
          "bdata": "AAAAAADAckCU+6YOa3FyQDpKS6Sy/3FAuLkQAAAQcUARZWLusLVwQAzgOdx2/25A8qyD//8fbUA="
         },
         "type": "scatter",
         "xaxis": "x",
         "yaxis": "y"
        },
        {
         "line": {
          "color": "green",
          "width": 2
         },
         "marker": {
          "size": 6
         },
         "mode": "lines+markers",
         "name": "Pressure Head",
         "x": {
          "dtype": "f8",
          "bdata": "AAAAAAAAAAA8iJ0pdC5iQAAAAAAAQI9AAAAAAABwl0AAAAAAAJCaQNiZQudVNJ1AAAAAAADAokA="
         },
         "y": {
          "dtype": "f8",
          "bdata": "AAAAAAAAAACh3Dd1WItGQM9RWiKV/UJAANxcCAAACEASUSbmDlsxQGAAz+G2+zFAYDzr4P//B0A="
         },
         "yaxis": "y2",
         "type": "scatter",
         "xaxis": "x"
        }
       ],
       "layout": {
        "template": {
         "data": {
          "histogram2dcontour": [
           {
            "type": "histogram2dcontour",
            "colorbar": {
             "outlinewidth": 0,
             "ticks": ""
            },
            "colorscale": [
             [
              0.0,
              "#0d0887"
             ],
             [
              0.1111111111111111,
              "#46039f"
             ],
             [
              0.2222222222222222,
              "#7201a8"
             ],
             [
              0.3333333333333333,
              "#9c179e"
             ],
             [
              0.4444444444444444,
              "#bd3786"
             ],
             [
              0.5555555555555556,
              "#d8576b"
             ],
             [
              0.6666666666666666,
              "#ed7953"
             ],
             [
              0.7777777777777778,
              "#fb9f3a"
             ],
             [
              0.8888888888888888,
              "#fdca26"
             ],
             [
              1.0,
              "#f0f921"
             ]
            ]
           }
          ],
          "choropleth": [
           {
            "type": "choropleth",
            "colorbar": {
             "outlinewidth": 0,
             "ticks": ""
            }
           }
          ],
          "histogram2d": [
           {
            "type": "histogram2d",
            "colorbar": {
             "outlinewidth": 0,
             "ticks": ""
            },
            "colorscale": [
             [
              0.0,
              "#0d0887"
             ],
             [
              0.1111111111111111,
              "#46039f"
             ],
             [
              0.2222222222222222,
              "#7201a8"
             ],
             [
              0.3333333333333333,
              "#9c179e"
             ],
             [
              0.4444444444444444,
              "#bd3786"
             ],
             [
              0.5555555555555556,
              "#d8576b"
             ],
             [
              0.6666666666666666,
              "#ed7953"
             ],
             [
              0.7777777777777778,
              "#fb9f3a"
             ],
             [
              0.8888888888888888,
              "#fdca26"
             ],
             [
              1.0,
              "#f0f921"
             ]
            ]
           }
          ],
          "heatmap": [
           {
            "type": "heatmap",
            "colorbar": {
             "outlinewidth": 0,
             "ticks": ""
            },
            "colorscale": [
             [
              0.0,
              "#0d0887"
             ],
             [
              0.1111111111111111,
              "#46039f"
             ],
             [
              0.2222222222222222,
              "#7201a8"
             ],
             [
              0.3333333333333333,
              "#9c179e"
             ],
             [
              0.4444444444444444,
              "#bd3786"
             ],
             [
              0.5555555555555556,
              "#d8576b"
             ],
             [
              0.6666666666666666,
              "#ed7953"
             ],
             [
              0.7777777777777778,
              "#fb9f3a"
             ],
             [
              0.8888888888888888,
              "#fdca26"
             ],
             [
              1.0,
              "#f0f921"
             ]
            ]
           }
          ],
          "contourcarpet": [
           {
            "type": "contourcarpet",
            "colorbar": {
             "outlinewidth": 0,
             "ticks": ""
            }
           }
          ],
          "contour": [
           {
            "type": "contour",
            "colorbar": {
             "outlinewidth": 0,
             "ticks": ""
            },
            "colorscale": [
             [
              0.0,
              "#0d0887"
             ],
             [
              0.1111111111111111,
              "#46039f"
             ],
             [
              0.2222222222222222,
              "#7201a8"
             ],
             [
              0.3333333333333333,
              "#9c179e"
             ],
             [
              0.4444444444444444,
              "#bd3786"
             ],
             [
              0.5555555555555556,
              "#d8576b"
             ],
             [
              0.6666666666666666,
              "#ed7953"
             ],
             [
              0.7777777777777778,
              "#fb9f3a"
             ],
             [
              0.8888888888888888,
              "#fdca26"
             ],
             [
              1.0,
              "#f0f921"
             ]
            ]
           }
          ],
          "surface": [
           {
            "type": "surface",
            "colorbar": {
             "outlinewidth": 0,
             "ticks": ""
            },
            "colorscale": [
             [
              0.0,
              "#0d0887"
             ],
             [
              0.1111111111111111,
              "#46039f"
             ],
             [
              0.2222222222222222,
              "#7201a8"
             ],
             [
              0.3333333333333333,
              "#9c179e"
             ],
             [
              0.4444444444444444,
              "#bd3786"
             ],
             [
              0.5555555555555556,
              "#d8576b"
             ],
             [
              0.6666666666666666,
              "#ed7953"
             ],
             [
              0.7777777777777778,
              "#fb9f3a"
             ],
             [
              0.8888888888888888,
              "#fdca26"
             ],
             [
              1.0,
              "#f0f921"
             ]
            ]
           }
          ],
          "mesh3d": [
           {
            "type": "mesh3d",
            "colorbar": {
             "outlinewidth": 0,
             "ticks": ""
            }
           }
          ],
          "scatter": [
           {
            "marker": {
             "line": {
              "color": "#283442"
             }
            },
            "type": "scatter"
           }
          ],
          "parcoords": [
           {
            "type": "parcoords",
            "line": {
             "colorbar": {
              "outlinewidth": 0,
              "ticks": ""
             }
            }
           }
          ],
          "scatterpolargl": [
           {
            "type": "scatterpolargl",
            "marker": {
             "colorbar": {
              "outlinewidth": 0,
              "ticks": ""
             }
            }
           }
          ],
          "bar": [
           {
            "error_x": {
             "color": "#f2f5fa"
            },
            "error_y": {
             "color": "#f2f5fa"
            },
            "marker": {
             "line": {
              "color": "rgb(17,17,17)",
              "width": 0.5
             },
             "pattern": {
              "fillmode": "overlay",
              "size": 10,
              "solidity": 0.2
             }
            },
            "type": "bar"
           }
          ],
          "scattergeo": [
           {
            "type": "scattergeo",
            "marker": {
             "colorbar": {
              "outlinewidth": 0,
              "ticks": ""
             }
            }
           }
          ],
          "scatterpolar": [
           {
            "type": "scatterpolar",
            "marker": {
             "colorbar": {
              "outlinewidth": 0,
              "ticks": ""
             }
            }
           }
          ],
          "histogram": [
           {
            "marker": {
             "pattern": {
              "fillmode": "overlay",
              "size": 10,
              "solidity": 0.2
             }
            },
            "type": "histogram"
           }
          ],
          "scattergl": [
           {
            "marker": {
             "line": {
              "color": "#283442"
             }
            },
            "type": "scattergl"
           }
          ],
          "scatter3d": [
           {
            "type": "scatter3d",
            "line": {
             "colorbar": {
              "outlinewidth": 0,
              "ticks": ""
             }
            },
            "marker": {
             "colorbar": {
              "outlinewidth": 0,
              "ticks": ""
             }
            }
           }
          ],
          "scattermap": [
           {
            "type": "scattermap",
            "marker": {
             "colorbar": {
              "outlinewidth": 0,
              "ticks": ""
             }
            }
           }
          ],
          "scattermapbox": [
           {
            "type": "scattermapbox",
            "marker": {
             "colorbar": {
              "outlinewidth": 0,
              "ticks": ""
             }
            }
           }
          ],
          "scatterternary": [
           {
            "type": "scatterternary",
            "marker": {
             "colorbar": {
              "outlinewidth": 0,
              "ticks": ""
             }
            }
           }
          ],
          "scattercarpet": [
           {
            "type": "scattercarpet",
            "marker": {
             "colorbar": {
              "outlinewidth": 0,
              "ticks": ""
             }
            }
           }
          ],
          "carpet": [
           {
            "aaxis": {
             "endlinecolor": "#A2B1C6",
             "gridcolor": "#506784",
             "linecolor": "#506784",
             "minorgridcolor": "#506784",
             "startlinecolor": "#A2B1C6"
            },
            "baxis": {
             "endlinecolor": "#A2B1C6",
             "gridcolor": "#506784",
             "linecolor": "#506784",
             "minorgridcolor": "#506784",
             "startlinecolor": "#A2B1C6"
            },
            "type": "carpet"
           }
          ],
          "table": [
           {
            "cells": {
             "fill": {
              "color": "#506784"
             },
             "line": {
              "color": "rgb(17,17,17)"
             }
            },
            "header": {
             "fill": {
              "color": "#2a3f5f"
             },
             "line": {
              "color": "rgb(17,17,17)"
             }
            },
            "type": "table"
           }
          ],
          "barpolar": [
           {
            "marker": {
             "line": {
              "color": "rgb(17,17,17)",
              "width": 0.5
             },
             "pattern": {
              "fillmode": "overlay",
              "size": 10,
              "solidity": 0.2
             }
            },
            "type": "barpolar"
           }
          ],
          "pie": [
           {
            "automargin": true,
            "type": "pie"
           }
          ]
         },
         "layout": {
          "autotypenumbers": "strict",
          "colorway": [
           "#636efa",
           "#EF553B",
           "#00cc96",
           "#ab63fa",
           "#FFA15A",
           "#19d3f3",
           "#FF6692",
           "#B6E880",
           "#FF97FF",
           "#FECB52"
          ],
          "font": {
           "color": "#f2f5fa"
          },
          "hovermode": "closest",
          "hoverlabel": {
           "align": "left"
          },
          "paper_bgcolor": "rgb(17,17,17)",
          "plot_bgcolor": "rgb(17,17,17)",
          "polar": {
           "bgcolor": "rgb(17,17,17)",
           "angularaxis": {
            "gridcolor": "#506784",
            "linecolor": "#506784",
            "ticks": ""
           },
           "radialaxis": {
            "gridcolor": "#506784",
            "linecolor": "#506784",
            "ticks": ""
           }
          },
          "ternary": {
           "bgcolor": "rgb(17,17,17)",
           "aaxis": {
            "gridcolor": "#506784",
            "linecolor": "#506784",
            "ticks": ""
           },
           "baxis": {
            "gridcolor": "#506784",
            "linecolor": "#506784",
            "ticks": ""
           },
           "caxis": {
            "gridcolor": "#506784",
            "linecolor": "#506784",
            "ticks": ""
           }
          },
          "coloraxis": {
           "colorbar": {
            "outlinewidth": 0,
            "ticks": ""
           }
          },
          "colorscale": {
           "sequential": [
            [
             0.0,
             "#0d0887"
            ],
            [
             0.1111111111111111,
             "#46039f"
            ],
            [
             0.2222222222222222,
             "#7201a8"
            ],
            [
             0.3333333333333333,
             "#9c179e"
            ],
            [
             0.4444444444444444,
             "#bd3786"
            ],
            [
             0.5555555555555556,
             "#d8576b"
            ],
            [
             0.6666666666666666,
             "#ed7953"
            ],
            [
             0.7777777777777778,
             "#fb9f3a"
            ],
            [
             0.8888888888888888,
             "#fdca26"
            ],
            [
             1.0,
             "#f0f921"
            ]
           ],
           "sequentialminus": [
            [
             0.0,
             "#0d0887"
            ],
            [
             0.1111111111111111,
             "#46039f"
            ],
            [
             0.2222222222222222,
             "#7201a8"
            ],
            [
             0.3333333333333333,
             "#9c179e"
            ],
            [
             0.4444444444444444,
             "#bd3786"
            ],
            [
             0.5555555555555556,
             "#d8576b"
            ],
            [
             0.6666666666666666,
             "#ed7953"
            ],
            [
             0.7777777777777778,
             "#fb9f3a"
            ],
            [
             0.8888888888888888,
             "#fdca26"
            ],
            [
             1.0,
             "#f0f921"
            ]
           ],
           "diverging": [
            [
             0,
             "#8e0152"
            ],
            [
             0.1,
             "#c51b7d"
            ],
            [
             0.2,
             "#de77ae"
            ],
            [
             0.3,
             "#f1b6da"
            ],
            [
             0.4,
             "#fde0ef"
            ],
            [
             0.5,
             "#f7f7f7"
            ],
            [
             0.6,
             "#e6f5d0"
            ],
            [
             0.7,
             "#b8e186"
            ],
            [
             0.8,
             "#7fbc41"
            ],
            [
             0.9,
             "#4d9221"
            ],
            [
             1,
             "#276419"
            ]
           ]
          },
          "xaxis": {
           "gridcolor": "#283442",
           "linecolor": "#506784",
           "ticks": "",
           "title": {
            "standoff": 15
           },
           "zerolinecolor": "#283442",
           "automargin": true,
           "zerolinewidth": 2
          },
          "yaxis": {
           "gridcolor": "#283442",
           "linecolor": "#506784",
           "ticks": "",
           "title": {
            "standoff": 15
           },
           "zerolinecolor": "#283442",
           "automargin": true,
           "zerolinewidth": 2
          },
          "scene": {
           "xaxis": {
            "backgroundcolor": "rgb(17,17,17)",
            "gridcolor": "#506784",
            "linecolor": "#506784",
            "showbackground": true,
            "ticks": "",
            "zerolinecolor": "#C8D4E3",
            "gridwidth": 2
           },
           "yaxis": {
            "backgroundcolor": "rgb(17,17,17)",
            "gridcolor": "#506784",
            "linecolor": "#506784",
            "showbackground": true,
            "ticks": "",
            "zerolinecolor": "#C8D4E3",
            "gridwidth": 2
           },
           "zaxis": {
            "backgroundcolor": "rgb(17,17,17)",
            "gridcolor": "#506784",
            "linecolor": "#506784",
            "showbackground": true,
            "ticks": "",
            "zerolinecolor": "#C8D4E3",
            "gridwidth": 2
           }
          },
          "shapedefaults": {
           "line": {
            "color": "#f2f5fa"
           }
          },
          "annotationdefaults": {
           "arrowcolor": "#f2f5fa",
           "arrowhead": 0,
           "arrowwidth": 1
          },
          "geo": {
           "bgcolor": "rgb(17,17,17)",
           "landcolor": "rgb(17,17,17)",
           "subunitcolor": "#506784",
           "showland": true,
           "showlakes": true,
           "lakecolor": "rgb(17,17,17)"
          },
          "title": {
           "x": 0.05
          },
          "updatemenudefaults": {
           "bgcolor": "#506784",
           "borderwidth": 0
          },
          "sliderdefaults": {
           "bgcolor": "#C8D4E3",
           "borderwidth": 1,
           "bordercolor": "rgb(17,17,17)",
           "tickwidth": 0
          },
          "mapbox": {
           "style": "dark"
          }
         }
        },
        "xaxis": {
         "anchor": "y",
         "domain": [
          0.0,
          0.94
         ],
         "title": {
          "text": "Distance from Reservoir (m)"
         }
        },
        "yaxis": {
         "anchor": "x",
         "domain": [
          0.0,
          1.0
         ],
         "title": {
          "text": "Elevation / Head (m)"
         }
        },
        "yaxis2": {
         "anchor": "x",
         "overlaying": "y",
         "side": "right",
         "title": {
          "text": "Pressure Head (m)"
         }
        },
        "annotations": [
         {
          "font": {
           "size": 16
          },
          "showarrow": false,
          "text": "Hydraulic Profile",
          "x": 0.47,
          "xanchor": "center",
          "xref": "paper",
          "y": 1.0,
          "yanchor": "bottom",
          "yref": "paper"
         },
         {
          "showarrow": false,
          "text": "Min Pressure (2m)",
          "x": 1,
          "xanchor": "right",
          "xref": "x domain",
          "y": 2,
          "yanchor": "bottom",
          "yref": "y"
         },
         {
          "showarrow": false,
          "text": "Static Head (300.0 m)",
          "x": 1,
          "xanchor": "right",
          "xref": "x domain",
          "y": 300.0,
          "yanchor": "bottom",
          "yref": "y"
         }
        ],
        "shapes": [
         {
          "line": {
           "color": "red",
           "dash": "dot"
          },
          "type": "line",
          "x0": 0,
          "x1": 1,
          "xref": "x domain",
          "y0": 2,
          "y1": 2,
          "yref": "y2"
         },
         {
          "line": {
           "color": "blue",
           "dash": "dot"
          },
          "type": "line",
          "x0": 0,
          "x1": 1,
          "xref": "x domain",
          "y0": 300.0,
          "y1": 300.0,
          "yref": "y"
         }
        ],
        "legend": {
         "x": 0.02,
         "y": 0.98
        },
        "title": {
         "text": "Hydraulic Profile - p1_0,p1_1,p2_0,p3_0,p4_0,p4_1"
        },
        "hovermode": "x unified"
       },
       "config": {
        "plotlyServerURL": "https://plot.ly"
       }
      }
     },
     "metadata": {},
     "output_type": "display_data"
    },
    {
     "name": "stdout",
     "output_type": "stream",
     "text": [
      "========Plot Branch:  p1_0,p1_1,p5_0,p5_1 ========\n",
      "\n"
     ]
    },
    {
     "data": {
      "application/vnd.plotly.v1+json": {
       "data": [
        {
         "line": {
          "color": "brown",
          "width": 3
         },
         "marker": {
          "size": 8
         },
         "mode": "lines+markers",
         "name": "Ground Elevation",
         "x": {
          "dtype": "f8",
          "bdata": "AAAAAAAAAAA8iJ0pdC5iQAAAAAAAQI9A6pYd4k8vkEDfG0MAAFCUQA=="
         },
         "y": {
          "dtype": "f8",
          "bdata": "AAAAAADAckAAAAAAAEBvQAAAAAAAQG9AAAAAAADAbEAAAAAAAMBsQA=="
         },
         "type": "scatter",
         "xaxis": "x",
         "yaxis": "y"
        },
        {
         "line": {
          "color": "red",
          "dash": "dash",
          "width": 2
         },
         "marker": {
          "size": 6
         },
         "mode": "lines+markers",
         "name": "Energy Grade Line (EGL)",
         "x": {
          "dtype": "f8",
          "bdata": "AAAAAAAAAAA8iJ0pdC5iQAAAAAAAQI9A6pYd4k8vkEDfG0MAAFCUQA=="
         },
         "y": {
          "dtype": "f8",
          "bdata": "AAAAAADAckCU+6YOa3FyQDpKS6Sy/3FAXqdC1jWCbkDrVvD//x9tQA=="
         },
         "type": "scatter",
         "xaxis": "x",
         "yaxis": "y"
        },
        {
         "fill": "tonexty",
         "fillcolor": "rgba(0,100,255,0.1)",
         "line": {
          "color": "blue",
          "width": 2
         },
         "marker": {
          "size": 6
         },
         "mode": "lines+markers",
         "name": "Hydraulic Grade Line (HGL)",
         "x": {
          "dtype": "f8",
          "bdata": "AAAAAAAAAAA8iJ0pdC5iQAAAAAAAQI9A6pYd4k8vkEDfG0MAAFCUQA=="
         },
         "y": {
          "dtype": "f8",
          "bdata": "AAAAAADAckCU+6YOa3FyQDpKS6Sy/3FAXqdC1jWCbkDrVvD//x9tQA=="
         },
         "type": "scatter",
         "xaxis": "x",
         "yaxis": "y"
        },
        {
         "line": {
          "color": "green",
          "width": 2
         },
         "marker": {
          "size": 6
         },
         "mode": "lines+markers",
         "name": "Pressure Head",
         "x": {
          "dtype": "f8",
          "bdata": "AAAAAAAAAAA8iJ0pdC5iQAAAAAAAQI9A6pYd4k8vkEDfG0MAAFCUQA=="
         },
         "y": {
          "dtype": "f8",
          "bdata": "AAAAAAAAAACh3Dd1WItGQM9RWiKV/UJA2HUqZF0jLEDAuhX8//8HQA=="
         },
         "yaxis": "y2",
         "type": "scatter",
         "xaxis": "x"
        }
       ],
       "layout": {
        "template": {
         "data": {
          "histogram2dcontour": [
           {
            "type": "histogram2dcontour",
            "colorbar": {
             "outlinewidth": 0,
             "ticks": ""
            },
            "colorscale": [
             [
              0.0,
              "#0d0887"
             ],
             [
              0.1111111111111111,
              "#46039f"
             ],
             [
              0.2222222222222222,
              "#7201a8"
             ],
             [
              0.3333333333333333,
              "#9c179e"
             ],
             [
              0.4444444444444444,
              "#bd3786"
             ],
             [
              0.5555555555555556,
              "#d8576b"
             ],
             [
              0.6666666666666666,
              "#ed7953"
             ],
             [
              0.7777777777777778,
              "#fb9f3a"
             ],
             [
              0.8888888888888888,
              "#fdca26"
             ],
             [
              1.0,
              "#f0f921"
             ]
            ]
           }
          ],
          "choropleth": [
           {
            "type": "choropleth",
            "colorbar": {
             "outlinewidth": 0,
             "ticks": ""
            }
           }
          ],
          "histogram2d": [
           {
            "type": "histogram2d",
            "colorbar": {
             "outlinewidth": 0,
             "ticks": ""
            },
            "colorscale": [
             [
              0.0,
              "#0d0887"
             ],
             [
              0.1111111111111111,
              "#46039f"
             ],
             [
              0.2222222222222222,
              "#7201a8"
             ],
             [
              0.3333333333333333,
              "#9c179e"
             ],
             [
              0.4444444444444444,
              "#bd3786"
             ],
             [
              0.5555555555555556,
              "#d8576b"
             ],
             [
              0.6666666666666666,
              "#ed7953"
             ],
             [
              0.7777777777777778,
              "#fb9f3a"
             ],
             [
              0.8888888888888888,
              "#fdca26"
             ],
             [
              1.0,
              "#f0f921"
             ]
            ]
           }
          ],
          "heatmap": [
           {
            "type": "heatmap",
            "colorbar": {
             "outlinewidth": 0,
             "ticks": ""
            },
            "colorscale": [
             [
              0.0,
              "#0d0887"
             ],
             [
              0.1111111111111111,
              "#46039f"
             ],
             [
              0.2222222222222222,
              "#7201a8"
             ],
             [
              0.3333333333333333,
              "#9c179e"
             ],
             [
              0.4444444444444444,
              "#bd3786"
             ],
             [
              0.5555555555555556,
              "#d8576b"
             ],
             [
              0.6666666666666666,
              "#ed7953"
             ],
             [
              0.7777777777777778,
              "#fb9f3a"
             ],
             [
              0.8888888888888888,
              "#fdca26"
             ],
             [
              1.0,
              "#f0f921"
             ]
            ]
           }
          ],
          "contourcarpet": [
           {
            "type": "contourcarpet",
            "colorbar": {
             "outlinewidth": 0,
             "ticks": ""
            }
           }
          ],
          "contour": [
           {
            "type": "contour",
            "colorbar": {
             "outlinewidth": 0,
             "ticks": ""
            },
            "colorscale": [
             [
              0.0,
              "#0d0887"
             ],
             [
              0.1111111111111111,
              "#46039f"
             ],
             [
              0.2222222222222222,
              "#7201a8"
             ],
             [
              0.3333333333333333,
              "#9c179e"
             ],
             [
              0.4444444444444444,
              "#bd3786"
             ],
             [
              0.5555555555555556,
              "#d8576b"
             ],
             [
              0.6666666666666666,
              "#ed7953"
             ],
             [
              0.7777777777777778,
              "#fb9f3a"
             ],
             [
              0.8888888888888888,
              "#fdca26"
             ],
             [
              1.0,
              "#f0f921"
             ]
            ]
           }
          ],
          "surface": [
           {
            "type": "surface",
            "colorbar": {
             "outlinewidth": 0,
             "ticks": ""
            },
            "colorscale": [
             [
              0.0,
              "#0d0887"
             ],
             [
              0.1111111111111111,
              "#46039f"
             ],
             [
              0.2222222222222222,
              "#7201a8"
             ],
             [
              0.3333333333333333,
              "#9c179e"
             ],
             [
              0.4444444444444444,
              "#bd3786"
             ],
             [
              0.5555555555555556,
              "#d8576b"
             ],
             [
              0.6666666666666666,
              "#ed7953"
             ],
             [
              0.7777777777777778,
              "#fb9f3a"
             ],
             [
              0.8888888888888888,
              "#fdca26"
             ],
             [
              1.0,
              "#f0f921"
             ]
            ]
           }
          ],
          "mesh3d": [
           {
            "type": "mesh3d",
            "colorbar": {
             "outlinewidth": 0,
             "ticks": ""
            }
           }
          ],
          "scatter": [
           {
            "marker": {
             "line": {
              "color": "#283442"
             }
            },
            "type": "scatter"
           }
          ],
          "parcoords": [
           {
            "type": "parcoords",
            "line": {
             "colorbar": {
              "outlinewidth": 0,
              "ticks": ""
             }
            }
           }
          ],
          "scatterpolargl": [
           {
            "type": "scatterpolargl",
            "marker": {
             "colorbar": {
              "outlinewidth": 0,
              "ticks": ""
             }
            }
           }
          ],
          "bar": [
           {
            "error_x": {
             "color": "#f2f5fa"
            },
            "error_y": {
             "color": "#f2f5fa"
            },
            "marker": {
             "line": {
              "color": "rgb(17,17,17)",
              "width": 0.5
             },
             "pattern": {
              "fillmode": "overlay",
              "size": 10,
              "solidity": 0.2
             }
            },
            "type": "bar"
           }
          ],
          "scattergeo": [
           {
            "type": "scattergeo",
            "marker": {
             "colorbar": {
              "outlinewidth": 0,
              "ticks": ""
             }
            }
           }
          ],
          "scatterpolar": [
           {
            "type": "scatterpolar",
            "marker": {
             "colorbar": {
              "outlinewidth": 0,
              "ticks": ""
             }
            }
           }
          ],
          "histogram": [
           {
            "marker": {
             "pattern": {
              "fillmode": "overlay",
              "size": 10,
              "solidity": 0.2
             }
            },
            "type": "histogram"
           }
          ],
          "scattergl": [
           {
            "marker": {
             "line": {
              "color": "#283442"
             }
            },
            "type": "scattergl"
           }
          ],
          "scatter3d": [
           {
            "type": "scatter3d",
            "line": {
             "colorbar": {
              "outlinewidth": 0,
              "ticks": ""
             }
            },
            "marker": {
             "colorbar": {
              "outlinewidth": 0,
              "ticks": ""
             }
            }
           }
          ],
          "scattermap": [
           {
            "type": "scattermap",
            "marker": {
             "colorbar": {
              "outlinewidth": 0,
              "ticks": ""
             }
            }
           }
          ],
          "scattermapbox": [
           {
            "type": "scattermapbox",
            "marker": {
             "colorbar": {
              "outlinewidth": 0,
              "ticks": ""
             }
            }
           }
          ],
          "scatterternary": [
           {
            "type": "scatterternary",
            "marker": {
             "colorbar": {
              "outlinewidth": 0,
              "ticks": ""
             }
            }
           }
          ],
          "scattercarpet": [
           {
            "type": "scattercarpet",
            "marker": {
             "colorbar": {
              "outlinewidth": 0,
              "ticks": ""
             }
            }
           }
          ],
          "carpet": [
           {
            "aaxis": {
             "endlinecolor": "#A2B1C6",
             "gridcolor": "#506784",
             "linecolor": "#506784",
             "minorgridcolor": "#506784",
             "startlinecolor": "#A2B1C6"
            },
            "baxis": {
             "endlinecolor": "#A2B1C6",
             "gridcolor": "#506784",
             "linecolor": "#506784",
             "minorgridcolor": "#506784",
             "startlinecolor": "#A2B1C6"
            },
            "type": "carpet"
           }
          ],
          "table": [
           {
            "cells": {
             "fill": {
              "color": "#506784"
             },
             "line": {
              "color": "rgb(17,17,17)"
             }
            },
            "header": {
             "fill": {
              "color": "#2a3f5f"
             },
             "line": {
              "color": "rgb(17,17,17)"
             }
            },
            "type": "table"
           }
          ],
          "barpolar": [
           {
            "marker": {
             "line": {
              "color": "rgb(17,17,17)",
              "width": 0.5
             },
             "pattern": {
              "fillmode": "overlay",
              "size": 10,
              "solidity": 0.2
             }
            },
            "type": "barpolar"
           }
          ],
          "pie": [
           {
            "automargin": true,
            "type": "pie"
           }
          ]
         },
         "layout": {
          "autotypenumbers": "strict",
          "colorway": [
           "#636efa",
           "#EF553B",
           "#00cc96",
           "#ab63fa",
           "#FFA15A",
           "#19d3f3",
           "#FF6692",
           "#B6E880",
           "#FF97FF",
           "#FECB52"
          ],
          "font": {
           "color": "#f2f5fa"
          },
          "hovermode": "closest",
          "hoverlabel": {
           "align": "left"
          },
          "paper_bgcolor": "rgb(17,17,17)",
          "plot_bgcolor": "rgb(17,17,17)",
          "polar": {
           "bgcolor": "rgb(17,17,17)",
           "angularaxis": {
            "gridcolor": "#506784",
            "linecolor": "#506784",
            "ticks": ""
           },
           "radialaxis": {
            "gridcolor": "#506784",
            "linecolor": "#506784",
            "ticks": ""
           }
          },
          "ternary": {
           "bgcolor": "rgb(17,17,17)",
           "aaxis": {
            "gridcolor": "#506784",
            "linecolor": "#506784",
            "ticks": ""
           },
           "baxis": {
            "gridcolor": "#506784",
            "linecolor": "#506784",
            "ticks": ""
           },
           "caxis": {
            "gridcolor": "#506784",
            "linecolor": "#506784",
            "ticks": ""
           }
          },
          "coloraxis": {
           "colorbar": {
            "outlinewidth": 0,
            "ticks": ""
           }
          },
          "colorscale": {
           "sequential": [
            [
             0.0,
             "#0d0887"
            ],
            [
             0.1111111111111111,
             "#46039f"
            ],
            [
             0.2222222222222222,
             "#7201a8"
            ],
            [
             0.3333333333333333,
             "#9c179e"
            ],
            [
             0.4444444444444444,
             "#bd3786"
            ],
            [
             0.5555555555555556,
             "#d8576b"
            ],
            [
             0.6666666666666666,
             "#ed7953"
            ],
            [
             0.7777777777777778,
             "#fb9f3a"
            ],
            [
             0.8888888888888888,
             "#fdca26"
            ],
            [
             1.0,
             "#f0f921"
            ]
           ],
           "sequentialminus": [
            [
             0.0,
             "#0d0887"
            ],
            [
             0.1111111111111111,
             "#46039f"
            ],
            [
             0.2222222222222222,
             "#7201a8"
            ],
            [
             0.3333333333333333,
             "#9c179e"
            ],
            [
             0.4444444444444444,
             "#bd3786"
            ],
            [
             0.5555555555555556,
             "#d8576b"
            ],
            [
             0.6666666666666666,
             "#ed7953"
            ],
            [
             0.7777777777777778,
             "#fb9f3a"
            ],
            [
             0.8888888888888888,
             "#fdca26"
            ],
            [
             1.0,
             "#f0f921"
            ]
           ],
           "diverging": [
            [
             0,
             "#8e0152"
            ],
            [
             0.1,
             "#c51b7d"
            ],
            [
             0.2,
             "#de77ae"
            ],
            [
             0.3,
             "#f1b6da"
            ],
            [
             0.4,
             "#fde0ef"
            ],
            [
             0.5,
             "#f7f7f7"
            ],
            [
             0.6,
             "#e6f5d0"
            ],
            [
             0.7,
             "#b8e186"
            ],
            [
             0.8,
             "#7fbc41"
            ],
            [
             0.9,
             "#4d9221"
            ],
            [
             1,
             "#276419"
            ]
           ]
          },
          "xaxis": {
           "gridcolor": "#283442",
           "linecolor": "#506784",
           "ticks": "",
           "title": {
            "standoff": 15
           },
           "zerolinecolor": "#283442",
           "automargin": true,
           "zerolinewidth": 2
          },
          "yaxis": {
           "gridcolor": "#283442",
           "linecolor": "#506784",
           "ticks": "",
           "title": {
            "standoff": 15
           },
           "zerolinecolor": "#283442",
           "automargin": true,
           "zerolinewidth": 2
          },
          "scene": {
           "xaxis": {
            "backgroundcolor": "rgb(17,17,17)",
            "gridcolor": "#506784",
            "linecolor": "#506784",
            "showbackground": true,
            "ticks": "",
            "zerolinecolor": "#C8D4E3",
            "gridwidth": 2
           },
           "yaxis": {
            "backgroundcolor": "rgb(17,17,17)",
            "gridcolor": "#506784",
            "linecolor": "#506784",
            "showbackground": true,
            "ticks": "",
            "zerolinecolor": "#C8D4E3",
            "gridwidth": 2
           },
           "zaxis": {
            "backgroundcolor": "rgb(17,17,17)",
            "gridcolor": "#506784",
            "linecolor": "#506784",
            "showbackground": true,
            "ticks": "",
            "zerolinecolor": "#C8D4E3",
            "gridwidth": 2
           }
          },
          "shapedefaults": {
           "line": {
            "color": "#f2f5fa"
           }
          },
          "annotationdefaults": {
           "arrowcolor": "#f2f5fa",
           "arrowhead": 0,
           "arrowwidth": 1
          },
          "geo": {
           "bgcolor": "rgb(17,17,17)",
           "landcolor": "rgb(17,17,17)",
           "subunitcolor": "#506784",
           "showland": true,
           "showlakes": true,
           "lakecolor": "rgb(17,17,17)"
          },
          "title": {
           "x": 0.05
          },
          "updatemenudefaults": {
           "bgcolor": "#506784",
           "borderwidth": 0
          },
          "sliderdefaults": {
           "bgcolor": "#C8D4E3",
           "borderwidth": 1,
           "bordercolor": "rgb(17,17,17)",
           "tickwidth": 0
          },
          "mapbox": {
           "style": "dark"
          }
         }
        },
        "xaxis": {
         "anchor": "y",
         "domain": [
          0.0,
          0.94
         ],
         "title": {
          "text": "Distance from Reservoir (m)"
         }
        },
        "yaxis": {
         "anchor": "x",
         "domain": [
          0.0,
          1.0
         ],
         "title": {
          "text": "Elevation / Head (m)"
         }
        },
        "yaxis2": {
         "anchor": "x",
         "overlaying": "y",
         "side": "right",
         "title": {
          "text": "Pressure Head (m)"
         }
        },
        "annotations": [
         {
          "font": {
           "size": 16
          },
          "showarrow": false,
          "text": "Hydraulic Profile",
          "x": 0.47,
          "xanchor": "center",
          "xref": "paper",
          "y": 1.0,
          "yanchor": "bottom",
          "yref": "paper"
         },
         {
          "showarrow": false,
          "text": "Min Pressure (2m)",
          "x": 1,
          "xanchor": "right",
          "xref": "x domain",
          "y": 2,
          "yanchor": "bottom",
          "yref": "y"
         },
         {
          "showarrow": false,
          "text": "Static Head (300.0 m)",
          "x": 1,
          "xanchor": "right",
          "xref": "x domain",
          "y": 300.0,
          "yanchor": "bottom",
          "yref": "y"
         }
        ],
        "shapes": [
         {
          "line": {
           "color": "red",
           "dash": "dot"
          },
          "type": "line",
          "x0": 0,
          "x1": 1,
          "xref": "x domain",
          "y0": 2,
          "y1": 2,
          "yref": "y2"
         },
         {
          "line": {
           "color": "blue",
           "dash": "dot"
          },
          "type": "line",
          "x0": 0,
          "x1": 1,
          "xref": "x domain",
          "y0": 300.0,
          "y1": 300.0,
          "yref": "y"
         }
        ],
        "legend": {
         "x": 0.02,
         "y": 0.98
        },
        "title": {
         "text": "Hydraulic Profile - p1_0,p1_1,p5_0,p5_1"
        },
        "hovermode": "x unified"
       },
       "config": {
        "plotlyServerURL": "https://plot.ly"
       }
      }
     },
     "metadata": {},
     "output_type": "display_data"
    },
    {
     "name": "stdout",
     "output_type": "stream",
     "text": [
      "========Plot Branch:  p1_0,p1_1,p2_0,p6_0,p6_1 ========\n",
      "\n"
     ]
    },
    {
     "data": {
      "application/vnd.plotly.v1+json": {
       "data": [
        {
         "line": {
          "color": "brown",
          "width": 3
         },
         "marker": {
          "size": 8
         },
         "mode": "lines+markers",
         "name": "Ground Elevation",
         "x": {
          "dtype": "f8",
          "bdata": "AAAAAAAAAAA8iJ0pdC5iQAAAAAAAQI9AAAAAAABwl0Btb7ckZ76XQExqaAMAWKtA"
         },
         "y": {
          "dtype": "f8",
          "bdata": "AAAAAADAckAAAAAAAEBvQAAAAAAAQG9AAAAAAADgcEAAAAAAAABuQAAAAAAAAG5A"
         },
         "type": "scatter",
         "xaxis": "x",
         "yaxis": "y"
        },
        {
         "line": {
          "color": "red",
          "dash": "dash",
          "width": 2
         },
         "marker": {
          "size": 6
         },
         "mode": "lines+markers",
         "name": "Energy Grade Line (EGL)",
         "x": {
          "dtype": "f8",
          "bdata": "AAAAAAAAAAA8iJ0pdC5iQAAAAAAAQI9AAAAAAABwl0Btb7ckZ76XQExqaAMAWKtA"
         },
         "y": {
          "dtype": "f8",
          "bdata": "AAAAAADAckCU+6YOa3FyQDpKS6Sy/3FAuLkQAAAQcUBP8V6gDPBwQGJDVv//X25A"
         },
         "type": "scatter",
         "xaxis": "x",
         "yaxis": "y"
        },
        {
         "fill": "tonexty",
         "fillcolor": "rgba(0,100,255,0.1)",
         "line": {
          "color": "blue",
          "width": 2
         },
         "marker": {
          "size": 6
         },
         "mode": "lines+markers",
         "name": "Hydraulic Grade Line (HGL)",
         "x": {
          "dtype": "f8",
          "bdata": "AAAAAAAAAAA8iJ0pdC5iQAAAAAAAQI9AAAAAAABwl0Btb7ckZ76XQExqaAMAWKtA"
         },
         "y": {
          "dtype": "f8",
          "bdata": "AAAAAADAckCU+6YOa3FyQDpKS6Sy/3FAuLkQAAAQcUBP8V6gDPBwQGJDVv//X25A"
         },
         "type": "scatter",
         "xaxis": "x",
         "yaxis": "y"
        },
        {
         "line": {
          "color": "green",
          "width": 2
         },
         "marker": {
          "size": 6
         },
         "mode": "lines+markers",
         "name": "Pressure Head",
         "x": {
          "dtype": "f8",
          "bdata": "AAAAAAAAAAA8iJ0pdC5iQAAAAAAAQI9AAAAAAABwl0Btb7ckZ76XQExqaAMAWKtA"
         },
         "y": {
          "dtype": "f8",
          "bdata": "AAAAAAAAAACh3Dd1WItGQM9RWiKV/UJAANxcCAAACEDwFO8FygA/QIDYkNX//wdA"
         },
         "yaxis": "y2",
         "type": "scatter",
         "xaxis": "x"
        }
       ],
       "layout": {
        "template": {
         "data": {
          "histogram2dcontour": [
           {
            "type": "histogram2dcontour",
            "colorbar": {
             "outlinewidth": 0,
             "ticks": ""
            },
            "colorscale": [
             [
              0.0,
              "#0d0887"
             ],
             [
              0.1111111111111111,
              "#46039f"
             ],
             [
              0.2222222222222222,
              "#7201a8"
             ],
             [
              0.3333333333333333,
              "#9c179e"
             ],
             [
              0.4444444444444444,
              "#bd3786"
             ],
             [
              0.5555555555555556,
              "#d8576b"
             ],
             [
              0.6666666666666666,
              "#ed7953"
             ],
             [
              0.7777777777777778,
              "#fb9f3a"
             ],
             [
              0.8888888888888888,
              "#fdca26"
             ],
             [
              1.0,
              "#f0f921"
             ]
            ]
           }
          ],
          "choropleth": [
           {
            "type": "choropleth",
            "colorbar": {
             "outlinewidth": 0,
             "ticks": ""
            }
           }
          ],
          "histogram2d": [
           {
            "type": "histogram2d",
            "colorbar": {
             "outlinewidth": 0,
             "ticks": ""
            },
            "colorscale": [
             [
              0.0,
              "#0d0887"
             ],
             [
              0.1111111111111111,
              "#46039f"
             ],
             [
              0.2222222222222222,
              "#7201a8"
             ],
             [
              0.3333333333333333,
              "#9c179e"
             ],
             [
              0.4444444444444444,
              "#bd3786"
             ],
             [
              0.5555555555555556,
              "#d8576b"
             ],
             [
              0.6666666666666666,
              "#ed7953"
             ],
             [
              0.7777777777777778,
              "#fb9f3a"
             ],
             [
              0.8888888888888888,
              "#fdca26"
             ],
             [
              1.0,
              "#f0f921"
             ]
            ]
           }
          ],
          "heatmap": [
           {
            "type": "heatmap",
            "colorbar": {
             "outlinewidth": 0,
             "ticks": ""
            },
            "colorscale": [
             [
              0.0,
              "#0d0887"
             ],
             [
              0.1111111111111111,
              "#46039f"
             ],
             [
              0.2222222222222222,
              "#7201a8"
             ],
             [
              0.3333333333333333,
              "#9c179e"
             ],
             [
              0.4444444444444444,
              "#bd3786"
             ],
             [
              0.5555555555555556,
              "#d8576b"
             ],
             [
              0.6666666666666666,
              "#ed7953"
             ],
             [
              0.7777777777777778,
              "#fb9f3a"
             ],
             [
              0.8888888888888888,
              "#fdca26"
             ],
             [
              1.0,
              "#f0f921"
             ]
            ]
           }
          ],
          "contourcarpet": [
           {
            "type": "contourcarpet",
            "colorbar": {
             "outlinewidth": 0,
             "ticks": ""
            }
           }
          ],
          "contour": [
           {
            "type": "contour",
            "colorbar": {
             "outlinewidth": 0,
             "ticks": ""
            },
            "colorscale": [
             [
              0.0,
              "#0d0887"
             ],
             [
              0.1111111111111111,
              "#46039f"
             ],
             [
              0.2222222222222222,
              "#7201a8"
             ],
             [
              0.3333333333333333,
              "#9c179e"
             ],
             [
              0.4444444444444444,
              "#bd3786"
             ],
             [
              0.5555555555555556,
              "#d8576b"
             ],
             [
              0.6666666666666666,
              "#ed7953"
             ],
             [
              0.7777777777777778,
              "#fb9f3a"
             ],
             [
              0.8888888888888888,
              "#fdca26"
             ],
             [
              1.0,
              "#f0f921"
             ]
            ]
           }
          ],
          "surface": [
           {
            "type": "surface",
            "colorbar": {
             "outlinewidth": 0,
             "ticks": ""
            },
            "colorscale": [
             [
              0.0,
              "#0d0887"
             ],
             [
              0.1111111111111111,
              "#46039f"
             ],
             [
              0.2222222222222222,
              "#7201a8"
             ],
             [
              0.3333333333333333,
              "#9c179e"
             ],
             [
              0.4444444444444444,
              "#bd3786"
             ],
             [
              0.5555555555555556,
              "#d8576b"
             ],
             [
              0.6666666666666666,
              "#ed7953"
             ],
             [
              0.7777777777777778,
              "#fb9f3a"
             ],
             [
              0.8888888888888888,
              "#fdca26"
             ],
             [
              1.0,
              "#f0f921"
             ]
            ]
           }
          ],
          "mesh3d": [
           {
            "type": "mesh3d",
            "colorbar": {
             "outlinewidth": 0,
             "ticks": ""
            }
           }
          ],
          "scatter": [
           {
            "marker": {
             "line": {
              "color": "#283442"
             }
            },
            "type": "scatter"
           }
          ],
          "parcoords": [
           {
            "type": "parcoords",
            "line": {
             "colorbar": {
              "outlinewidth": 0,
              "ticks": ""
             }
            }
           }
          ],
          "scatterpolargl": [
           {
            "type": "scatterpolargl",
            "marker": {
             "colorbar": {
              "outlinewidth": 0,
              "ticks": ""
             }
            }
           }
          ],
          "bar": [
           {
            "error_x": {
             "color": "#f2f5fa"
            },
            "error_y": {
             "color": "#f2f5fa"
            },
            "marker": {
             "line": {
              "color": "rgb(17,17,17)",
              "width": 0.5
             },
             "pattern": {
              "fillmode": "overlay",
              "size": 10,
              "solidity": 0.2
             }
            },
            "type": "bar"
           }
          ],
          "scattergeo": [
           {
            "type": "scattergeo",
            "marker": {
             "colorbar": {
              "outlinewidth": 0,
              "ticks": ""
             }
            }
           }
          ],
          "scatterpolar": [
           {
            "type": "scatterpolar",
            "marker": {
             "colorbar": {
              "outlinewidth": 0,
              "ticks": ""
             }
            }
           }
          ],
          "histogram": [
           {
            "marker": {
             "pattern": {
              "fillmode": "overlay",
              "size": 10,
              "solidity": 0.2
             }
            },
            "type": "histogram"
           }
          ],
          "scattergl": [
           {
            "marker": {
             "line": {
              "color": "#283442"
             }
            },
            "type": "scattergl"
           }
          ],
          "scatter3d": [
           {
            "type": "scatter3d",
            "line": {
             "colorbar": {
              "outlinewidth": 0,
              "ticks": ""
             }
            },
            "marker": {
             "colorbar": {
              "outlinewidth": 0,
              "ticks": ""
             }
            }
           }
          ],
          "scattermap": [
           {
            "type": "scattermap",
            "marker": {
             "colorbar": {
              "outlinewidth": 0,
              "ticks": ""
             }
            }
           }
          ],
          "scattermapbox": [
           {
            "type": "scattermapbox",
            "marker": {
             "colorbar": {
              "outlinewidth": 0,
              "ticks": ""
             }
            }
           }
          ],
          "scatterternary": [
           {
            "type": "scatterternary",
            "marker": {
             "colorbar": {
              "outlinewidth": 0,
              "ticks": ""
             }
            }
           }
          ],
          "scattercarpet": [
           {
            "type": "scattercarpet",
            "marker": {
             "colorbar": {
              "outlinewidth": 0,
              "ticks": ""
             }
            }
           }
          ],
          "carpet": [
           {
            "aaxis": {
             "endlinecolor": "#A2B1C6",
             "gridcolor": "#506784",
             "linecolor": "#506784",
             "minorgridcolor": "#506784",
             "startlinecolor": "#A2B1C6"
            },
            "baxis": {
             "endlinecolor": "#A2B1C6",
             "gridcolor": "#506784",
             "linecolor": "#506784",
             "minorgridcolor": "#506784",
             "startlinecolor": "#A2B1C6"
            },
            "type": "carpet"
           }
          ],
          "table": [
           {
            "cells": {
             "fill": {
              "color": "#506784"
             },
             "line": {
              "color": "rgb(17,17,17)"
             }
            },
            "header": {
             "fill": {
              "color": "#2a3f5f"
             },
             "line": {
              "color": "rgb(17,17,17)"
             }
            },
            "type": "table"
           }
          ],
          "barpolar": [
           {
            "marker": {
             "line": {
              "color": "rgb(17,17,17)",
              "width": 0.5
             },
             "pattern": {
              "fillmode": "overlay",
              "size": 10,
              "solidity": 0.2
             }
            },
            "type": "barpolar"
           }
          ],
          "pie": [
           {
            "automargin": true,
            "type": "pie"
           }
          ]
         },
         "layout": {
          "autotypenumbers": "strict",
          "colorway": [
           "#636efa",
           "#EF553B",
           "#00cc96",
           "#ab63fa",
           "#FFA15A",
           "#19d3f3",
           "#FF6692",
           "#B6E880",
           "#FF97FF",
           "#FECB52"
          ],
          "font": {
           "color": "#f2f5fa"
          },
          "hovermode": "closest",
          "hoverlabel": {
           "align": "left"
          },
          "paper_bgcolor": "rgb(17,17,17)",
          "plot_bgcolor": "rgb(17,17,17)",
          "polar": {
           "bgcolor": "rgb(17,17,17)",
           "angularaxis": {
            "gridcolor": "#506784",
            "linecolor": "#506784",
            "ticks": ""
           },
           "radialaxis": {
            "gridcolor": "#506784",
            "linecolor": "#506784",
            "ticks": ""
           }
          },
          "ternary": {
           "bgcolor": "rgb(17,17,17)",
           "aaxis": {
            "gridcolor": "#506784",
            "linecolor": "#506784",
            "ticks": ""
           },
           "baxis": {
            "gridcolor": "#506784",
            "linecolor": "#506784",
            "ticks": ""
           },
           "caxis": {
            "gridcolor": "#506784",
            "linecolor": "#506784",
            "ticks": ""
           }
          },
          "coloraxis": {
           "colorbar": {
            "outlinewidth": 0,
            "ticks": ""
           }
          },
          "colorscale": {
           "sequential": [
            [
             0.0,
             "#0d0887"
            ],
            [
             0.1111111111111111,
             "#46039f"
            ],
            [
             0.2222222222222222,
             "#7201a8"
            ],
            [
             0.3333333333333333,
             "#9c179e"
            ],
            [
             0.4444444444444444,
             "#bd3786"
            ],
            [
             0.5555555555555556,
             "#d8576b"
            ],
            [
             0.6666666666666666,
             "#ed7953"
            ],
            [
             0.7777777777777778,
             "#fb9f3a"
            ],
            [
             0.8888888888888888,
             "#fdca26"
            ],
            [
             1.0,
             "#f0f921"
            ]
           ],
           "sequentialminus": [
            [
             0.0,
             "#0d0887"
            ],
            [
             0.1111111111111111,
             "#46039f"
            ],
            [
             0.2222222222222222,
             "#7201a8"
            ],
            [
             0.3333333333333333,
             "#9c179e"
            ],
            [
             0.4444444444444444,
             "#bd3786"
            ],
            [
             0.5555555555555556,
             "#d8576b"
            ],
            [
             0.6666666666666666,
             "#ed7953"
            ],
            [
             0.7777777777777778,
             "#fb9f3a"
            ],
            [
             0.8888888888888888,
             "#fdca26"
            ],
            [
             1.0,
             "#f0f921"
            ]
           ],
           "diverging": [
            [
             0,
             "#8e0152"
            ],
            [
             0.1,
             "#c51b7d"
            ],
            [
             0.2,
             "#de77ae"
            ],
            [
             0.3,
             "#f1b6da"
            ],
            [
             0.4,
             "#fde0ef"
            ],
            [
             0.5,
             "#f7f7f7"
            ],
            [
             0.6,
             "#e6f5d0"
            ],
            [
             0.7,
             "#b8e186"
            ],
            [
             0.8,
             "#7fbc41"
            ],
            [
             0.9,
             "#4d9221"
            ],
            [
             1,
             "#276419"
            ]
           ]
          },
          "xaxis": {
           "gridcolor": "#283442",
           "linecolor": "#506784",
           "ticks": "",
           "title": {
            "standoff": 15
           },
           "zerolinecolor": "#283442",
           "automargin": true,
           "zerolinewidth": 2
          },
          "yaxis": {
           "gridcolor": "#283442",
           "linecolor": "#506784",
           "ticks": "",
           "title": {
            "standoff": 15
           },
           "zerolinecolor": "#283442",
           "automargin": true,
           "zerolinewidth": 2
          },
          "scene": {
           "xaxis": {
            "backgroundcolor": "rgb(17,17,17)",
            "gridcolor": "#506784",
            "linecolor": "#506784",
            "showbackground": true,
            "ticks": "",
            "zerolinecolor": "#C8D4E3",
            "gridwidth": 2
           },
           "yaxis": {
            "backgroundcolor": "rgb(17,17,17)",
            "gridcolor": "#506784",
            "linecolor": "#506784",
            "showbackground": true,
            "ticks": "",
            "zerolinecolor": "#C8D4E3",
            "gridwidth": 2
           },
           "zaxis": {
            "backgroundcolor": "rgb(17,17,17)",
            "gridcolor": "#506784",
            "linecolor": "#506784",
            "showbackground": true,
            "ticks": "",
            "zerolinecolor": "#C8D4E3",
            "gridwidth": 2
           }
          },
          "shapedefaults": {
           "line": {
            "color": "#f2f5fa"
           }
          },
          "annotationdefaults": {
           "arrowcolor": "#f2f5fa",
           "arrowhead": 0,
           "arrowwidth": 1
          },
          "geo": {
           "bgcolor": "rgb(17,17,17)",
           "landcolor": "rgb(17,17,17)",
           "subunitcolor": "#506784",
           "showland": true,
           "showlakes": true,
           "lakecolor": "rgb(17,17,17)"
          },
          "title": {
           "x": 0.05
          },
          "updatemenudefaults": {
           "bgcolor": "#506784",
           "borderwidth": 0
          },
          "sliderdefaults": {
           "bgcolor": "#C8D4E3",
           "borderwidth": 1,
           "bordercolor": "rgb(17,17,17)",
           "tickwidth": 0
          },
          "mapbox": {
           "style": "dark"
          }
         }
        },
        "xaxis": {
         "anchor": "y",
         "domain": [
          0.0,
          0.94
         ],
         "title": {
          "text": "Distance from Reservoir (m)"
         }
        },
        "yaxis": {
         "anchor": "x",
         "domain": [
          0.0,
          1.0
         ],
         "title": {
          "text": "Elevation / Head (m)"
         }
        },
        "yaxis2": {
         "anchor": "x",
         "overlaying": "y",
         "side": "right",
         "title": {
          "text": "Pressure Head (m)"
         }
        },
        "annotations": [
         {
          "font": {
           "size": 16
          },
          "showarrow": false,
          "text": "Hydraulic Profile",
          "x": 0.47,
          "xanchor": "center",
          "xref": "paper",
          "y": 1.0,
          "yanchor": "bottom",
          "yref": "paper"
         },
         {
          "showarrow": false,
          "text": "Min Pressure (2m)",
          "x": 1,
          "xanchor": "right",
          "xref": "x domain",
          "y": 2,
          "yanchor": "bottom",
          "yref": "y"
         },
         {
          "showarrow": false,
          "text": "Static Head (300.0 m)",
          "x": 1,
          "xanchor": "right",
          "xref": "x domain",
          "y": 300.0,
          "yanchor": "bottom",
          "yref": "y"
         }
        ],
        "shapes": [
         {
          "line": {
           "color": "red",
           "dash": "dot"
          },
          "type": "line",
          "x0": 0,
          "x1": 1,
          "xref": "x domain",
          "y0": 2,
          "y1": 2,
          "yref": "y2"
         },
         {
          "line": {
           "color": "blue",
           "dash": "dot"
          },
          "type": "line",
          "x0": 0,
          "x1": 1,
          "xref": "x domain",
          "y0": 300.0,
          "y1": 300.0,
          "yref": "y"
         }
        ],
        "legend": {
         "x": 0.02,
         "y": 0.98
        },
        "title": {
         "text": "Hydraulic Profile - p1_0,p1_1,p2_0,p6_0,p6_1"
        },
        "hovermode": "x unified"
       },
       "config": {
        "plotlyServerURL": "https://plot.ly"
       }
      }
     },
     "metadata": {},
     "output_type": "display_data"
    },
    {
     "name": "stdout",
     "output_type": "stream",
     "text": [
      "=== 5  ===\n",
      "slack: {'pressure_path_p1': 34.981114, 'pressure_path_p1,p2': -0.0, 'pressure_path_p1,p2,p3': 14.355696000000002, 'pressure_path_p1,p2,p3,p4': -0.0, 'pressure_path_p1,p5': -0.0, 'pressure_path_p1,p2,p6': -0.0}\n",
      "debug: debug_model.txt\n",
      "CONSTRAINT VIOLATION: {None: np.float64(2.599999993435631e-05)}\n",
      "model: economic_diameter:\n",
      "MINIMIZE\n",
      "2.0*p1_0.0254 + 5.0*p1_0.0508 + 8.0*p1_0.0762 + 11.0*p1_0.1016 + 16.0*p1_0.1524 + 23.0*p1_0.2032 + 32.0*p1_0.254 + 50.0*p1_0.3048 + 60.0*p1_0.3556 + 90.0*p1_0.4064 + 130.0*p1_0.4572 + 170.0*p1_0.508 + 300.0*p1_0.5588 + 550.0*p1_0.6096 + 2.0*p2_0.0254 + 5.0*p2_0.0508 + 8.0*p2_0.0762 + 11.0*p2_0.1016 + 16.0*p2_0.1524 + 23.0*p2_0.2032 + 32.0*p2_0.254 + 50.0*p2_0.3048 + 60.0*p2_0.3556 + 90.0*p2_0.4064 + 130.0*p2_0.4572 + 170.0*p2_0.508 + 300.0*p2_0.5588 + 550.0*p2_0.6096 + 2.0*p3_0.0254 + 5.0*p3_0.0508 + 8.0*p3_0.0762 + 11.0*p3_0.1016 + 16.0*p3_0.1524 + 23.0*p3_0.2032 + 32.0*p3_0.254 + 50.0*p3_0.3048 + 60.0*p3_0.3556 + 90.0*p3_0.4064 + 130.0*p3_0.4572 + 170.0*p3_0.508 + 300.0*p3_0.5588 + 550.0*p3_0.6096 + 2.0*p4_0.0254 + 5.0*p4_0.0508 + 8.0*p4_0.0762 + 11.0*p4_0.1016 + 16.0*p4_0.1524 + 23.0*p4_0.2032 + 32.0*p4_0.254 + 50.0*p4_0.3048 + 60.0*p4_0.3556 + 90.0*p4_0.4064 + 130.0*p4_0.4572 + 170.0*p4_0.508 + 300.0*p4_0.5588 + 550.0*p4_0.6096 + 2.0*p5_0.0254 + 5.0*p5_0.0508 + 8.0*p5_0.0762 + 11.0*p5_0.1016 + 16.0*p5_0.1524 + 23.0*p5_0.2032 + 32.0*p5_0.254 + 50.0*p5_0.3048 + 60.0*p5_0.3556 + 90.0*p5_0.4064 + 130.0*p5_0.4572 + 170.0*p5_0.508 + 300.0*p5_0.5588 + 550.0*p5_0.6096 + 2.0*p6_0.0254 + 5.0*p6_0.0508 + 8.0*p6_0.0762 + 11.0*p6_0.1016 + 16.0*p6_0.1524 + 23.0*p6_0.2032 + 32.0*p6_0.254 + 50.0*p6_0.3048 + 60.0*p6_0.3556 + 90.0*p6_0.4064 + 130.0*p6_0.4572 + 170.0*p6_0.508 + 300.0*p6_0.5588 + 550.0*p6_0.6096 + 0.0\n",
      "SUBJECT TO\n",
      "_C1: p1_0.0254 + p1_0.0508 + p1_0.0762 + p1_0.1016 + p1_0.1524 + p1_0.2032\n",
      " + p1_0.254 + p1_0.3048 + p1_0.3556 + p1_0.4064 + p1_0.4572 + p1_0.508\n",
      " + p1_0.5588 + p1_0.6096 = 1000\n",
      "\n",
      "_C2: p2_0.0254 + p2_0.0508 + p2_0.0762 + p2_0.1016 + p2_0.1524 + p2_0.2032\n",
      " + p2_0.254 + p2_0.3048 + p2_0.3556 + p2_0.4064 + p2_0.4572 + p2_0.508\n",
      " + p2_0.5588 + p2_0.6096 = 500\n",
      "\n",
      "_C3: p3_0.0254 + p3_0.0508 + p3_0.0762 + p3_0.1016 + p3_0.1524 + p3_0.2032\n",
      " + p3_0.254 + p3_0.3048 + p3_0.3556 + p3_0.4064 + p3_0.4572 + p3_0.508\n",
      " + p3_0.5588 + p3_0.6096 = 200\n",
      "\n",
      "_C4: p4_0.0254 + p4_0.0508 + p4_0.0762 + p4_0.1016 + p4_0.1524 + p4_0.2032\n",
      " + p4_0.254 + p4_0.3048 + p4_0.3556 + p4_0.4064 + p4_0.4572 + p4_0.508\n",
      " + p4_0.5588 + p4_0.6096 = 700\n",
      "\n",
      "_C5: p5_0.0254 + p5_0.0508 + p5_0.0762 + p5_0.1016 + p5_0.1524 + p5_0.2032\n",
      " + p5_0.254 + p5_0.3048 + p5_0.3556 + p5_0.4064 + p5_0.4572 + p5_0.508\n",
      " + p5_0.5588 + p5_0.6096 = 300\n",
      "\n",
      "_C6: p6_0.0254 + p6_0.0508 + p6_0.0762 + p6_0.1016 + p6_0.1524 + p6_0.2032\n",
      " + p6_0.254 + p6_0.3048 + p6_0.3556 + p6_0.4064 + p6_0.4572 + p6_0.508\n",
      " + p6_0.5588 + p6_0.6096 = 2000\n",
      "\n",
      "pressure_path_p1: 208.157057639 p1_0.0254 + 7.11630657503 p1_0.0508\n",
      " + 0.987688009304 p1_0.0762 + 0.24328658295 p1_0.1016\n",
      " + 0.0337662856808 p1_0.1524 + 0.00831728661764 p1_0.2032\n",
      " + 0.00280537640761 p1_0.254 + 0.00115437469923 p1_0.3048\n",
      " + 0.000544865306115 p1_0.3556 + 0.000284344725636 p1_0.4064\n",
      " + 0.000160218230715 p1_0.4572 + 9.59079591218e-05 p1_0.508\n",
      " + 6.0291448195e-05 p1_0.5588 + 3.94648365776e-05 p1_0.6096 <= 47\n",
      "\n",
      "pressure_path_p1,p2: 208.157057639 p1_0.0254 + 7.11630657503 p1_0.0508\n",
      " + 0.987688009304 p1_0.0762 + 0.24328658295 p1_0.1016\n",
      " + 0.0337662856808 p1_0.1524 + 0.00831728661764 p1_0.2032\n",
      " + 0.00280537640761 p1_0.254 + 0.00115437469923 p1_0.3048\n",
      " + 0.000544865306115 p1_0.3556 + 0.000284344725636 p1_0.4064\n",
      " + 0.000160218230715 p1_0.4572 + 9.59079591218e-05 p1_0.508\n",
      " + 6.0291448195e-05 p1_0.5588 + 3.94648365776e-05 p1_0.6096\n",
      " + 184.706400191 p2_0.0254 + 6.3145943022 p2_0.0508 + 0.876416580728 p2_0.0762\n",
      " + 0.215878286622 p2_0.1016 + 0.029962227304 p2_0.1524\n",
      " + 0.00738027376024 p2_0.2032 + 0.0024893269693 p2_0.254\n",
      " + 0.00102432460175 p2_0.3048 + 0.000483481609622 p2_0.3556\n",
      " + 0.000252310881415 p2_0.4064 + 0.000142168288579 p2_0.4572\n",
      " + 8.51031143502e-05 p2_0.508 + 5.34991053617e-05 p2_0.5588\n",
      " + 3.50187881259e-05 p2_0.6096 <= 27\n",
      "\n",
      "pressure_path_p1,p2,p3: 208.157057639 p1_0.0254 + 7.11630657503 p1_0.0508\n",
      " + 0.987688009304 p1_0.0762 + 0.24328658295 p1_0.1016\n",
      " + 0.0337662856808 p1_0.1524 + 0.00831728661764 p1_0.2032\n",
      " + 0.00280537640761 p1_0.254 + 0.00115437469923 p1_0.3048\n",
      " + 0.000544865306115 p1_0.3556 + 0.000284344725636 p1_0.4064\n",
      " + 0.000160218230715 p1_0.4572 + 9.59079591218e-05 p1_0.508\n",
      " + 6.0291448195e-05 p1_0.5588 + 3.94648365776e-05 p1_0.6096\n",
      " + 184.706400191 p2_0.0254 + 6.3145943022 p2_0.0508 + 0.876416580728 p2_0.0762\n",
      " + 0.215878286622 p2_0.1016 + 0.029962227304 p2_0.1524\n",
      " + 0.00738027376024 p2_0.2032 + 0.0024893269693 p2_0.254\n",
      " + 0.00102432460175 p2_0.3048 + 0.000483481609622 p2_0.3556\n",
      " + 0.000252310881415 p2_0.4064 + 0.000142168288579 p2_0.4572\n",
      " + 8.51031143502e-05 p2_0.508 + 5.34991053617e-05 p2_0.5588\n",
      " + 3.50187881259e-05 p2_0.6096 + 24.1464550332 p3_0.0254\n",
      " + 0.82549964275 p3_0.0508 + 0.114572930527 p3_0.0762\n",
      " + 0.0282215198564 p3_0.1016 + 0.00391692747812 p3_0.1524\n",
      " + 0.000964814691317 p3_0.2032 + 0.000325426848583 p3_0.254\n",
      " + 0.000133908775819 p3_0.3048 + 6.32049941641e-05 p3_0.3556\n",
      " + 3.29843110265e-05 p3_0.4064 + 1.8585496679e-05 p3_0.4572\n",
      " + 1.11254321546e-05 p3_0.508 + 6.99387644716e-06 p3_0.5588\n",
      " + 4.57796585244e-06 p3_0.6096 <= 47\n",
      "\n",
      "pressure_path_p1,p2,p3,p4: 208.157057639 p1_0.0254 + 7.11630657503 p1_0.0508\n",
      " + 0.987688009304 p1_0.0762 + 0.24328658295 p1_0.1016\n",
      " + 0.0337662856808 p1_0.1524 + 0.00831728661764 p1_0.2032\n",
      " + 0.00280537640761 p1_0.254 + 0.00115437469923 p1_0.3048\n",
      " + 0.000544865306115 p1_0.3556 + 0.000284344725636 p1_0.4064\n",
      " + 0.000160218230715 p1_0.4572 + 9.59079591218e-05 p1_0.508\n",
      " + 6.0291448195e-05 p1_0.5588 + 3.94648365776e-05 p1_0.6096\n",
      " + 184.706400191 p2_0.0254 + 6.3145943022 p2_0.0508 + 0.876416580728 p2_0.0762\n",
      " + 0.215878286622 p2_0.1016 + 0.029962227304 p2_0.1524\n",
      " + 0.00738027376024 p2_0.2032 + 0.0024893269693 p2_0.254\n",
      " + 0.00102432460175 p2_0.3048 + 0.000483481609622 p2_0.3556\n",
      " + 0.000252310881415 p2_0.4064 + 0.000142168288579 p2_0.4572\n",
      " + 8.51031143502e-05 p2_0.508 + 5.34991053617e-05 p2_0.5588\n",
      " + 3.50187881259e-05 p2_0.6096 + 24.1464550332 p3_0.0254\n",
      " + 0.82549964275 p3_0.0508 + 0.114572930527 p3_0.0762\n",
      " + 0.0282215198564 p3_0.1016 + 0.00391692747812 p3_0.1524\n",
      " + 0.000964814691317 p3_0.2032 + 0.000325426848583 p3_0.254\n",
      " + 0.000133908775819 p3_0.3048 + 6.32049941641e-05 p3_0.3556\n",
      " + 3.29843110265e-05 p3_0.4064 + 1.8585496679e-05 p3_0.4572\n",
      " + 1.11254321546e-05 p3_0.508 + 6.99387644716e-06 p3_0.5588\n",
      " + 4.57796585244e-06 p3_0.6096 + 24.1464550332 p4_0.0254\n",
      " + 0.82549964275 p4_0.0508 + 0.114572930527 p4_0.0762\n",
      " + 0.0282215198564 p4_0.1016 + 0.00391692747812 p4_0.1524\n",
      " + 0.000964814691317 p4_0.2032 + 0.000325426848583 p4_0.254\n",
      " + 0.000133908775819 p4_0.3048 + 6.32049941641e-05 p4_0.3556\n",
      " + 3.29843110265e-05 p4_0.4064 + 1.8585496679e-05 p4_0.4572\n",
      " + 1.11254321546e-05 p4_0.508 + 6.99387644716e-06 p4_0.5588\n",
      " + 4.57796585244e-06 p4_0.6096 <= 67\n",
      "\n",
      "pressure_path_p1,p5: 208.157057639 p1_0.0254 + 7.11630657503 p1_0.0508\n",
      " + 0.987688009304 p1_0.0762 + 0.24328658295 p1_0.1016\n",
      " + 0.0337662856808 p1_0.1524 + 0.00831728661764 p1_0.2032\n",
      " + 0.00280537640761 p1_0.254 + 0.00115437469923 p1_0.3048\n",
      " + 0.000544865306115 p1_0.3556 + 0.000284344725636 p1_0.4064\n",
      " + 0.000160218230715 p1_0.4572 + 9.59079591218e-05 p1_0.508\n",
      " + 6.0291448195e-05 p1_0.5588 + 3.94648365776e-05 p1_0.6096\n",
      " + 1.22563437363 p5_0.0254 + 0.0419010051862 p5_0.0508\n",
      " + 0.00581553365694 p5_0.0762 + 0.00143247796683 p5_0.1016\n",
      " + 0.000198816801456 p5_0.1524 + 4.89724080921e-05 p5_0.2032\n",
      " + 1.65181320064e-05 p5_0.254 + 6.79698938618e-06 p5_0.3048\n",
      " + 3.20818162857e-06 p5_0.3556 + 1.67422941914e-06 p5_0.4064\n",
      " + 9.43369266812e-07 p5_0.4572 + 5.64708651909e-07 p5_0.508\n",
      " + 3.54997674266e-07 p5_0.5588 + 2.32370022943e-07 p5_0.6096 <= 67\n",
      "\n",
      "pressure_path_p1,p2,p6: 208.157057639 p1_0.0254 + 7.11630657503 p1_0.0508\n",
      " + 0.987688009304 p1_0.0762 + 0.24328658295 p1_0.1016\n",
      " + 0.0337662856808 p1_0.1524 + 0.00831728661764 p1_0.2032\n",
      " + 0.00280537640761 p1_0.254 + 0.00115437469923 p1_0.3048\n",
      " + 0.000544865306115 p1_0.3556 + 0.000284344725636 p1_0.4064\n",
      " + 0.000160218230715 p1_0.4572 + 9.59079591218e-05 p1_0.508\n",
      " + 6.0291448195e-05 p1_0.5588 + 3.94648365776e-05 p1_0.6096\n",
      " + 184.706400191 p2_0.0254 + 6.3145943022 p2_0.0508 + 0.876416580728 p2_0.0762\n",
      " + 0.215878286622 p2_0.1016 + 0.029962227304 p2_0.1524\n",
      " + 0.00738027376024 p2_0.2032 + 0.0024893269693 p2_0.254\n",
      " + 0.00102432460175 p2_0.3048 + 0.000483481609622 p2_0.3556\n",
      " + 0.000252310881415 p2_0.4064 + 0.000142168288579 p2_0.4572\n",
      " + 8.51031143502e-05 p2_0.508 + 5.34991053617e-05 p2_0.5588\n",
      " + 3.50187881259e-05 p2_0.6096 + 87.1687729325 p6_0.0254\n",
      " + 2.98005611241 p6_0.0508 + 0.413608612592 p6_0.0762\n",
      " + 0.101879768802 p6_0.1016 + 0.0141401195937 p6_0.1524\n",
      " + 0.00348298384312 p6_0.2032 + 0.00117479187033 p6_0.254\n",
      " + 0.000483411070361 p6_0.3048 + 0.00022817021285 p6_0.3556\n",
      " + 0.000119073458785 p6_0.4064 + 6.70936970922e-05 p6_0.4572\n",
      " + 4.01628424515e-05 p6_0.508 + 2.52479143254e-05 p6_0.5588\n",
      " + 1.65264700485e-05 p6_0.6096 <= 57\n",
      "\n",
      "VARIABLES\n",
      "p1_0.0254 <= 1000 Continuous\n",
      "p1_0.0508 <= 1000 Continuous\n",
      "p1_0.0762 <= 1000 Continuous\n",
      "p1_0.1016 <= 1000 Continuous\n",
      "p1_0.1524 <= 1000 Continuous\n",
      "p1_0.2032 <= 1000 Continuous\n",
      "p1_0.254 <= 1000 Continuous\n",
      "p1_0.3048 <= 1000 Continuous\n",
      "p1_0.3556 <= 1000 Continuous\n",
      "p1_0.4064 <= 1000 Continuous\n",
      "p1_0.4572 <= 1000 Continuous\n",
      "p1_0.508 <= 1000 Continuous\n",
      "p1_0.5588 <= 1000 Continuous\n",
      "p1_0.6096 <= 1000 Continuous\n",
      "p2_0.0254 <= 500 Continuous\n",
      "p2_0.0508 <= 500 Continuous\n",
      "p2_0.0762 <= 500 Continuous\n",
      "p2_0.1016 <= 500 Continuous\n",
      "p2_0.1524 <= 500 Continuous\n",
      "p2_0.2032 <= 500 Continuous\n",
      "p2_0.254 <= 500 Continuous\n",
      "p2_0.3048 <= 500 Continuous\n",
      "p2_0.3556 <= 500 Continuous\n",
      "p2_0.4064 <= 500 Continuous\n",
      "p2_0.4572 <= 500 Continuous\n",
      "p2_0.508 <= 500 Continuous\n",
      "p2_0.5588 <= 500 Continuous\n",
      "p2_0.6096 <= 500 Continuous\n",
      "p3_0.0254 <= 200 Continuous\n",
      "p3_0.0508 <= 200 Continuous\n",
      "p3_0.0762 <= 200 Continuous\n",
      "p3_0.1016 <= 200 Continuous\n",
      "p3_0.1524 <= 200 Continuous\n",
      "p3_0.2032 <= 200 Continuous\n",
      "p3_0.254 <= 200 Continuous\n",
      "p3_0.3048 <= 200 Continuous\n",
      "p3_0.3556 <= 200 Continuous\n",
      "p3_0.4064 <= 200 Continuous\n",
      "p3_0.4572 <= 200 Continuous\n",
      "p3_0.508 <= 200 Continuous\n",
      "p3_0.5588 <= 200 Continuous\n",
      "p3_0.6096 <= 200 Continuous\n",
      "p4_0.0254 <= 700 Continuous\n",
      "p4_0.0508 <= 700 Continuous\n",
      "p4_0.0762 <= 700 Continuous\n",
      "p4_0.1016 <= 700 Continuous\n",
      "p4_0.1524 <= 700 Continuous\n",
      "p4_0.2032 <= 700 Continuous\n",
      "p4_0.254 <= 700 Continuous\n",
      "p4_0.3048 <= 700 Continuous\n",
      "p4_0.3556 <= 700 Continuous\n",
      "p4_0.4064 <= 700 Continuous\n",
      "p4_0.4572 <= 700 Continuous\n",
      "p4_0.508 <= 700 Continuous\n",
      "p4_0.5588 <= 700 Continuous\n",
      "p4_0.6096 <= 700 Continuous\n",
      "p5_0.0254 <= 300 Continuous\n",
      "p5_0.0508 <= 300 Continuous\n",
      "p5_0.0762 <= 300 Continuous\n",
      "p5_0.1016 <= 300 Continuous\n",
      "p5_0.1524 <= 300 Continuous\n",
      "p5_0.2032 <= 300 Continuous\n",
      "p5_0.254 <= 300 Continuous\n",
      "p5_0.3048 <= 300 Continuous\n",
      "p5_0.3556 <= 300 Continuous\n",
      "p5_0.4064 <= 300 Continuous\n",
      "p5_0.4572 <= 300 Continuous\n",
      "p5_0.508 <= 300 Continuous\n",
      "p5_0.5588 <= 300 Continuous\n",
      "p5_0.6096 <= 300 Continuous\n",
      "p6_0.0254 <= 2000 Continuous\n",
      "p6_0.0508 <= 2000 Continuous\n",
      "p6_0.0762 <= 2000 Continuous\n",
      "p6_0.1016 <= 2000 Continuous\n",
      "p6_0.1524 <= 2000 Continuous\n",
      "p6_0.2032 <= 2000 Continuous\n",
      "p6_0.254 <= 2000 Continuous\n",
      "p6_0.3048 <= 2000 Continuous\n",
      "p6_0.3556 <= 2000 Continuous\n",
      "p6_0.4064 <= 2000 Continuous\n",
      "p6_0.4572 <= 2000 Continuous\n",
      "p6_0.508 <= 2000 Continuous\n",
      "p6_0.5588 <= 2000 Continuous\n",
      "p6_0.6096 <= 2000 Continuous\n",
      "\n",
      "status: Optimal\n",
      "df_model:\n",
      "     var_name Pipe_ID  Diameter_m  cost_USD_per_meter Start_Junction  \\\n",
      "0   p1_0.0254      p1      0.0254                 2.0         source   \n",
      "1   p1_0.0508      p1      0.0508                 5.0         source   \n",
      "2   p1_0.0762      p1      0.0762                 8.0         source   \n",
      "3   p1_0.1016      p1      0.1016                11.0         source   \n",
      "4   p1_0.1524      p1      0.1524                16.0         source   \n",
      "5   p1_0.2032      p1      0.2032                23.0         source   \n",
      "6    p1_0.254      p1      0.2540                32.0         source   \n",
      "7   p1_0.3048      p1      0.3048                50.0         source   \n",
      "8   p1_0.3556      p1      0.3556                60.0         source   \n",
      "9   p1_0.4064      p1      0.4064                90.0         source   \n",
      "10  p1_0.4572      p1      0.4572               130.0         source   \n",
      "11   p1_0.508      p1      0.5080               170.0         source   \n",
      "12  p1_0.5588      p1      0.5588               300.0         source   \n",
      "13  p1_0.6096      p1      0.6096               550.0         source   \n",
      "14  p2_0.0254      p2      0.0254                 2.0              a   \n",
      "15  p2_0.0508      p2      0.0508                 5.0              a   \n",
      "16  p2_0.0762      p2      0.0762                 8.0              a   \n",
      "17  p2_0.1016      p2      0.1016                11.0              a   \n",
      "18  p2_0.1524      p2      0.1524                16.0              a   \n",
      "19  p2_0.2032      p2      0.2032                23.0              a   \n",
      "20   p2_0.254      p2      0.2540                32.0              a   \n",
      "21  p2_0.3048      p2      0.3048                50.0              a   \n",
      "22  p2_0.3556      p2      0.3556                60.0              a   \n",
      "23  p2_0.4064      p2      0.4064                90.0              a   \n",
      "24  p2_0.4572      p2      0.4572               130.0              a   \n",
      "25   p2_0.508      p2      0.5080               170.0              a   \n",
      "26  p2_0.5588      p2      0.5588               300.0              a   \n",
      "27  p2_0.6096      p2      0.6096               550.0              a   \n",
      "28  p3_0.0254      p3      0.0254                 2.0              b   \n",
      "29  p3_0.0508      p3      0.0508                 5.0              b   \n",
      "30  p3_0.0762      p3      0.0762                 8.0              b   \n",
      "31  p3_0.1016      p3      0.1016                11.0              b   \n",
      "32  p3_0.1524      p3      0.1524                16.0              b   \n",
      "33  p3_0.2032      p3      0.2032                23.0              b   \n",
      "34   p3_0.254      p3      0.2540                32.0              b   \n",
      "35  p3_0.3048      p3      0.3048                50.0              b   \n",
      "36  p3_0.3556      p3      0.3556                60.0              b   \n",
      "37  p3_0.4064      p3      0.4064                90.0              b   \n",
      "38  p3_0.4572      p3      0.4572               130.0              b   \n",
      "39   p3_0.508      p3      0.5080               170.0              b   \n",
      "40  p3_0.5588      p3      0.5588               300.0              b   \n",
      "41  p3_0.6096      p3      0.6096               550.0              b   \n",
      "42  p4_0.0254      p4      0.0254                 2.0              c   \n",
      "43  p4_0.0508      p4      0.0508                 5.0              c   \n",
      "44  p4_0.0762      p4      0.0762                 8.0              c   \n",
      "45  p4_0.1016      p4      0.1016                11.0              c   \n",
      "46  p4_0.1524      p4      0.1524                16.0              c   \n",
      "47  p4_0.2032      p4      0.2032                23.0              c   \n",
      "48   p4_0.254      p4      0.2540                32.0              c   \n",
      "49  p4_0.3048      p4      0.3048                50.0              c   \n",
      "50  p4_0.3556      p4      0.3556                60.0              c   \n",
      "51  p4_0.4064      p4      0.4064                90.0              c   \n",
      "52  p4_0.4572      p4      0.4572               130.0              c   \n",
      "53   p4_0.508      p4      0.5080               170.0              c   \n",
      "54  p4_0.5588      p4      0.5588               300.0              c   \n",
      "55  p4_0.6096      p4      0.6096               550.0              c   \n",
      "56  p5_0.0254      p5      0.0254                 2.0              a   \n",
      "57  p5_0.0508      p5      0.0508                 5.0              a   \n",
      "58  p5_0.0762      p5      0.0762                 8.0              a   \n",
      "59  p5_0.1016      p5      0.1016                11.0              a   \n",
      "60  p5_0.1524      p5      0.1524                16.0              a   \n",
      "61  p5_0.2032      p5      0.2032                23.0              a   \n",
      "62   p5_0.254      p5      0.2540                32.0              a   \n",
      "63  p5_0.3048      p5      0.3048                50.0              a   \n",
      "64  p5_0.3556      p5      0.3556                60.0              a   \n",
      "65  p5_0.4064      p5      0.4064                90.0              a   \n",
      "66  p5_0.4572      p5      0.4572               130.0              a   \n",
      "67   p5_0.508      p5      0.5080               170.0              a   \n",
      "68  p5_0.5588      p5      0.5588               300.0              a   \n",
      "69  p5_0.6096      p5      0.6096               550.0              a   \n",
      "70  p6_0.0254      p6      0.0254                 2.0              b   \n",
      "71  p6_0.0508      p6      0.0508                 5.0              b   \n",
      "72  p6_0.0762      p6      0.0762                 8.0              b   \n",
      "73  p6_0.1016      p6      0.1016                11.0              b   \n",
      "74  p6_0.1524      p6      0.1524                16.0              b   \n",
      "75  p6_0.2032      p6      0.2032                23.0              b   \n",
      "76   p6_0.254      p6      0.2540                32.0              b   \n",
      "77  p6_0.3048      p6      0.3048                50.0              b   \n",
      "78  p6_0.3556      p6      0.3556                60.0              b   \n",
      "79  p6_0.4064      p6      0.4064                90.0              b   \n",
      "80  p6_0.4572      p6      0.4572               130.0              b   \n",
      "81   p6_0.508      p6      0.5080               170.0              b   \n",
      "82  p6_0.5588      p6      0.5588               300.0              b   \n",
      "83  p6_0.6096      p6      0.6096               550.0              b   \n",
      "\n",
      "   End_Junction  length_m   cost_USD  End_Junction_Elevation_m  static_head  \\\n",
      "0             a    1000.0     2000.0                     250.0        300.0   \n",
      "1             a    1000.0     5000.0                     250.0        300.0   \n",
      "2             a    1000.0     8000.0                     250.0        300.0   \n",
      "3             a    1000.0    11000.0                     250.0        300.0   \n",
      "4             a    1000.0    16000.0                     250.0        300.0   \n",
      "5             a    1000.0    23000.0                     250.0        300.0   \n",
      "6             a    1000.0    32000.0                     250.0        300.0   \n",
      "7             a    1000.0    50000.0                     250.0        300.0   \n",
      "8             a    1000.0    60000.0                     250.0        300.0   \n",
      "9             a    1000.0    90000.0                     250.0        300.0   \n",
      "10            a    1000.0   130000.0                     250.0        300.0   \n",
      "11            a    1000.0   170000.0                     250.0        300.0   \n",
      "12            a    1000.0   300000.0                     250.0        300.0   \n",
      "13            a    1000.0   550000.0                     250.0        300.0   \n",
      "14            b     500.0     1000.0                     270.0        300.0   \n",
      "15            b     500.0     2500.0                     270.0        300.0   \n",
      "16            b     500.0     4000.0                     270.0        300.0   \n",
      "17            b     500.0     5500.0                     270.0        300.0   \n",
      "18            b     500.0     8000.0                     270.0        300.0   \n",
      "19            b     500.0    11500.0                     270.0        300.0   \n",
      "20            b     500.0    16000.0                     270.0        300.0   \n",
      "21            b     500.0    25000.0                     270.0        300.0   \n",
      "22            b     500.0    30000.0                     270.0        300.0   \n",
      "23            b     500.0    45000.0                     270.0        300.0   \n",
      "24            b     500.0    65000.0                     270.0        300.0   \n",
      "25            b     500.0    85000.0                     270.0        300.0   \n",
      "26            b     500.0   150000.0                     270.0        300.0   \n",
      "27            b     500.0   275000.0                     270.0        300.0   \n",
      "28            c     200.0      400.0                     250.0        300.0   \n",
      "29            c     200.0     1000.0                     250.0        300.0   \n",
      "30            c     200.0     1600.0                     250.0        300.0   \n",
      "31            c     200.0     2200.0                     250.0        300.0   \n",
      "32            c     200.0     3200.0                     250.0        300.0   \n",
      "33            c     200.0     4600.0                     250.0        300.0   \n",
      "34            c     200.0     6400.0                     250.0        300.0   \n",
      "35            c     200.0    10000.0                     250.0        300.0   \n",
      "36            c     200.0    12000.0                     250.0        300.0   \n",
      "37            c     200.0    18000.0                     250.0        300.0   \n",
      "38            c     200.0    26000.0                     250.0        300.0   \n",
      "39            c     200.0    34000.0                     250.0        300.0   \n",
      "40            c     200.0    60000.0                     250.0        300.0   \n",
      "41            c     200.0   110000.0                     250.0        300.0   \n",
      "42           v1     700.0     1400.0                     230.0        300.0   \n",
      "43           v1     700.0     3500.0                     230.0        300.0   \n",
      "44           v1     700.0     5600.0                     230.0        300.0   \n",
      "45           v1     700.0     7700.0                     230.0        300.0   \n",
      "46           v1     700.0    11200.0                     230.0        300.0   \n",
      "47           v1     700.0    16100.0                     230.0        300.0   \n",
      "48           v1     700.0    22400.0                     230.0        300.0   \n",
      "49           v1     700.0    35000.0                     230.0        300.0   \n",
      "50           v1     700.0    42000.0                     230.0        300.0   \n",
      "51           v1     700.0    63000.0                     230.0        300.0   \n",
      "52           v1     700.0    91000.0                     230.0        300.0   \n",
      "53           v1     700.0   119000.0                     230.0        300.0   \n",
      "54           v1     700.0   210000.0                     230.0        300.0   \n",
      "55           v1     700.0   385000.0                     230.0        300.0   \n",
      "56           v2     300.0      600.0                     230.0        300.0   \n",
      "57           v2     300.0     1500.0                     230.0        300.0   \n",
      "58           v2     300.0     2400.0                     230.0        300.0   \n",
      "59           v2     300.0     3300.0                     230.0        300.0   \n",
      "60           v2     300.0     4800.0                     230.0        300.0   \n",
      "61           v2     300.0     6900.0                     230.0        300.0   \n",
      "62           v2     300.0     9600.0                     230.0        300.0   \n",
      "63           v2     300.0    15000.0                     230.0        300.0   \n",
      "64           v2     300.0    18000.0                     230.0        300.0   \n",
      "65           v2     300.0    27000.0                     230.0        300.0   \n",
      "66           v2     300.0    39000.0                     230.0        300.0   \n",
      "67           v2     300.0    51000.0                     230.0        300.0   \n",
      "68           v2     300.0    90000.0                     230.0        300.0   \n",
      "69           v2     300.0   165000.0                     230.0        300.0   \n",
      "70           v3    2000.0     4000.0                     240.0        300.0   \n",
      "71           v3    2000.0    10000.0                     240.0        300.0   \n",
      "72           v3    2000.0    16000.0                     240.0        300.0   \n",
      "73           v3    2000.0    22000.0                     240.0        300.0   \n",
      "74           v3    2000.0    32000.0                     240.0        300.0   \n",
      "75           v3    2000.0    46000.0                     240.0        300.0   \n",
      "76           v3    2000.0    64000.0                     240.0        300.0   \n",
      "77           v3    2000.0   100000.0                     240.0        300.0   \n",
      "78           v3    2000.0   120000.0                     240.0        300.0   \n",
      "79           v3    2000.0   180000.0                     240.0        300.0   \n",
      "80           v3    2000.0   260000.0                     240.0        300.0   \n",
      "81           v3    2000.0   340000.0                     240.0        300.0   \n",
      "82           v3    2000.0   600000.0                     240.0        300.0   \n",
      "83           v3    2000.0  1100000.0                     240.0        300.0   \n",
      "\n",
      "    Flow_cms  flow_cmh    dz    hwc end_junc_path  hydraulic_gradient_per_m  \\\n",
      "0   0.044444     160.0  50.0  140.0            p1                  0.050000   \n",
      "1   0.044444     160.0  50.0  140.0            p1                  0.050000   \n",
      "2   0.044444     160.0  50.0  140.0            p1                  0.050000   \n",
      "3   0.044444     160.0  50.0  140.0            p1                  0.050000   \n",
      "4   0.044444     160.0  50.0  140.0            p1                  0.050000   \n",
      "5   0.044444     160.0  50.0  140.0            p1                  0.050000   \n",
      "6   0.044444     160.0  50.0  140.0            p1                  0.050000   \n",
      "7   0.044444     160.0  50.0  140.0            p1                  0.050000   \n",
      "8   0.044444     160.0  50.0  140.0            p1                  0.050000   \n",
      "9   0.044444     160.0  50.0  140.0            p1                  0.050000   \n",
      "10  0.044444     160.0  50.0  140.0            p1                  0.050000   \n",
      "11  0.044444     160.0  50.0  140.0            p1                  0.050000   \n",
      "12  0.044444     160.0  50.0  140.0            p1                  0.050000   \n",
      "13  0.044444     160.0  50.0  140.0            p1                  0.050000   \n",
      "14  0.041667     150.0  30.0  140.0         p1,p2                  0.060000   \n",
      "15  0.041667     150.0  30.0  140.0         p1,p2                  0.060000   \n",
      "16  0.041667     150.0  30.0  140.0         p1,p2                  0.060000   \n",
      "17  0.041667     150.0  30.0  140.0         p1,p2                  0.060000   \n",
      "18  0.041667     150.0  30.0  140.0         p1,p2                  0.060000   \n",
      "19  0.041667     150.0  30.0  140.0         p1,p2                  0.060000   \n",
      "20  0.041667     150.0  30.0  140.0         p1,p2                  0.060000   \n",
      "21  0.041667     150.0  30.0  140.0         p1,p2                  0.060000   \n",
      "22  0.041667     150.0  30.0  140.0         p1,p2                  0.060000   \n",
      "23  0.041667     150.0  30.0  140.0         p1,p2                  0.060000   \n",
      "24  0.041667     150.0  30.0  140.0         p1,p2                  0.060000   \n",
      "25  0.041667     150.0  30.0  140.0         p1,p2                  0.060000   \n",
      "26  0.041667     150.0  30.0  140.0         p1,p2                  0.060000   \n",
      "27  0.041667     150.0  30.0  140.0         p1,p2                  0.060000   \n",
      "28  0.013889      50.0  50.0  140.0      p1,p2,p3                  0.250000   \n",
      "29  0.013889      50.0  50.0  140.0      p1,p2,p3                  0.250000   \n",
      "30  0.013889      50.0  50.0  140.0      p1,p2,p3                  0.250000   \n",
      "31  0.013889      50.0  50.0  140.0      p1,p2,p3                  0.250000   \n",
      "32  0.013889      50.0  50.0  140.0      p1,p2,p3                  0.250000   \n",
      "33  0.013889      50.0  50.0  140.0      p1,p2,p3                  0.250000   \n",
      "34  0.013889      50.0  50.0  140.0      p1,p2,p3                  0.250000   \n",
      "35  0.013889      50.0  50.0  140.0      p1,p2,p3                  0.250000   \n",
      "36  0.013889      50.0  50.0  140.0      p1,p2,p3                  0.250000   \n",
      "37  0.013889      50.0  50.0  140.0      p1,p2,p3                  0.250000   \n",
      "38  0.013889      50.0  50.0  140.0      p1,p2,p3                  0.250000   \n",
      "39  0.013889      50.0  50.0  140.0      p1,p2,p3                  0.250000   \n",
      "40  0.013889      50.0  50.0  140.0      p1,p2,p3                  0.250000   \n",
      "41  0.013889      50.0  50.0  140.0      p1,p2,p3                  0.250000   \n",
      "42  0.013889      50.0  70.0  140.0   p1,p2,p3,p4                  0.100000   \n",
      "43  0.013889      50.0  70.0  140.0   p1,p2,p3,p4                  0.100000   \n",
      "44  0.013889      50.0  70.0  140.0   p1,p2,p3,p4                  0.100000   \n",
      "45  0.013889      50.0  70.0  140.0   p1,p2,p3,p4                  0.100000   \n",
      "46  0.013889      50.0  70.0  140.0   p1,p2,p3,p4                  0.100000   \n",
      "47  0.013889      50.0  70.0  140.0   p1,p2,p3,p4                  0.100000   \n",
      "48  0.013889      50.0  70.0  140.0   p1,p2,p3,p4                  0.100000   \n",
      "49  0.013889      50.0  70.0  140.0   p1,p2,p3,p4                  0.100000   \n",
      "50  0.013889      50.0  70.0  140.0   p1,p2,p3,p4                  0.100000   \n",
      "51  0.013889      50.0  70.0  140.0   p1,p2,p3,p4                  0.100000   \n",
      "52  0.013889      50.0  70.0  140.0   p1,p2,p3,p4                  0.100000   \n",
      "53  0.013889      50.0  70.0  140.0   p1,p2,p3,p4                  0.100000   \n",
      "54  0.013889      50.0  70.0  140.0   p1,p2,p3,p4                  0.100000   \n",
      "55  0.013889      50.0  70.0  140.0   p1,p2,p3,p4                  0.100000   \n",
      "56  0.002778      10.0  70.0  140.0         p1,p5                  0.233333   \n",
      "57  0.002778      10.0  70.0  140.0         p1,p5                  0.233333   \n",
      "58  0.002778      10.0  70.0  140.0         p1,p5                  0.233333   \n",
      "59  0.002778      10.0  70.0  140.0         p1,p5                  0.233333   \n",
      "60  0.002778      10.0  70.0  140.0         p1,p5                  0.233333   \n",
      "61  0.002778      10.0  70.0  140.0         p1,p5                  0.233333   \n",
      "62  0.002778      10.0  70.0  140.0         p1,p5                  0.233333   \n",
      "63  0.002778      10.0  70.0  140.0         p1,p5                  0.233333   \n",
      "64  0.002778      10.0  70.0  140.0         p1,p5                  0.233333   \n",
      "65  0.002778      10.0  70.0  140.0         p1,p5                  0.233333   \n",
      "66  0.002778      10.0  70.0  140.0         p1,p5                  0.233333   \n",
      "67  0.002778      10.0  70.0  140.0         p1,p5                  0.233333   \n",
      "68  0.002778      10.0  70.0  140.0         p1,p5                  0.233333   \n",
      "69  0.002778      10.0  70.0  140.0         p1,p5                  0.233333   \n",
      "70  0.027778     100.0  60.0  140.0      p1,p2,p6                  0.030000   \n",
      "71  0.027778     100.0  60.0  140.0      p1,p2,p6                  0.030000   \n",
      "72  0.027778     100.0  60.0  140.0      p1,p2,p6                  0.030000   \n",
      "73  0.027778     100.0  60.0  140.0      p1,p2,p6                  0.030000   \n",
      "74  0.027778     100.0  60.0  140.0      p1,p2,p6                  0.030000   \n",
      "75  0.027778     100.0  60.0  140.0      p1,p2,p6                  0.030000   \n",
      "76  0.027778     100.0  60.0  140.0      p1,p2,p6                  0.030000   \n",
      "77  0.027778     100.0  60.0  140.0      p1,p2,p6                  0.030000   \n",
      "78  0.027778     100.0  60.0  140.0      p1,p2,p6                  0.030000   \n",
      "79  0.027778     100.0  60.0  140.0      p1,p2,p6                  0.030000   \n",
      "80  0.027778     100.0  60.0  140.0      p1,p2,p6                  0.030000   \n",
      "81  0.027778     100.0  60.0  140.0      p1,p2,p6                  0.030000   \n",
      "82  0.027778     100.0  60.0  140.0      p1,p2,p6                  0.030000   \n",
      "83  0.027778     100.0  60.0  140.0      p1,p2,p6                  0.030000   \n",
      "\n",
      "    headloss_per_m    lp_vars      Results original_pipe_id  \n",
      "0     2.081571e+02  p1_0.0254     0.000000               p1  \n",
      "1     7.116307e+00  p1_0.0508     0.000000               p1  \n",
      "2     9.876880e-01  p1_0.0762     0.000000               p1  \n",
      "3     2.432866e-01  p1_0.1016     0.000000               p1  \n",
      "4     3.376629e-02  p1_0.1524   145.451680               p1  \n",
      "5     8.317287e-03  p1_0.2032   854.548320               p1  \n",
      "6     2.805376e-03   p1_0.254     0.000000               p1  \n",
      "7     1.154375e-03  p1_0.3048     0.000000               p1  \n",
      "8     5.448653e-04  p1_0.3556     0.000000               p1  \n",
      "9     2.843447e-04  p1_0.4064     0.000000               p1  \n",
      "10    1.602182e-04  p1_0.4572     0.000000               p1  \n",
      "11    9.590796e-05   p1_0.508     0.000000               p1  \n",
      "12    6.029145e-05  p1_0.5588     0.000000               p1  \n",
      "13    3.946484e-05  p1_0.6096     0.000000               p1  \n",
      "14    1.847064e+02  p2_0.0254     0.000000               p2  \n",
      "15    6.314594e+00  p2_0.0508     0.000000               p2  \n",
      "16    8.764166e-01  p2_0.0762     0.000000               p2  \n",
      "17    2.158783e-01  p2_0.1016     0.000000               p2  \n",
      "18    2.996223e-02  p2_0.1524   500.000000               p2  \n",
      "19    7.380274e-03  p2_0.2032     0.000000               p2  \n",
      "20    2.489327e-03   p2_0.254     0.000000               p2  \n",
      "21    1.024325e-03  p2_0.3048     0.000000               p2  \n",
      "22    4.834816e-04  p2_0.3556     0.000000               p2  \n",
      "23    2.523109e-04  p2_0.4064     0.000000               p2  \n",
      "24    1.421683e-04  p2_0.4572     0.000000               p2  \n",
      "25    8.510311e-05   p2_0.508     0.000000               p2  \n",
      "26    5.349911e-05  p2_0.5588     0.000000               p2  \n",
      "27    3.501879e-05  p2_0.6096     0.000000               p2  \n",
      "28    2.414646e+01  p3_0.0254     0.000000               p3  \n",
      "29    8.254996e-01  p3_0.0508     0.000000               p3  \n",
      "30    1.145729e-01  p3_0.0762     0.000000               p3  \n",
      "31    2.822152e-02  p3_0.1016   200.000000               p3  \n",
      "32    3.916927e-03  p3_0.1524     0.000000               p3  \n",
      "33    9.648147e-04  p3_0.2032     0.000000               p3  \n",
      "34    3.254268e-04   p3_0.254     0.000000               p3  \n",
      "35    1.339088e-04  p3_0.3048     0.000000               p3  \n",
      "36    6.320499e-05  p3_0.3556     0.000000               p3  \n",
      "37    3.298431e-05  p3_0.4064     0.000000               p3  \n",
      "38    1.858550e-05  p3_0.4572     0.000000               p3  \n",
      "39    1.112543e-05   p3_0.508     0.000000               p3  \n",
      "40    6.993876e-06  p3_0.5588     0.000000               p3  \n",
      "41    4.577966e-06  p3_0.6096     0.000000               p3  \n",
      "42    2.414646e+01  p4_0.0254     0.000000               p4  \n",
      "43    8.254996e-01  p4_0.0508     0.000000               p4  \n",
      "44    1.145729e-01  p4_0.0762   169.083890               p4  \n",
      "45    2.822152e-02  p4_0.1016   530.916110               p4  \n",
      "46    3.916927e-03  p4_0.1524     0.000000               p4  \n",
      "47    9.648147e-04  p4_0.2032     0.000000               p4  \n",
      "48    3.254268e-04   p4_0.254     0.000000               p4  \n",
      "49    1.339088e-04  p4_0.3048     0.000000               p4  \n",
      "50    6.320499e-05  p4_0.3556     0.000000               p4  \n",
      "51    3.298431e-05  p4_0.4064     0.000000               p4  \n",
      "52    1.858550e-05  p4_0.4572     0.000000               p4  \n",
      "53    1.112543e-05   p4_0.508     0.000000               p4  \n",
      "54    6.993876e-06  p4_0.5588     0.000000               p4  \n",
      "55    4.577966e-06  p4_0.6096     0.000000               p4  \n",
      "56    1.225634e+00  p5_0.0254    35.828011               p5  \n",
      "57    4.190101e-02  p5_0.0508   264.171990               p5  \n",
      "58    5.815534e-03  p5_0.0762     0.000000               p5  \n",
      "59    1.432478e-03  p5_0.1016     0.000000               p5  \n",
      "60    1.988168e-04  p5_0.1524     0.000000               p5  \n",
      "61    4.897241e-05  p5_0.2032     0.000000               p5  \n",
      "62    1.651813e-05   p5_0.254     0.000000               p5  \n",
      "63    6.796989e-06  p5_0.3048     0.000000               p5  \n",
      "64    3.208182e-06  p5_0.3556     0.000000               p5  \n",
      "65    1.674229e-06  p5_0.4064     0.000000               p5  \n",
      "66    9.433693e-07  p5_0.4572     0.000000               p5  \n",
      "67    5.647087e-07   p5_0.508     0.000000               p5  \n",
      "68    3.549977e-07  p5_0.5588     0.000000               p5  \n",
      "69    2.323700e-07  p5_0.6096     0.000000               p5  \n",
      "70    8.716877e+01  p6_0.0254     0.000000               p6  \n",
      "71    2.980056e+00  p6_0.0508     0.000000               p6  \n",
      "72    4.136086e-01  p6_0.0762     0.000000               p6  \n",
      "73    1.018798e-01  p6_0.1016    19.600726               p6  \n",
      "74    1.414012e-02  p6_0.1524  1980.399300               p6  \n",
      "75    3.482984e-03  p6_0.2032     0.000000               p6  \n",
      "76    1.174792e-03   p6_0.254     0.000000               p6  \n",
      "77    4.834111e-04  p6_0.3048     0.000000               p6  \n",
      "78    2.281702e-04  p6_0.3556     0.000000               p6  \n",
      "79    1.190735e-04  p6_0.4064     0.000000               p6  \n",
      "80    6.709370e-05  p6_0.4572     0.000000               p6  \n",
      "81    4.016284e-05   p6_0.508     0.000000               p6  \n",
      "82    2.524791e-05  p6_0.5588     0.000000               p6  \n",
      "83    1.652647e-05  p6_0.6096     0.000000               p6  \n",
      "\n",
      "total_cost_of_operation: 72669.09932800001\n",
      "branches_end: ['p1_0,p1_1,p2_0,p3_0,p4_0,p4_1', 'p1_0,p1_1,p5_0,p5_1', 'p1_0,p1_1,p2_0,p6_0,p6_1']\n",
      "results_branch: {'p1_0,p1_1,p2_0,p3_0,p4_0,p4_1':     var_name Pipe_ID  Diameter_m  cost_USD_per_meter Start_Junction  \\\n",
      "0  p1_0.1524      p1      0.1524                16.0         source   \n",
      "1  p1_0.2032      p1      0.2032                23.0         source   \n",
      "2  p2_0.1524      p2      0.1524                16.0              a   \n",
      "3  p3_0.1016      p3      0.1016                11.0              b   \n",
      "4  p4_0.0762      p4      0.0762                 8.0              c   \n",
      "5  p4_0.1016      p4      0.1016                11.0              c   \n",
      "\n",
      "  End_Junction  length_m  cost_USD  End_Junction_Elevation_m  static_head  \\\n",
      "0            a    1000.0   16000.0                     250.0        300.0   \n",
      "1            a    1000.0   23000.0                     250.0        300.0   \n",
      "2            b     500.0    8000.0                     270.0        300.0   \n",
      "3            c     200.0    2200.0                     250.0        300.0   \n",
      "4           v1     700.0    5600.0                     230.0        300.0   \n",
      "5           v1     700.0    7700.0                     230.0        300.0   \n",
      "\n",
      "   Flow_cms  flow_cmh    dz    hwc end_junc_path  hydraulic_gradient_per_m  \\\n",
      "0  0.044444     160.0  50.0  140.0            p1                      0.05   \n",
      "1  0.044444     160.0  50.0  140.0            p1                      0.05   \n",
      "2  0.041667     150.0  30.0  140.0         p1,p2                      0.06   \n",
      "3  0.013889      50.0  50.0  140.0      p1,p2,p3                      0.25   \n",
      "4  0.013889      50.0  70.0  140.0   p1,p2,p3,p4                      0.10   \n",
      "5  0.013889      50.0  70.0  140.0   p1,p2,p3,p4                      0.10   \n",
      "\n",
      "   headloss_per_m    lp_vars    Results original_pipe_id pipe_updated  \\\n",
      "0        0.033766  p1_0.1524  145.45168               p1         p1_0   \n",
      "1        0.008317  p1_0.2032  854.54832               p1         p1_1   \n",
      "2        0.029962  p2_0.1524  500.00000               p2         p2_0   \n",
      "3        0.028222  p3_0.1016  200.00000               p3         p3_0   \n",
      "4        0.114573  p4_0.0762  169.08389               p4         p4_0   \n",
      "5        0.028222  p4_0.1016  530.91611               p4         p4_1   \n",
      "\n",
      "                    updated_path  branch_end   headloss  corrected_dz  \\\n",
      "0                           p1_0           0   4.911363      7.272584   \n",
      "1                      p1_0,p1_1           0   7.107523     42.727416   \n",
      "2                 p1_0,p1_1,p2_0           0  14.981114     30.000000   \n",
      "3            p1_0,p1_1,p2_0,p3_0           0   5.644304     50.000000   \n",
      "4       p1_0,p1_1,p2_0,p3_0,p4_0           0  19.372437     16.908389   \n",
      "5  p1_0,p1_1,p2_0,p3_0,p4_0,p4_1           1  14.983260     53.091611   \n",
      "\n",
      "   Diameter_mm  flow_cms  total_head_losses  Total_Head_m  Pressure_Head_m  \\\n",
      "0     0.000152  0.044444           4.911363    295.088637        45.088637   \n",
      "1     0.000203  0.044444          12.018886    287.981114        37.981114   \n",
      "2     0.000152  0.041667          27.000000    273.000000         3.000000   \n",
      "3     0.000102  0.013889          32.644304    267.355696        17.355696   \n",
      "4     0.000076  0.013889          52.016741    247.983259        17.983259   \n",
      "5     0.000102  0.013889          67.000000    233.000000         3.000000   \n",
      "\n",
      "   Velocity_m_s  Distance_from_Source_m  sort_index  \n",
      "0      2.436451               145.45168         1.0  \n",
      "1      1.370504              1000.00000         2.0  \n",
      "2      2.284173              1500.00000         3.0  \n",
      "3      1.713130              1700.00000         4.0  \n",
      "4      3.045564              1869.08389         5.0  \n",
      "5      1.713130              2400.00000         6.0  , 'p1_0,p1_1,p5_0,p5_1':     var_name Pipe_ID  Diameter_m  cost_USD_per_meter Start_Junction  \\\n",
      "0  p1_0.1524      p1      0.1524                16.0         source   \n",
      "1  p1_0.2032      p1      0.2032                23.0         source   \n",
      "6  p5_0.0254      p5      0.0254                 2.0              a   \n",
      "7  p5_0.0508      p5      0.0508                 5.0              a   \n",
      "\n",
      "  End_Junction  length_m  cost_USD  End_Junction_Elevation_m  static_head  \\\n",
      "0            a    1000.0   16000.0                     250.0        300.0   \n",
      "1            a    1000.0   23000.0                     250.0        300.0   \n",
      "6           v2     300.0     600.0                     230.0        300.0   \n",
      "7           v2     300.0    1500.0                     230.0        300.0   \n",
      "\n",
      "   Flow_cms  flow_cmh    dz    hwc end_junc_path  hydraulic_gradient_per_m  \\\n",
      "0  0.044444     160.0  50.0  140.0            p1                  0.050000   \n",
      "1  0.044444     160.0  50.0  140.0            p1                  0.050000   \n",
      "6  0.002778      10.0  70.0  140.0         p1,p5                  0.233333   \n",
      "7  0.002778      10.0  70.0  140.0         p1,p5                  0.233333   \n",
      "\n",
      "   headloss_per_m    lp_vars     Results original_pipe_id pipe_updated  \\\n",
      "0        0.033766  p1_0.1524  145.451680               p1         p1_0   \n",
      "1        0.008317  p1_0.2032  854.548320               p1         p1_1   \n",
      "6        1.225634  p5_0.0254   35.828011               p5         p5_0   \n",
      "7        0.041901  p5_0.0508  264.171990               p5         p5_1   \n",
      "\n",
      "          updated_path  branch_end   headloss  corrected_dz  Diameter_mm  \\\n",
      "0                 p1_0           0   4.911363      7.272584     0.000152   \n",
      "1            p1_0,p1_1           0   7.107523     42.727416     0.000203   \n",
      "6       p1_0,p1_1,p5_0           0  43.912042      8.359869     0.000025   \n",
      "7  p1_0,p1_1,p5_0,p5_1           1  11.069072     61.640131     0.000051   \n",
      "\n",
      "   flow_cms  total_head_losses  Total_Head_m  Pressure_Head_m  Velocity_m_s  \\\n",
      "0  0.044444           4.911363    295.088637        45.088637      2.436451   \n",
      "1  0.044444          12.018886    287.981114        37.981114      1.370504   \n",
      "6  0.002778          55.930928    244.069072        14.069072      5.482015   \n",
      "7  0.002778          67.000000    233.000000         3.000000      1.370504   \n",
      "\n",
      "   Distance_from_Source_m  sort_index  \n",
      "0              145.451680         1.0  \n",
      "1             1000.000000         2.0  \n",
      "6             1035.828011         3.0  \n",
      "7             1300.000001         4.0  , 'p1_0,p1_1,p2_0,p6_0,p6_1':     var_name Pipe_ID  Diameter_m  cost_USD_per_meter Start_Junction  \\\n",
      "0  p1_0.1524      p1      0.1524                16.0         source   \n",
      "1  p1_0.2032      p1      0.2032                23.0         source   \n",
      "2  p2_0.1524      p2      0.1524                16.0              a   \n",
      "8  p6_0.1016      p6      0.1016                11.0              b   \n",
      "9  p6_0.1524      p6      0.1524                16.0              b   \n",
      "\n",
      "  End_Junction  length_m  cost_USD  End_Junction_Elevation_m  static_head  \\\n",
      "0            a    1000.0   16000.0                     250.0        300.0   \n",
      "1            a    1000.0   23000.0                     250.0        300.0   \n",
      "2            b     500.0    8000.0                     270.0        300.0   \n",
      "8           v3    2000.0   22000.0                     240.0        300.0   \n",
      "9           v3    2000.0   32000.0                     240.0        300.0   \n",
      "\n",
      "   Flow_cms  flow_cmh    dz    hwc end_junc_path  hydraulic_gradient_per_m  \\\n",
      "0  0.044444     160.0  50.0  140.0            p1                      0.05   \n",
      "1  0.044444     160.0  50.0  140.0            p1                      0.05   \n",
      "2  0.041667     150.0  30.0  140.0         p1,p2                      0.06   \n",
      "8  0.027778     100.0  60.0  140.0      p1,p2,p6                      0.03   \n",
      "9  0.027778     100.0  60.0  140.0      p1,p2,p6                      0.03   \n",
      "\n",
      "   headloss_per_m    lp_vars      Results original_pipe_id pipe_updated  \\\n",
      "0        0.033766  p1_0.1524   145.451680               p1         p1_0   \n",
      "1        0.008317  p1_0.2032   854.548320               p1         p1_1   \n",
      "2        0.029962  p2_0.1524   500.000000               p2         p2_0   \n",
      "8        0.101880  p6_0.1016    19.600726               p6         p6_0   \n",
      "9        0.014140  p6_0.1524  1980.399300               p6         p6_1   \n",
      "\n",
      "               updated_path  branch_end   headloss  corrected_dz  Diameter_mm  \\\n",
      "0                      p1_0           0   4.911363      7.272584     0.000152   \n",
      "1                 p1_0,p1_1           0   7.107523     42.727416     0.000203   \n",
      "2            p1_0,p1_1,p2_0           0  14.981114     30.000000     0.000152   \n",
      "8       p1_0,p1_1,p2_0,p6_0           0   1.996917      0.588022     0.000102   \n",
      "9  p1_0,p1_1,p2_0,p6_0,p6_1           1  28.003083     59.411979     0.000152   \n",
      "\n",
      "   flow_cms  total_head_losses  Total_Head_m  Pressure_Head_m  Velocity_m_s  \\\n",
      "0  0.044444           4.911363    295.088637        45.088637      2.436451   \n",
      "1  0.044444          12.018886    287.981114        37.981114      1.370504   \n",
      "2  0.041667          27.000000    273.000000         3.000000      2.284173   \n",
      "8  0.027778          28.996917    271.003083        31.003083      3.426259   \n",
      "9  0.027778          57.000000    243.000000         3.000000      1.522782   \n",
      "\n",
      "   Distance_from_Source_m  sort_index  \n",
      "0              145.451680         1.0  \n",
      "1             1000.000000         2.0  \n",
      "2             1500.000000         3.0  \n",
      "8             1519.600726         4.0  \n",
      "9             3500.000026         5.0  }\n",
      "df_res:\n",
      "    var_name Pipe_ID  Diameter_m  cost_USD_per_meter Start_Junction  \\\n",
      "0  p1_0.1524      p1      0.1524                16.0         source   \n",
      "1  p1_0.2032      p1      0.2032                23.0         source   \n",
      "2  p2_0.1524      p2      0.1524                16.0              a   \n",
      "3  p3_0.1016      p3      0.1016                11.0              b   \n",
      "4  p4_0.0762      p4      0.0762                 8.0              c   \n",
      "5  p4_0.1016      p4      0.1016                11.0              c   \n",
      "6  p5_0.0254      p5      0.0254                 2.0              a   \n",
      "7  p5_0.0508      p5      0.0508                 5.0              a   \n",
      "8  p6_0.1016      p6      0.1016                11.0              b   \n",
      "9  p6_0.1524      p6      0.1524                16.0              b   \n",
      "\n",
      "  End_Junction  length_m  cost_USD  End_Junction_Elevation_m  static_head  \\\n",
      "0            a    1000.0   16000.0                     250.0        300.0   \n",
      "1            a    1000.0   23000.0                     250.0        300.0   \n",
      "2            b     500.0    8000.0                     270.0        300.0   \n",
      "3            c     200.0    2200.0                     250.0        300.0   \n",
      "4           v1     700.0    5600.0                     230.0        300.0   \n",
      "5           v1     700.0    7700.0                     230.0        300.0   \n",
      "6           v2     300.0     600.0                     230.0        300.0   \n",
      "7           v2     300.0    1500.0                     230.0        300.0   \n",
      "8           v3    2000.0   22000.0                     240.0        300.0   \n",
      "9           v3    2000.0   32000.0                     240.0        300.0   \n",
      "\n",
      "   Flow_cms  flow_cmh    dz    hwc end_junc_path  hydraulic_gradient_per_m  \\\n",
      "0  0.044444     160.0  50.0  140.0            p1                  0.050000   \n",
      "1  0.044444     160.0  50.0  140.0            p1                  0.050000   \n",
      "2  0.041667     150.0  30.0  140.0         p1,p2                  0.060000   \n",
      "3  0.013889      50.0  50.0  140.0      p1,p2,p3                  0.250000   \n",
      "4  0.013889      50.0  70.0  140.0   p1,p2,p3,p4                  0.100000   \n",
      "5  0.013889      50.0  70.0  140.0   p1,p2,p3,p4                  0.100000   \n",
      "6  0.002778      10.0  70.0  140.0         p1,p5                  0.233333   \n",
      "7  0.002778      10.0  70.0  140.0         p1,p5                  0.233333   \n",
      "8  0.027778     100.0  60.0  140.0      p1,p2,p6                  0.030000   \n",
      "9  0.027778     100.0  60.0  140.0      p1,p2,p6                  0.030000   \n",
      "\n",
      "   headloss_per_m    lp_vars      Results original_pipe_id pipe_updated  \\\n",
      "0        0.033766  p1_0.1524   145.451680               p1         p1_0   \n",
      "1        0.008317  p1_0.2032   854.548320               p1         p1_1   \n",
      "2        0.029962  p2_0.1524   500.000000               p2         p2_0   \n",
      "3        0.028222  p3_0.1016   200.000000               p3         p3_0   \n",
      "4        0.114573  p4_0.0762   169.083890               p4         p4_0   \n",
      "5        0.028222  p4_0.1016   530.916110               p4         p4_1   \n",
      "6        1.225634  p5_0.0254    35.828011               p5         p5_0   \n",
      "7        0.041901  p5_0.0508   264.171990               p5         p5_1   \n",
      "8        0.101880  p6_0.1016    19.600726               p6         p6_0   \n",
      "9        0.014140  p6_0.1524  1980.399300               p6         p6_1   \n",
      "\n",
      "                    updated_path  branch_end   headloss  corrected_dz  \\\n",
      "0                           p1_0           0   4.911363      7.272584   \n",
      "1                      p1_0,p1_1           0   7.107523     42.727416   \n",
      "2                 p1_0,p1_1,p2_0           0  14.981114     30.000000   \n",
      "3            p1_0,p1_1,p2_0,p3_0           0   5.644304     50.000000   \n",
      "4       p1_0,p1_1,p2_0,p3_0,p4_0           0  19.372437     16.908389   \n",
      "5  p1_0,p1_1,p2_0,p3_0,p4_0,p4_1           1  14.983260     53.091611   \n",
      "6                 p1_0,p1_1,p5_0           0  43.912042      8.359869   \n",
      "7            p1_0,p1_1,p5_0,p5_1           1  11.069072     61.640131   \n",
      "8            p1_0,p1_1,p2_0,p6_0           0   1.996917      0.588022   \n",
      "9       p1_0,p1_1,p2_0,p6_0,p6_1           1  28.003083     59.411979   \n",
      "\n",
      "   Diameter_mm  flow_cms  total_head_losses  Total_Head_m  Pressure_Head_m  \\\n",
      "0     0.000152  0.044444           4.911363    295.088637        45.088637   \n",
      "1     0.000203  0.044444          12.018886    287.981114        37.981114   \n",
      "2     0.000152  0.041667          27.000000    273.000000         3.000000   \n",
      "3     0.000102  0.013889          32.644304    267.355696        17.355696   \n",
      "4     0.000076  0.013889          52.016741    247.983259        17.983259   \n",
      "5     0.000102  0.013889          67.000000    233.000000         3.000000   \n",
      "6     0.000025  0.002778          55.930928    244.069072        14.069072   \n",
      "7     0.000051  0.002778          67.000000    233.000000         3.000000   \n",
      "8     0.000102  0.027778          28.996917    271.003083        31.003083   \n",
      "9     0.000152  0.027778          57.000000    243.000000         3.000000   \n",
      "\n",
      "   Velocity_m_s  Distance_from_Source_m  \n",
      "0      2.436451              145.451680  \n",
      "1      1.370504             1000.000000  \n",
      "2      2.284173             1500.000000  \n",
      "3      1.713130             1700.000000  \n",
      "4      3.045564             1869.083890  \n",
      "5      1.713130             2400.000000  \n",
      "6      5.482015             1035.828011  \n",
      "7      1.370504             1300.000001  \n",
      "8      3.426259             1519.600726  \n",
      "9      1.522782             3500.000026  \n",
      "\n",
      "pipes_summery:\n",
      "  Pipe_ID  Diameter_mm  Velocity_m_s  length_m  flow_cmh   headloss\n",
      "0      p1     0.000152      2.436451    1000.0     160.0   4.911363\n",
      "1      p1     0.000203      1.370504    1000.0     160.0   7.107523\n",
      "2      p2     0.000152      2.284173     500.0     150.0  14.981114\n",
      "3      p3     0.000102      1.713130     200.0      50.0   5.644304\n",
      "4      p4     0.000076      3.045564     700.0      50.0  19.372437\n",
      "5      p4     0.000102      1.713130     700.0      50.0  14.983260\n",
      "6      p5     0.000025      5.482015     300.0      10.0  43.912042\n",
      "7      p5     0.000051      1.370504     300.0      10.0  11.069072\n",
      "8      p6     0.000102      3.426259    2000.0     100.0   1.996917\n",
      "9      p6     0.000152      1.522782    2000.0     100.0  28.003083\n",
      "\n"
     ]
    }
   ],
   "execution_count": 3,
   "source": [
    "from branch_calculation.optimizer import classic_optimal_diameter_optimization\n",
    "from branch_calculation.plots import plot_branches\n",
    "\n",
    "\n",
    "(print('=== Classic Optimization for optimal diameter  ==='))\n",
    "# perform classic optimization\n",
    "results = classic_optimal_diameter_optimization(net, pipe_prices, minimum_pressure_constraint = 2)\n",
    "print('The available keys in results are:')\n",
    "print(results.keys())\n",
    "plot_branches(results['results_branch'], minimum_pressure_constraint=2)\n",
    "\n",
    "(print('Here are the available keys in results through \"classic_optimal_diameter_optimization\" function:'))\n",
    "\n",
    "for key, value in results.items():\n",
    "    if isinstance(value, pd.DataFrame):\n",
    "        print(f\"{key}:\\n{value}\\n\")\n",
    "    else:\n",
    "        print(f\"{key}: {value}\")\n",
    "\n",
    "\n",
    "\n"
   ],
   "id": "724827d0b9b06dba"
  }
 ],
 "metadata": {},
 "nbformat": 4,
 "nbformat_minor": 5
}
